{
  "cells": [
    {
      "cell_type": "markdown",
      "metadata": {},
      "source": [
        "**Proyecto Individual 1**\n",
        "\n",
        "  ETL archivo: australian_users_reviews.jason "
      ]
    },
    {
      "cell_type": "markdown",
      "metadata": {},
      "source": [
        "**IMPORTO LIBRERIAS**"
      ]
    },
    {
      "cell_type": "code",
      "execution_count": 1,
      "metadata": {
        "colab": {
          "base_uri": "https://localhost:8080/"
        },
        "id": "4_1Zh1XcRj_K",
        "outputId": "f87a15c7-d439-409d-9c15-a81ac425e922"
      },
      "outputs": [],
      "source": [
        "\n",
        "import ast              # module Abstract Syntax Trees\n",
        "import json             # module json encoder and decoder\n",
        "import pandas as pd     # module panda Data Analysis Library\n",
        "import nltk             # module nlkt - natural language toolkit\n"
      ]
    },
    {
      "cell_type": "markdown",
      "metadata": {},
      "source": [
        "**CARGO ARCHIVO JSON A UN DATAFRAME**"
      ]
    },
    {
      "cell_type": "code",
      "execution_count": 2,
      "metadata": {},
      "outputs": [],
      "source": [
        "# list items\n",
        "reviews = []\n",
        "# open file json\n",
        "with open('..\\\\JSON\\\\australian_user_reviews.json', 'r', encoding='utf-8') as f:\n",
        "    # loop for insert data into list\n",
        "    for line in f.readlines():\n",
        "        reviews.append(ast.literal_eval(line))\n",
        "# create data frame with data\n",
        "df = pd.DataFrame(reviews)\n",
        "\n",
        "\n",
        "# tardo 4.5s\n"
      ]
    },
    {
      "cell_type": "code",
      "execution_count": 3,
      "metadata": {},
      "outputs": [
        {
          "data": {
            "text/html": [
              "<div>\n",
              "<style scoped>\n",
              "    .dataframe tbody tr th:only-of-type {\n",
              "        vertical-align: middle;\n",
              "    }\n",
              "\n",
              "    .dataframe tbody tr th {\n",
              "        vertical-align: top;\n",
              "    }\n",
              "\n",
              "    .dataframe thead th {\n",
              "        text-align: right;\n",
              "    }\n",
              "</style>\n",
              "<table border=\"1\" class=\"dataframe\">\n",
              "  <thead>\n",
              "    <tr style=\"text-align: right;\">\n",
              "      <th></th>\n",
              "      <th>user_id</th>\n",
              "      <th>user_url</th>\n",
              "      <th>reviews</th>\n",
              "    </tr>\n",
              "  </thead>\n",
              "  <tbody>\n",
              "    <tr>\n",
              "      <th>0</th>\n",
              "      <td>76561197970982479</td>\n",
              "      <td>http://steamcommunity.com/profiles/76561197970...</td>\n",
              "      <td>[{'funny': '', 'posted': 'Posted November 5, 2...</td>\n",
              "    </tr>\n",
              "    <tr>\n",
              "      <th>1</th>\n",
              "      <td>js41637</td>\n",
              "      <td>http://steamcommunity.com/id/js41637</td>\n",
              "      <td>[{'funny': '', 'posted': 'Posted June 24, 2014...</td>\n",
              "    </tr>\n",
              "    <tr>\n",
              "      <th>2</th>\n",
              "      <td>evcentric</td>\n",
              "      <td>http://steamcommunity.com/id/evcentric</td>\n",
              "      <td>[{'funny': '', 'posted': 'Posted February 3.',...</td>\n",
              "    </tr>\n",
              "    <tr>\n",
              "      <th>3</th>\n",
              "      <td>doctr</td>\n",
              "      <td>http://steamcommunity.com/id/doctr</td>\n",
              "      <td>[{'funny': '', 'posted': 'Posted October 14, 2...</td>\n",
              "    </tr>\n",
              "    <tr>\n",
              "      <th>4</th>\n",
              "      <td>maplemage</td>\n",
              "      <td>http://steamcommunity.com/id/maplemage</td>\n",
              "      <td>[{'funny': '3 people found this review funny',...</td>\n",
              "    </tr>\n",
              "  </tbody>\n",
              "</table>\n",
              "</div>"
            ],
            "text/plain": [
              "             user_id                                           user_url  \\\n",
              "0  76561197970982479  http://steamcommunity.com/profiles/76561197970...   \n",
              "1            js41637               http://steamcommunity.com/id/js41637   \n",
              "2          evcentric             http://steamcommunity.com/id/evcentric   \n",
              "3              doctr                 http://steamcommunity.com/id/doctr   \n",
              "4          maplemage             http://steamcommunity.com/id/maplemage   \n",
              "\n",
              "                                             reviews  \n",
              "0  [{'funny': '', 'posted': 'Posted November 5, 2...  \n",
              "1  [{'funny': '', 'posted': 'Posted June 24, 2014...  \n",
              "2  [{'funny': '', 'posted': 'Posted February 3.',...  \n",
              "3  [{'funny': '', 'posted': 'Posted October 14, 2...  \n",
              "4  [{'funny': '3 people found this review funny',...  "
            ]
          },
          "execution_count": 3,
          "metadata": {},
          "output_type": "execute_result"
        }
      ],
      "source": [
        "# Muestra los primeros 5 registros\n",
        "df.head(5)"
      ]
    },
    {
      "cell_type": "markdown",
      "metadata": {},
      "source": []
    },
    {
      "cell_type": "markdown",
      "metadata": {},
      "source": [
        "**CONVIERTO LA LISTA EN EL CAMPO REVIEWS EN COLUMNAS**"
      ]
    },
    {
      "cell_type": "code",
      "execution_count": 4,
      "metadata": {},
      "outputs": [
        {
          "data": {
            "text/html": [
              "<div>\n",
              "<style scoped>\n",
              "    .dataframe tbody tr th:only-of-type {\n",
              "        vertical-align: middle;\n",
              "    }\n",
              "\n",
              "    .dataframe tbody tr th {\n",
              "        vertical-align: top;\n",
              "    }\n",
              "\n",
              "    .dataframe thead th {\n",
              "        text-align: right;\n",
              "    }\n",
              "</style>\n",
              "<table border=\"1\" class=\"dataframe\">\n",
              "  <thead>\n",
              "    <tr style=\"text-align: right;\">\n",
              "      <th></th>\n",
              "      <th>user_id</th>\n",
              "      <th>user_url</th>\n",
              "      <th>reviews</th>\n",
              "    </tr>\n",
              "  </thead>\n",
              "  <tbody>\n",
              "    <tr>\n",
              "      <th>0</th>\n",
              "      <td>76561197970982479</td>\n",
              "      <td>http://steamcommunity.com/profiles/76561197970...</td>\n",
              "      <td>{'funny': '', 'posted': 'Posted November 5, 20...</td>\n",
              "    </tr>\n",
              "    <tr>\n",
              "      <th>0</th>\n",
              "      <td>76561197970982479</td>\n",
              "      <td>http://steamcommunity.com/profiles/76561197970...</td>\n",
              "      <td>{'funny': '', 'posted': 'Posted July 15, 2011....</td>\n",
              "    </tr>\n",
              "    <tr>\n",
              "      <th>0</th>\n",
              "      <td>76561197970982479</td>\n",
              "      <td>http://steamcommunity.com/profiles/76561197970...</td>\n",
              "      <td>{'funny': '', 'posted': 'Posted April 21, 2011...</td>\n",
              "    </tr>\n",
              "    <tr>\n",
              "      <th>1</th>\n",
              "      <td>js41637</td>\n",
              "      <td>http://steamcommunity.com/id/js41637</td>\n",
              "      <td>{'funny': '', 'posted': 'Posted June 24, 2014....</td>\n",
              "    </tr>\n",
              "    <tr>\n",
              "      <th>1</th>\n",
              "      <td>js41637</td>\n",
              "      <td>http://steamcommunity.com/id/js41637</td>\n",
              "      <td>{'funny': '', 'posted': 'Posted September 8, 2...</td>\n",
              "    </tr>\n",
              "    <tr>\n",
              "      <th>...</th>\n",
              "      <td>...</td>\n",
              "      <td>...</td>\n",
              "      <td>...</td>\n",
              "    </tr>\n",
              "    <tr>\n",
              "      <th>25797</th>\n",
              "      <td>76561198312638244</td>\n",
              "      <td>http://steamcommunity.com/profiles/76561198312...</td>\n",
              "      <td>{'funny': '', 'posted': 'Posted July 10.', 'la...</td>\n",
              "    </tr>\n",
              "    <tr>\n",
              "      <th>25797</th>\n",
              "      <td>76561198312638244</td>\n",
              "      <td>http://steamcommunity.com/profiles/76561198312...</td>\n",
              "      <td>{'funny': '', 'posted': 'Posted July 8.', 'las...</td>\n",
              "    </tr>\n",
              "    <tr>\n",
              "      <th>25798</th>\n",
              "      <td>LydiaMorley</td>\n",
              "      <td>http://steamcommunity.com/id/LydiaMorley</td>\n",
              "      <td>{'funny': '1 person found this review funny', ...</td>\n",
              "    </tr>\n",
              "    <tr>\n",
              "      <th>25798</th>\n",
              "      <td>LydiaMorley</td>\n",
              "      <td>http://steamcommunity.com/id/LydiaMorley</td>\n",
              "      <td>{'funny': '', 'posted': 'Posted July 20.', 'la...</td>\n",
              "    </tr>\n",
              "    <tr>\n",
              "      <th>25798</th>\n",
              "      <td>LydiaMorley</td>\n",
              "      <td>http://steamcommunity.com/id/LydiaMorley</td>\n",
              "      <td>{'funny': '', 'posted': 'Posted July 2.', 'las...</td>\n",
              "    </tr>\n",
              "  </tbody>\n",
              "</table>\n",
              "<p>59333 rows × 3 columns</p>\n",
              "</div>"
            ],
            "text/plain": [
              "                 user_id                                           user_url  \\\n",
              "0      76561197970982479  http://steamcommunity.com/profiles/76561197970...   \n",
              "0      76561197970982479  http://steamcommunity.com/profiles/76561197970...   \n",
              "0      76561197970982479  http://steamcommunity.com/profiles/76561197970...   \n",
              "1                js41637               http://steamcommunity.com/id/js41637   \n",
              "1                js41637               http://steamcommunity.com/id/js41637   \n",
              "...                  ...                                                ...   \n",
              "25797  76561198312638244  http://steamcommunity.com/profiles/76561198312...   \n",
              "25797  76561198312638244  http://steamcommunity.com/profiles/76561198312...   \n",
              "25798        LydiaMorley           http://steamcommunity.com/id/LydiaMorley   \n",
              "25798        LydiaMorley           http://steamcommunity.com/id/LydiaMorley   \n",
              "25798        LydiaMorley           http://steamcommunity.com/id/LydiaMorley   \n",
              "\n",
              "                                                 reviews  \n",
              "0      {'funny': '', 'posted': 'Posted November 5, 20...  \n",
              "0      {'funny': '', 'posted': 'Posted July 15, 2011....  \n",
              "0      {'funny': '', 'posted': 'Posted April 21, 2011...  \n",
              "1      {'funny': '', 'posted': 'Posted June 24, 2014....  \n",
              "1      {'funny': '', 'posted': 'Posted September 8, 2...  \n",
              "...                                                  ...  \n",
              "25797  {'funny': '', 'posted': 'Posted July 10.', 'la...  \n",
              "25797  {'funny': '', 'posted': 'Posted July 8.', 'las...  \n",
              "25798  {'funny': '1 person found this review funny', ...  \n",
              "25798  {'funny': '', 'posted': 'Posted July 20.', 'la...  \n",
              "25798  {'funny': '', 'posted': 'Posted July 2.', 'las...  \n",
              "\n",
              "[59333 rows x 3 columns]"
            ]
          },
          "execution_count": 4,
          "metadata": {},
          "output_type": "execute_result"
        }
      ],
      "source": [
        "#Convierto la lista en el campo reviews en listas separadas\n",
        "dfreviewsOpen = df.explode('reviews') \n",
        "dfreviewsOpen"
      ]
    },
    {
      "cell_type": "code",
      "execution_count": 5,
      "metadata": {},
      "outputs": [
        {
          "data": {
            "text/html": [
              "<div>\n",
              "<style scoped>\n",
              "    .dataframe tbody tr th:only-of-type {\n",
              "        vertical-align: middle;\n",
              "    }\n",
              "\n",
              "    .dataframe tbody tr th {\n",
              "        vertical-align: top;\n",
              "    }\n",
              "\n",
              "    .dataframe thead th {\n",
              "        text-align: right;\n",
              "    }\n",
              "</style>\n",
              "<table border=\"1\" class=\"dataframe\">\n",
              "  <thead>\n",
              "    <tr style=\"text-align: right;\">\n",
              "      <th></th>\n",
              "      <th>user_id</th>\n",
              "      <th>user_url</th>\n",
              "      <th>funny</th>\n",
              "      <th>posted</th>\n",
              "      <th>last_edited</th>\n",
              "      <th>item_id</th>\n",
              "      <th>helpful</th>\n",
              "      <th>recommend</th>\n",
              "      <th>review</th>\n",
              "      <th>0</th>\n",
              "    </tr>\n",
              "  </thead>\n",
              "  <tbody>\n",
              "    <tr>\n",
              "      <th>0</th>\n",
              "      <td>76561197970982479</td>\n",
              "      <td>http://steamcommunity.com/profiles/76561197970...</td>\n",
              "      <td></td>\n",
              "      <td>Posted November 5, 2011.</td>\n",
              "      <td></td>\n",
              "      <td>1250</td>\n",
              "      <td>No ratings yet</td>\n",
              "      <td>True</td>\n",
              "      <td>Simple yet with great replayability. In my opi...</td>\n",
              "      <td>NaN</td>\n",
              "    </tr>\n",
              "    <tr>\n",
              "      <th>0</th>\n",
              "      <td>76561197970982479</td>\n",
              "      <td>http://steamcommunity.com/profiles/76561197970...</td>\n",
              "      <td></td>\n",
              "      <td>Posted July 15, 2011.</td>\n",
              "      <td></td>\n",
              "      <td>22200</td>\n",
              "      <td>No ratings yet</td>\n",
              "      <td>True</td>\n",
              "      <td>It's unique and worth a playthrough.</td>\n",
              "      <td>NaN</td>\n",
              "    </tr>\n",
              "    <tr>\n",
              "      <th>0</th>\n",
              "      <td>76561197970982479</td>\n",
              "      <td>http://steamcommunity.com/profiles/76561197970...</td>\n",
              "      <td></td>\n",
              "      <td>Posted April 21, 2011.</td>\n",
              "      <td></td>\n",
              "      <td>43110</td>\n",
              "      <td>No ratings yet</td>\n",
              "      <td>True</td>\n",
              "      <td>Great atmosphere. The gunplay can be a bit chu...</td>\n",
              "      <td>NaN</td>\n",
              "    </tr>\n",
              "  </tbody>\n",
              "</table>\n",
              "</div>"
            ],
            "text/plain": [
              "             user_id                                           user_url funny  \\\n",
              "0  76561197970982479  http://steamcommunity.com/profiles/76561197970...         \n",
              "0  76561197970982479  http://steamcommunity.com/profiles/76561197970...         \n",
              "0  76561197970982479  http://steamcommunity.com/profiles/76561197970...         \n",
              "\n",
              "                     posted last_edited item_id         helpful recommend  \\\n",
              "0  Posted November 5, 2011.                1250  No ratings yet      True   \n",
              "0     Posted July 15, 2011.               22200  No ratings yet      True   \n",
              "0    Posted April 21, 2011.               43110  No ratings yet      True   \n",
              "\n",
              "                                              review   0  \n",
              "0  Simple yet with great replayability. In my opi... NaN  \n",
              "0               It's unique and worth a playthrough. NaN  \n",
              "0  Great atmosphere. The gunplay can be a bit chu... NaN  "
            ]
          },
          "execution_count": 5,
          "metadata": {},
          "output_type": "execute_result"
        }
      ],
      "source": [
        "#Modifico el df cambiando el campo reviews en tantos columnas como items tiene en la lista\n",
        "df = pd.concat([dfreviewsOpen.drop(['reviews'], axis=1), dfreviewsOpen['reviews'].apply(pd.Series)], axis=1)\n",
        "df.head(3)\n",
        "# esto tardo 29s"
      ]
    },
    {
      "cell_type": "markdown",
      "metadata": {},
      "source": [
        "**EXTRACCION DEL AÑO DE LA COLUMNA POSTED**"
      ]
    },
    {
      "cell_type": "code",
      "execution_count": 6,
      "metadata": {},
      "outputs": [],
      "source": [
        "# Extraemos de la columna Posted el año del posteo\n",
        "df['posted year'] = df['posted'].str.extract(r'(\\d{4})')\n",
        "\n",
        "# borramos la columna posted\n",
        "df.drop('posted' , axis = 1, inplace = True)"
      ]
    },
    {
      "cell_type": "code",
      "execution_count": 7,
      "metadata": {},
      "outputs": [
        {
          "data": {
            "text/html": [
              "<div>\n",
              "<style scoped>\n",
              "    .dataframe tbody tr th:only-of-type {\n",
              "        vertical-align: middle;\n",
              "    }\n",
              "\n",
              "    .dataframe tbody tr th {\n",
              "        vertical-align: top;\n",
              "    }\n",
              "\n",
              "    .dataframe thead th {\n",
              "        text-align: right;\n",
              "    }\n",
              "</style>\n",
              "<table border=\"1\" class=\"dataframe\">\n",
              "  <thead>\n",
              "    <tr style=\"text-align: right;\">\n",
              "      <th></th>\n",
              "      <th>user_id</th>\n",
              "      <th>user_url</th>\n",
              "      <th>funny</th>\n",
              "      <th>last_edited</th>\n",
              "      <th>item_id</th>\n",
              "      <th>helpful</th>\n",
              "      <th>recommend</th>\n",
              "      <th>review</th>\n",
              "      <th>0</th>\n",
              "      <th>posted year</th>\n",
              "    </tr>\n",
              "  </thead>\n",
              "  <tbody>\n",
              "    <tr>\n",
              "      <th>0</th>\n",
              "      <td>76561197970982479</td>\n",
              "      <td>http://steamcommunity.com/profiles/76561197970...</td>\n",
              "      <td></td>\n",
              "      <td></td>\n",
              "      <td>1250</td>\n",
              "      <td>No ratings yet</td>\n",
              "      <td>True</td>\n",
              "      <td>Simple yet with great replayability. In my opi...</td>\n",
              "      <td>NaN</td>\n",
              "      <td>2011</td>\n",
              "    </tr>\n",
              "  </tbody>\n",
              "</table>\n",
              "</div>"
            ],
            "text/plain": [
              "             user_id                                           user_url funny  \\\n",
              "0  76561197970982479  http://steamcommunity.com/profiles/76561197970...         \n",
              "\n",
              "  last_edited item_id         helpful recommend  \\\n",
              "0                1250  No ratings yet      True   \n",
              "\n",
              "                                              review   0 posted year  \n",
              "0  Simple yet with great replayability. In my opi... NaN        2011  "
            ]
          },
          "execution_count": 7,
          "metadata": {},
          "output_type": "execute_result"
        }
      ],
      "source": [
        "df.head(1)"
      ]
    },
    {
      "cell_type": "markdown",
      "metadata": {},
      "source": [
        "**BORRADO DE COLUMNAS**"
      ]
    },
    {
      "cell_type": "code",
      "execution_count": 8,
      "metadata": {},
      "outputs": [],
      "source": [
        "# Borrado de columnas\n",
        "#df_user_reviews = df_user_reviews.drop(df_user_reviews.columns[-1], axis=1)\n",
        "df.drop(['user_url', 'funny', 'helpful','last_edited'], axis=1, inplace=True)\n"
      ]
    },
    {
      "cell_type": "code",
      "execution_count": 9,
      "metadata": {},
      "outputs": [
        {
          "data": {
            "text/html": [
              "<div>\n",
              "<style scoped>\n",
              "    .dataframe tbody tr th:only-of-type {\n",
              "        vertical-align: middle;\n",
              "    }\n",
              "\n",
              "    .dataframe tbody tr th {\n",
              "        vertical-align: top;\n",
              "    }\n",
              "\n",
              "    .dataframe thead th {\n",
              "        text-align: right;\n",
              "    }\n",
              "</style>\n",
              "<table border=\"1\" class=\"dataframe\">\n",
              "  <thead>\n",
              "    <tr style=\"text-align: right;\">\n",
              "      <th></th>\n",
              "      <th>user_id</th>\n",
              "      <th>item_id</th>\n",
              "      <th>recommend</th>\n",
              "      <th>review</th>\n",
              "      <th>0</th>\n",
              "      <th>posted year</th>\n",
              "    </tr>\n",
              "  </thead>\n",
              "  <tbody>\n",
              "    <tr>\n",
              "      <th>0</th>\n",
              "      <td>76561197970982479</td>\n",
              "      <td>1250</td>\n",
              "      <td>True</td>\n",
              "      <td>Simple yet with great replayability. In my opi...</td>\n",
              "      <td>NaN</td>\n",
              "      <td>2011</td>\n",
              "    </tr>\n",
              "  </tbody>\n",
              "</table>\n",
              "</div>"
            ],
            "text/plain": [
              "             user_id item_id recommend  \\\n",
              "0  76561197970982479    1250      True   \n",
              "\n",
              "                                              review   0 posted year  \n",
              "0  Simple yet with great replayability. In my opi... NaN        2011  "
            ]
          },
          "execution_count": 9,
          "metadata": {},
          "output_type": "execute_result"
        }
      ],
      "source": [
        "df.head(1)"
      ]
    },
    {
      "cell_type": "code",
      "execution_count": 10,
      "metadata": {},
      "outputs": [
        {
          "data": {
            "text/html": [
              "<div>\n",
              "<style scoped>\n",
              "    .dataframe tbody tr th:only-of-type {\n",
              "        vertical-align: middle;\n",
              "    }\n",
              "\n",
              "    .dataframe tbody tr th {\n",
              "        vertical-align: top;\n",
              "    }\n",
              "\n",
              "    .dataframe thead th {\n",
              "        text-align: right;\n",
              "    }\n",
              "</style>\n",
              "<table border=\"1\" class=\"dataframe\">\n",
              "  <thead>\n",
              "    <tr style=\"text-align: right;\">\n",
              "      <th></th>\n",
              "      <th>user_id</th>\n",
              "      <th>item_id</th>\n",
              "      <th>recommend</th>\n",
              "      <th>review</th>\n",
              "      <th>posted year</th>\n",
              "    </tr>\n",
              "  </thead>\n",
              "  <tbody>\n",
              "    <tr>\n",
              "      <th>0</th>\n",
              "      <td>76561197970982479</td>\n",
              "      <td>1250</td>\n",
              "      <td>True</td>\n",
              "      <td>Simple yet with great replayability. In my opi...</td>\n",
              "      <td>2011</td>\n",
              "    </tr>\n",
              "  </tbody>\n",
              "</table>\n",
              "</div>"
            ],
            "text/plain": [
              "             user_id item_id recommend  \\\n",
              "0  76561197970982479    1250      True   \n",
              "\n",
              "                                              review posted year  \n",
              "0  Simple yet with great replayability. In my opi...        2011  "
            ]
          },
          "execution_count": 10,
          "metadata": {},
          "output_type": "execute_result"
        }
      ],
      "source": [
        "df.dropna(axis=1, how='all', inplace=True)\n",
        "df.head(1)"
      ]
    },
    {
      "cell_type": "markdown",
      "metadata": {},
      "source": [
        "**ELIMINACION REGISTROS DUPLICADOS**\n"
      ]
    },
    {
      "cell_type": "code",
      "execution_count": 11,
      "metadata": {},
      "outputs": [
        {
          "data": {
            "text/html": [
              "<div>\n",
              "<style scoped>\n",
              "    .dataframe tbody tr th:only-of-type {\n",
              "        vertical-align: middle;\n",
              "    }\n",
              "\n",
              "    .dataframe tbody tr th {\n",
              "        vertical-align: top;\n",
              "    }\n",
              "\n",
              "    .dataframe thead th {\n",
              "        text-align: right;\n",
              "    }\n",
              "</style>\n",
              "<table border=\"1\" class=\"dataframe\">\n",
              "  <thead>\n",
              "    <tr style=\"text-align: right;\">\n",
              "      <th></th>\n",
              "      <th>user_id</th>\n",
              "      <th>item_id</th>\n",
              "      <th>recommend</th>\n",
              "      <th>review</th>\n",
              "      <th>posted year</th>\n",
              "    </tr>\n",
              "  </thead>\n",
              "  <tbody>\n",
              "    <tr>\n",
              "      <th>456</th>\n",
              "      <td>bokkkbokkk</td>\n",
              "      <td>346110</td>\n",
              "      <td>True</td>\n",
              "      <td>yep</td>\n",
              "      <td>2015</td>\n",
              "    </tr>\n",
              "    <tr>\n",
              "      <th>1182</th>\n",
              "      <td>ImSeriouss</td>\n",
              "      <td>218620</td>\n",
              "      <td>True</td>\n",
              "      <td>Good graphics, fun heists! A bit laggy</td>\n",
              "      <td>2014</td>\n",
              "    </tr>\n",
              "    <tr>\n",
              "      <th>1182</th>\n",
              "      <td>ImSeriouss</td>\n",
              "      <td>105600</td>\n",
              "      <td>True</td>\n",
              "      <td>So fun! DEFINITELY NOT RIP OFF OF MINECRAFT! e...</td>\n",
              "      <td>2014</td>\n",
              "    </tr>\n",
              "    <tr>\n",
              "      <th>1182</th>\n",
              "      <td>ImSeriouss</td>\n",
              "      <td>570</td>\n",
              "      <td>True</td>\n",
              "      <td>bobo pinoy</td>\n",
              "      <td>2014</td>\n",
              "    </tr>\n",
              "    <tr>\n",
              "      <th>1182</th>\n",
              "      <td>ImSeriouss</td>\n",
              "      <td>211820</td>\n",
              "      <td>True</td>\n",
              "      <td>If you want to play this game.. expect glithes...</td>\n",
              "      <td>2014</td>\n",
              "    </tr>\n",
              "    <tr>\n",
              "      <th>...</th>\n",
              "      <td>...</td>\n",
              "      <td>...</td>\n",
              "      <td>...</td>\n",
              "      <td>...</td>\n",
              "      <td>...</td>\n",
              "    </tr>\n",
              "    <tr>\n",
              "      <th>18234</th>\n",
              "      <td>76561198092022514</td>\n",
              "      <td>422400</td>\n",
              "      <td>True</td>\n",
              "      <td>Muy entretenido y una coleccion de armas prome...</td>\n",
              "      <td>NaN</td>\n",
              "    </tr>\n",
              "    <tr>\n",
              "      <th>18234</th>\n",
              "      <td>76561198092022514</td>\n",
              "      <td>218620</td>\n",
              "      <td>True</td>\n",
              "      <td>Tiene una jugabilidad y tematica muy buena :D,...</td>\n",
              "      <td>NaN</td>\n",
              "    </tr>\n",
              "    <tr>\n",
              "      <th>18234</th>\n",
              "      <td>76561198092022514</td>\n",
              "      <td>261820</td>\n",
              "      <td>True</td>\n",
              "      <td>Buen juego, no importa el desarrrollo que tien...</td>\n",
              "      <td>2014</td>\n",
              "    </tr>\n",
              "    <tr>\n",
              "      <th>18234</th>\n",
              "      <td>76561198092022514</td>\n",
              "      <td>224260</td>\n",
              "      <td>True</td>\n",
              "      <td>exelente aporte :D¡¡¡ es una buen mod basado e...</td>\n",
              "      <td>2014</td>\n",
              "    </tr>\n",
              "    <tr>\n",
              "      <th>18309</th>\n",
              "      <td>SuchGayMuchWow</td>\n",
              "      <td>730</td>\n",
              "      <td>True</td>\n",
              "      <td>10/10 too many children with mikes.</td>\n",
              "      <td>2015</td>\n",
              "    </tr>\n",
              "  </tbody>\n",
              "</table>\n",
              "<p>874 rows × 5 columns</p>\n",
              "</div>"
            ],
            "text/plain": [
              "                 user_id item_id recommend  \\\n",
              "456           bokkkbokkk  346110      True   \n",
              "1182          ImSeriouss  218620      True   \n",
              "1182          ImSeriouss  105600      True   \n",
              "1182          ImSeriouss     570      True   \n",
              "1182          ImSeriouss  211820      True   \n",
              "...                  ...     ...       ...   \n",
              "18234  76561198092022514  422400      True   \n",
              "18234  76561198092022514  218620      True   \n",
              "18234  76561198092022514  261820      True   \n",
              "18234  76561198092022514  224260      True   \n",
              "18309     SuchGayMuchWow     730      True   \n",
              "\n",
              "                                                  review posted year  \n",
              "456                                                  yep        2015  \n",
              "1182              Good graphics, fun heists! A bit laggy        2014  \n",
              "1182   So fun! DEFINITELY NOT RIP OFF OF MINECRAFT! e...        2014  \n",
              "1182                                          bobo pinoy        2014  \n",
              "1182   If you want to play this game.. expect glithes...        2014  \n",
              "...                                                  ...         ...  \n",
              "18234  Muy entretenido y una coleccion de armas prome...         NaN  \n",
              "18234  Tiene una jugabilidad y tematica muy buena :D,...         NaN  \n",
              "18234  Buen juego, no importa el desarrrollo que tien...        2014  \n",
              "18234  exelente aporte :D¡¡¡ es una buen mod basado e...        2014  \n",
              "18309                10/10 too many children with mikes.        2015  \n",
              "\n",
              "[874 rows x 5 columns]"
            ]
          },
          "execution_count": 11,
          "metadata": {},
          "output_type": "execute_result"
        }
      ],
      "source": [
        "reg_duplicados = df[df.duplicated()]\n",
        "reg_duplicados"
      ]
    },
    {
      "cell_type": "code",
      "execution_count": 12,
      "metadata": {},
      "outputs": [],
      "source": [
        "df.drop_duplicates(inplace=True)"
      ]
    },
    {
      "cell_type": "markdown",
      "metadata": {},
      "source": [
        "**VERIFICANDO VALORES NULOS**"
      ]
    },
    {
      "cell_type": "code",
      "execution_count": 13,
      "metadata": {},
      "outputs": [
        {
          "data": {
            "text/plain": [
              "user_id           0\n",
              "item_id          28\n",
              "recommend        28\n",
              "review           28\n",
              "posted year    9961\n",
              "dtype: int64"
            ]
          },
          "execution_count": 13,
          "metadata": {},
          "output_type": "execute_result"
        }
      ],
      "source": [
        "valores_nulos_por_columna = df.isnull().sum()\n",
        "valores_nulos_por_columna"
      ]
    },
    {
      "cell_type": "markdown",
      "metadata": {},
      "source": [
        "**ANALISIS DE SENTIMIENTO**"
      ]
    },
    {
      "cell_type": "code",
      "execution_count": 14,
      "metadata": {},
      "outputs": [
        {
          "name": "stderr",
          "output_type": "stream",
          "text": [
            "[nltk_data] Downloading package vader_lexicon to\n",
            "[nltk_data]     C:\\Users\\ALUMNO\\AppData\\Roaming\\nltk_data...\n",
            "[nltk_data]   Package vader_lexicon is already up-to-date!\n"
          ]
        }
      ],
      "source": [
        "import nltk\n",
        "nltk.download('vader_lexicon')\n",
        "from nltk.sentiment.vader import SentimentIntensityAnalyzer\n",
        "\n",
        "# Inicializamos el analizador de sentimientos\n",
        "sia = SentimentIntensityAnalyzer()\n",
        "\n",
        "# Funcion para asignar valore segun la escala\n",
        "def get_sentiment_score(text):\n",
        "    if pd.isnull(text) or text == '':\n",
        "        return 1  # Return neutral si es vacio o NaN\n",
        "    elif isinstance(text, str):\n",
        "        sentiment = sia.polarity_scores(text)\n",
        "        compound_score = sentiment['compound']\n",
        "        if compound_score >= -0.05:\n",
        "            return 2  # Buen score\n",
        "        elif compound_score <= -0.05:\n",
        "            return 0  # Mal score\n",
        "        else:\n",
        "            return 1\n",
        "    else:\n",
        "        return 1  # Return neutral si no tiene valor\n",
        "\n",
        "\n",
        "# Convert column 'review' to str\n",
        "df['review'] = df['review'].astype(str)\n",
        "\n",
        "# apply function get_sentiment_score to column 'review'\n",
        "df['sentiment_analysis'] = df['review'].apply(get_sentiment_score)\n",
        "\n",
        "# esto  demoro 42s"
      ]
    },
    {
      "cell_type": "code",
      "execution_count": 15,
      "metadata": {},
      "outputs": [
        {
          "data": {
            "text/html": [
              "<div>\n",
              "<style scoped>\n",
              "    .dataframe tbody tr th:only-of-type {\n",
              "        vertical-align: middle;\n",
              "    }\n",
              "\n",
              "    .dataframe tbody tr th {\n",
              "        vertical-align: top;\n",
              "    }\n",
              "\n",
              "    .dataframe thead th {\n",
              "        text-align: right;\n",
              "    }\n",
              "</style>\n",
              "<table border=\"1\" class=\"dataframe\">\n",
              "  <thead>\n",
              "    <tr style=\"text-align: right;\">\n",
              "      <th></th>\n",
              "      <th>user_id</th>\n",
              "      <th>item_id</th>\n",
              "      <th>recommend</th>\n",
              "      <th>review</th>\n",
              "      <th>posted year</th>\n",
              "      <th>sentiment_analysis</th>\n",
              "    </tr>\n",
              "  </thead>\n",
              "  <tbody>\n",
              "    <tr>\n",
              "      <th>0</th>\n",
              "      <td>76561197970982479</td>\n",
              "      <td>1250</td>\n",
              "      <td>True</td>\n",
              "      <td>Simple yet with great replayability. In my opi...</td>\n",
              "      <td>2011</td>\n",
              "      <td>2</td>\n",
              "    </tr>\n",
              "  </tbody>\n",
              "</table>\n",
              "</div>"
            ],
            "text/plain": [
              "             user_id item_id recommend  \\\n",
              "0  76561197970982479    1250      True   \n",
              "\n",
              "                                              review posted year  \\\n",
              "0  Simple yet with great replayability. In my opi...        2011   \n",
              "\n",
              "   sentiment_analysis  \n",
              "0                   2  "
            ]
          },
          "execution_count": 15,
          "metadata": {},
          "output_type": "execute_result"
        }
      ],
      "source": [
        "df.head(1)"
      ]
    },
    {
      "cell_type": "code",
      "execution_count": 16,
      "metadata": {},
      "outputs": [
        {
          "data": {
            "text/plain": [
              "user_id               9465\n",
              "item_id               9465\n",
              "recommend             9465\n",
              "review                9465\n",
              "posted year           7571\n",
              "sentiment_analysis    9465\n",
              "dtype: int64"
            ]
          },
          "execution_count": 16,
          "metadata": {},
          "output_type": "execute_result"
        }
      ],
      "source": [
        "\n",
        "# verify values into dataframe\n",
        "df.loc[df['sentiment_analysis'] == 0].count()"
      ]
    },
    {
      "cell_type": "code",
      "execution_count": 17,
      "metadata": {},
      "outputs": [
        {
          "data": {
            "text/plain": [
              "user_id               30\n",
              "item_id               30\n",
              "recommend             30\n",
              "review                30\n",
              "posted year           27\n",
              "sentiment_analysis    30\n",
              "dtype: int64"
            ]
          },
          "execution_count": 17,
          "metadata": {},
          "output_type": "execute_result"
        }
      ],
      "source": [
        "# verify values into dataframe\n",
        "df.loc[df['sentiment_analysis'] == 1].count()"
      ]
    },
    {
      "cell_type": "code",
      "execution_count": 18,
      "metadata": {},
      "outputs": [
        {
          "data": {
            "text/plain": [
              "user_id               48964\n",
              "item_id               48936\n",
              "recommend             48936\n",
              "review                48964\n",
              "posted year           40900\n",
              "sentiment_analysis    48964\n",
              "dtype: int64"
            ]
          },
          "execution_count": 18,
          "metadata": {},
          "output_type": "execute_result"
        }
      ],
      "source": [
        "# verify values into dataframe\n",
        "df.loc[df['sentiment_analysis'] == 2].count()"
      ]
    },
    {
      "cell_type": "code",
      "execution_count": 19,
      "metadata": {},
      "outputs": [
        {
          "name": "stdout",
          "output_type": "stream",
          "text": [
            "<class 'pandas.core.frame.DataFrame'>\n",
            "Index: 58459 entries, 0 to 25798\n",
            "Data columns (total 6 columns):\n",
            " #   Column              Non-Null Count  Dtype \n",
            "---  ------              --------------  ----- \n",
            " 0   user_id             58459 non-null  object\n",
            " 1   item_id             58431 non-null  object\n",
            " 2   recommend           58431 non-null  object\n",
            " 3   review              58459 non-null  object\n",
            " 4   posted year         48498 non-null  object\n",
            " 5   sentiment_analysis  58459 non-null  int64 \n",
            "dtypes: int64(1), object(5)\n",
            "memory usage: 3.1+ MB\n"
          ]
        }
      ],
      "source": [
        "df.info()"
      ]
    },
    {
      "cell_type": "code",
      "execution_count": 20,
      "metadata": {},
      "outputs": [],
      "source": [
        "df.to_csv('../CSV/australian_user_reviews.csv', index=False)"
      ]
    },
    {
      "cell_type": "code",
      "execution_count": 21,
      "metadata": {},
      "outputs": [
        {
          "data": {
            "text/html": [
              "<div>\n",
              "<style scoped>\n",
              "    .dataframe tbody tr th:only-of-type {\n",
              "        vertical-align: middle;\n",
              "    }\n",
              "\n",
              "    .dataframe tbody tr th {\n",
              "        vertical-align: top;\n",
              "    }\n",
              "\n",
              "    .dataframe thead th {\n",
              "        text-align: right;\n",
              "    }\n",
              "</style>\n",
              "<table border=\"1\" class=\"dataframe\">\n",
              "  <thead>\n",
              "    <tr style=\"text-align: right;\">\n",
              "      <th></th>\n",
              "      <th>user_id</th>\n",
              "      <th>item_id</th>\n",
              "      <th>recommend</th>\n",
              "      <th>review</th>\n",
              "      <th>posted year</th>\n",
              "      <th>sentiment_analysis</th>\n",
              "    </tr>\n",
              "  </thead>\n",
              "  <tbody>\n",
              "    <tr>\n",
              "      <th>0</th>\n",
              "      <td>76561197970982479</td>\n",
              "      <td>1250</td>\n",
              "      <td>True</td>\n",
              "      <td>Simple yet with great replayability. In my opi...</td>\n",
              "      <td>2011</td>\n",
              "      <td>2</td>\n",
              "    </tr>\n",
              "    <tr>\n",
              "      <th>0</th>\n",
              "      <td>76561197970982479</td>\n",
              "      <td>22200</td>\n",
              "      <td>True</td>\n",
              "      <td>It's unique and worth a playthrough.</td>\n",
              "      <td>2011</td>\n",
              "      <td>2</td>\n",
              "    </tr>\n",
              "    <tr>\n",
              "      <th>0</th>\n",
              "      <td>76561197970982479</td>\n",
              "      <td>43110</td>\n",
              "      <td>True</td>\n",
              "      <td>Great atmosphere. The gunplay can be a bit chu...</td>\n",
              "      <td>2011</td>\n",
              "      <td>2</td>\n",
              "    </tr>\n",
              "    <tr>\n",
              "      <th>1</th>\n",
              "      <td>js41637</td>\n",
              "      <td>251610</td>\n",
              "      <td>True</td>\n",
              "      <td>I know what you think when you see this title ...</td>\n",
              "      <td>2014</td>\n",
              "      <td>2</td>\n",
              "    </tr>\n",
              "    <tr>\n",
              "      <th>1</th>\n",
              "      <td>js41637</td>\n",
              "      <td>227300</td>\n",
              "      <td>True</td>\n",
              "      <td>For a simple (it's actually not all that simpl...</td>\n",
              "      <td>2013</td>\n",
              "      <td>2</td>\n",
              "    </tr>\n",
              "    <tr>\n",
              "      <th>...</th>\n",
              "      <td>...</td>\n",
              "      <td>...</td>\n",
              "      <td>...</td>\n",
              "      <td>...</td>\n",
              "      <td>...</td>\n",
              "      <td>...</td>\n",
              "    </tr>\n",
              "    <tr>\n",
              "      <th>25797</th>\n",
              "      <td>76561198312638244</td>\n",
              "      <td>70</td>\n",
              "      <td>True</td>\n",
              "      <td>a must have classic from steam definitely wort...</td>\n",
              "      <td>NaN</td>\n",
              "      <td>2</td>\n",
              "    </tr>\n",
              "    <tr>\n",
              "      <th>25797</th>\n",
              "      <td>76561198312638244</td>\n",
              "      <td>362890</td>\n",
              "      <td>True</td>\n",
              "      <td>this game is a perfect remake of the original ...</td>\n",
              "      <td>NaN</td>\n",
              "      <td>2</td>\n",
              "    </tr>\n",
              "    <tr>\n",
              "      <th>25798</th>\n",
              "      <td>LydiaMorley</td>\n",
              "      <td>273110</td>\n",
              "      <td>True</td>\n",
              "      <td>had so much fun plaing this and collecting res...</td>\n",
              "      <td>NaN</td>\n",
              "      <td>2</td>\n",
              "    </tr>\n",
              "    <tr>\n",
              "      <th>25798</th>\n",
              "      <td>LydiaMorley</td>\n",
              "      <td>730</td>\n",
              "      <td>True</td>\n",
              "      <td>:D</td>\n",
              "      <td>NaN</td>\n",
              "      <td>2</td>\n",
              "    </tr>\n",
              "    <tr>\n",
              "      <th>25798</th>\n",
              "      <td>LydiaMorley</td>\n",
              "      <td>440</td>\n",
              "      <td>True</td>\n",
              "      <td>so much fun :D</td>\n",
              "      <td>NaN</td>\n",
              "      <td>2</td>\n",
              "    </tr>\n",
              "  </tbody>\n",
              "</table>\n",
              "<p>58459 rows × 6 columns</p>\n",
              "</div>"
            ],
            "text/plain": [
              "                 user_id item_id recommend  \\\n",
              "0      76561197970982479    1250      True   \n",
              "0      76561197970982479   22200      True   \n",
              "0      76561197970982479   43110      True   \n",
              "1                js41637  251610      True   \n",
              "1                js41637  227300      True   \n",
              "...                  ...     ...       ...   \n",
              "25797  76561198312638244      70      True   \n",
              "25797  76561198312638244  362890      True   \n",
              "25798        LydiaMorley  273110      True   \n",
              "25798        LydiaMorley     730      True   \n",
              "25798        LydiaMorley     440      True   \n",
              "\n",
              "                                                  review posted year  \\\n",
              "0      Simple yet with great replayability. In my opi...        2011   \n",
              "0                   It's unique and worth a playthrough.        2011   \n",
              "0      Great atmosphere. The gunplay can be a bit chu...        2011   \n",
              "1      I know what you think when you see this title ...        2014   \n",
              "1      For a simple (it's actually not all that simpl...        2013   \n",
              "...                                                  ...         ...   \n",
              "25797  a must have classic from steam definitely wort...         NaN   \n",
              "25797  this game is a perfect remake of the original ...         NaN   \n",
              "25798  had so much fun plaing this and collecting res...         NaN   \n",
              "25798                                                 :D         NaN   \n",
              "25798                                     so much fun :D         NaN   \n",
              "\n",
              "       sentiment_analysis  \n",
              "0                       2  \n",
              "0                       2  \n",
              "0                       2  \n",
              "1                       2  \n",
              "1                       2  \n",
              "...                   ...  \n",
              "25797                   2  \n",
              "25797                   2  \n",
              "25798                   2  \n",
              "25798                   2  \n",
              "25798                   2  \n",
              "\n",
              "[58459 rows x 6 columns]"
            ]
          },
          "execution_count": 21,
          "metadata": {},
          "output_type": "execute_result"
        }
      ],
      "source": [
        "df"
      ]
    }
  ],
  "metadata": {
    "accelerator": "TPU",
    "colab": {
      "provenance": []
    },
    "kernelspec": {
      "display_name": "Python 3",
      "name": "python3"
    },
    "language_info": {
      "codemirror_mode": {
        "name": "ipython",
        "version": 3
      },
      "file_extension": ".py",
      "mimetype": "text/x-python",
      "name": "python",
      "nbconvert_exporter": "python",
      "pygments_lexer": "ipython3",
      "version": "3.11.3"
    }
  },
  "nbformat": 4,
  "nbformat_minor": 0
}
