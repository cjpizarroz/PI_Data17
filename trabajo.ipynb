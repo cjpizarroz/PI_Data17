{
 "cells": [
  {
   "cell_type": "code",
   "execution_count": 385,
   "metadata": {},
   "outputs": [],
   "source": [
    "import pandas as pd\n",
    "import gc"
   ]
  },
  {
   "cell_type": "markdown",
   "metadata": {},
   "source": [
    "# ENDPOINT NRO 1 "
   ]
  },
  {
   "cell_type": "markdown",
   "metadata": {},
   "source": [
    "def PlayTimeGenre( genero: str ) :<br> Debe devolver año con más horas jugadas para dicho género. <br>\n",
    "Ejemplo de retorno: {\"Año de lanzamiento con más horas jugadas para Género X\" : 2013}"
   ]
  },
  {
   "cell_type": "code",
   "execution_count": 386,
   "metadata": {},
   "outputs": [],
   "source": [
    "ep3_items_columns = ['user_id', 'item_id', 'playtime_forever']"
   ]
  },
  {
   "cell_type": "code",
   "execution_count": 387,
   "metadata": {},
   "outputs": [
    {
     "data": {
      "text/html": [
       "<div>\n",
       "<style scoped>\n",
       "    .dataframe tbody tr th:only-of-type {\n",
       "        vertical-align: middle;\n",
       "    }\n",
       "\n",
       "    .dataframe tbody tr th {\n",
       "        vertical-align: top;\n",
       "    }\n",
       "\n",
       "    .dataframe thead th {\n",
       "        text-align: right;\n",
       "    }\n",
       "</style>\n",
       "<table border=\"1\" class=\"dataframe\">\n",
       "  <thead>\n",
       "    <tr style=\"text-align: right;\">\n",
       "      <th></th>\n",
       "      <th>user_id</th>\n",
       "      <th>playtime_forever</th>\n",
       "      <th>item_id</th>\n",
       "    </tr>\n",
       "  </thead>\n",
       "  <tbody>\n",
       "    <tr>\n",
       "      <th>0</th>\n",
       "      <td>76561197970982479</td>\n",
       "      <td>6</td>\n",
       "      <td>10</td>\n",
       "    </tr>\n",
       "    <tr>\n",
       "      <th>1</th>\n",
       "      <td>js41637</td>\n",
       "      <td>0</td>\n",
       "      <td>10</td>\n",
       "    </tr>\n",
       "  </tbody>\n",
       "</table>\n",
       "</div>"
      ],
      "text/plain": [
       "             user_id  playtime_forever  item_id\n",
       "0  76561197970982479                 6       10\n",
       "1            js41637                 0       10"
      ]
     },
     "execution_count": 387,
     "metadata": {},
     "output_type": "execute_result"
    }
   ],
   "source": [
    "df_users_items = pd.read_csv('CSV\\\\australian_users_items.csv',usecols=ep3_items_columns, sep=',', encoding='UTF-8')\n",
    "df_users_items.head(2)"
   ]
  },
  {
   "cell_type": "code",
   "execution_count": 388,
   "metadata": {},
   "outputs": [
    {
     "data": {
      "text/html": [
       "<div>\n",
       "<style scoped>\n",
       "    .dataframe tbody tr th:only-of-type {\n",
       "        vertical-align: middle;\n",
       "    }\n",
       "\n",
       "    .dataframe tbody tr th {\n",
       "        vertical-align: top;\n",
       "    }\n",
       "\n",
       "    .dataframe thead th {\n",
       "        text-align: right;\n",
       "    }\n",
       "</style>\n",
       "<table border=\"1\" class=\"dataframe\">\n",
       "  <thead>\n",
       "    <tr style=\"text-align: right;\">\n",
       "      <th></th>\n",
       "      <th>title</th>\n",
       "      <th>release_date</th>\n",
       "      <th>price</th>\n",
       "      <th>item_id</th>\n",
       "      <th>developer</th>\n",
       "      <th>genres_Action</th>\n",
       "      <th>genres_Adventure</th>\n",
       "      <th>genres_Animation and Modeling</th>\n",
       "      <th>genres_Audio Production</th>\n",
       "      <th>genres_Casual</th>\n",
       "      <th>...</th>\n",
       "      <th>genres_Photo Editing</th>\n",
       "      <th>genres_RPG</th>\n",
       "      <th>genres_Racing</th>\n",
       "      <th>genres_Simulation</th>\n",
       "      <th>genres_Software Training</th>\n",
       "      <th>genres_Sports</th>\n",
       "      <th>genres_Strategy</th>\n",
       "      <th>genres_Utilities</th>\n",
       "      <th>genres_Video Production</th>\n",
       "      <th>genres_Web Publishing</th>\n",
       "    </tr>\n",
       "  </thead>\n",
       "  <tbody>\n",
       "    <tr>\n",
       "      <th>0</th>\n",
       "      <td>Lost Summoner Kitty</td>\n",
       "      <td>2018.0</td>\n",
       "      <td>4.99</td>\n",
       "      <td>761140</td>\n",
       "      <td>Kotoshiro</td>\n",
       "      <td>1</td>\n",
       "      <td>0</td>\n",
       "      <td>0</td>\n",
       "      <td>0</td>\n",
       "      <td>0</td>\n",
       "      <td>...</td>\n",
       "      <td>0</td>\n",
       "      <td>0</td>\n",
       "      <td>0</td>\n",
       "      <td>0</td>\n",
       "      <td>0</td>\n",
       "      <td>0</td>\n",
       "      <td>0</td>\n",
       "      <td>0</td>\n",
       "      <td>0</td>\n",
       "      <td>0</td>\n",
       "    </tr>\n",
       "    <tr>\n",
       "      <th>1</th>\n",
       "      <td>Lost Summoner Kitty</td>\n",
       "      <td>2018.0</td>\n",
       "      <td>4.99</td>\n",
       "      <td>761140</td>\n",
       "      <td>Kotoshiro</td>\n",
       "      <td>0</td>\n",
       "      <td>0</td>\n",
       "      <td>0</td>\n",
       "      <td>0</td>\n",
       "      <td>1</td>\n",
       "      <td>...</td>\n",
       "      <td>0</td>\n",
       "      <td>0</td>\n",
       "      <td>0</td>\n",
       "      <td>0</td>\n",
       "      <td>0</td>\n",
       "      <td>0</td>\n",
       "      <td>0</td>\n",
       "      <td>0</td>\n",
       "      <td>0</td>\n",
       "      <td>0</td>\n",
       "    </tr>\n",
       "  </tbody>\n",
       "</table>\n",
       "<p>2 rows × 26 columns</p>\n",
       "</div>"
      ],
      "text/plain": [
       "                 title  release_date  price  item_id  developer  \\\n",
       "0  Lost Summoner Kitty        2018.0   4.99   761140  Kotoshiro   \n",
       "1  Lost Summoner Kitty        2018.0   4.99   761140  Kotoshiro   \n",
       "\n",
       "   genres_Action  genres_Adventure  genres_Animation and Modeling  \\\n",
       "0              1                 0                              0   \n",
       "1              0                 0                              0   \n",
       "\n",
       "   genres_Audio Production  genres_Casual  ...  genres_Photo Editing  \\\n",
       "0                        0              0  ...                     0   \n",
       "1                        0              1  ...                     0   \n",
       "\n",
       "   genres_RPG  genres_Racing  genres_Simulation  genres_Software Training  \\\n",
       "0           0              0                  0                         0   \n",
       "1           0              0                  0                         0   \n",
       "\n",
       "   genres_Sports  genres_Strategy  genres_Utilities  genres_Video Production  \\\n",
       "0              0                0                 0                        0   \n",
       "1              0                0                 0                        0   \n",
       "\n",
       "   genres_Web Publishing  \n",
       "0                      0  \n",
       "1                      0  \n",
       "\n",
       "[2 rows x 26 columns]"
      ]
     },
     "execution_count": 388,
     "metadata": {},
     "output_type": "execute_result"
    }
   ],
   "source": [
    "df_steam_games = pd.read_csv('CSV\\output_steaam_games.csv', sep=\",\", encoding=\"UTF-8\")\n",
    "df_steam_games.head(2)"
   ]
  },
  {
   "cell_type": "code",
   "execution_count": 389,
   "metadata": {},
   "outputs": [
    {
     "data": {
      "text/html": [
       "<div>\n",
       "<style scoped>\n",
       "    .dataframe tbody tr th:only-of-type {\n",
       "        vertical-align: middle;\n",
       "    }\n",
       "\n",
       "    .dataframe tbody tr th {\n",
       "        vertical-align: top;\n",
       "    }\n",
       "\n",
       "    .dataframe thead th {\n",
       "        text-align: right;\n",
       "    }\n",
       "</style>\n",
       "<table border=\"1\" class=\"dataframe\">\n",
       "  <thead>\n",
       "    <tr style=\"text-align: right;\">\n",
       "      <th></th>\n",
       "      <th>user_id</th>\n",
       "      <th>playtime_forever</th>\n",
       "      <th>item_id</th>\n",
       "      <th>title</th>\n",
       "      <th>release_date</th>\n",
       "      <th>price</th>\n",
       "      <th>developer</th>\n",
       "      <th>genres_Action</th>\n",
       "      <th>genres_Adventure</th>\n",
       "      <th>genres_Animation and Modeling</th>\n",
       "      <th>...</th>\n",
       "      <th>genres_Photo Editing</th>\n",
       "      <th>genres_RPG</th>\n",
       "      <th>genres_Racing</th>\n",
       "      <th>genres_Simulation</th>\n",
       "      <th>genres_Software Training</th>\n",
       "      <th>genres_Sports</th>\n",
       "      <th>genres_Strategy</th>\n",
       "      <th>genres_Utilities</th>\n",
       "      <th>genres_Video Production</th>\n",
       "      <th>genres_Web Publishing</th>\n",
       "    </tr>\n",
       "  </thead>\n",
       "  <tbody>\n",
       "    <tr>\n",
       "      <th>14363</th>\n",
       "      <td>Extifail</td>\n",
       "      <td>445</td>\n",
       "      <td>240</td>\n",
       "      <td>Counter-Strike: Source</td>\n",
       "      <td>2004.0</td>\n",
       "      <td>19.99</td>\n",
       "      <td>Valve</td>\n",
       "      <td>1</td>\n",
       "      <td>0</td>\n",
       "      <td>0</td>\n",
       "      <td>...</td>\n",
       "      <td>0</td>\n",
       "      <td>0</td>\n",
       "      <td>0</td>\n",
       "      <td>0</td>\n",
       "      <td>0</td>\n",
       "      <td>0</td>\n",
       "      <td>0</td>\n",
       "      <td>0</td>\n",
       "      <td>0</td>\n",
       "      <td>0</td>\n",
       "    </tr>\n",
       "    <tr>\n",
       "      <th>74569</th>\n",
       "      <td>ArcticHaZe</td>\n",
       "      <td>965</td>\n",
       "      <td>400</td>\n",
       "      <td>Portal</td>\n",
       "      <td>2007.0</td>\n",
       "      <td>9.99</td>\n",
       "      <td>Valve</td>\n",
       "      <td>1</td>\n",
       "      <td>0</td>\n",
       "      <td>0</td>\n",
       "      <td>...</td>\n",
       "      <td>0</td>\n",
       "      <td>0</td>\n",
       "      <td>0</td>\n",
       "      <td>0</td>\n",
       "      <td>0</td>\n",
       "      <td>0</td>\n",
       "      <td>0</td>\n",
       "      <td>0</td>\n",
       "      <td>0</td>\n",
       "      <td>0</td>\n",
       "    </tr>\n",
       "    <tr>\n",
       "      <th>67862</th>\n",
       "      <td>76561198075333896</td>\n",
       "      <td>387</td>\n",
       "      <td>12120</td>\n",
       "      <td>Grand Theft Auto: San Andreas</td>\n",
       "      <td>2005.0</td>\n",
       "      <td>14.99</td>\n",
       "      <td>Rockstar Games</td>\n",
       "      <td>1</td>\n",
       "      <td>0</td>\n",
       "      <td>0</td>\n",
       "      <td>...</td>\n",
       "      <td>0</td>\n",
       "      <td>0</td>\n",
       "      <td>0</td>\n",
       "      <td>0</td>\n",
       "      <td>0</td>\n",
       "      <td>0</td>\n",
       "      <td>0</td>\n",
       "      <td>0</td>\n",
       "      <td>0</td>\n",
       "      <td>0</td>\n",
       "    </tr>\n",
       "    <tr>\n",
       "      <th>61534</th>\n",
       "      <td>applezzz</td>\n",
       "      <td>3503</td>\n",
       "      <td>105600</td>\n",
       "      <td>Terraria</td>\n",
       "      <td>2011.0</td>\n",
       "      <td>9.99</td>\n",
       "      <td>Re-Logic</td>\n",
       "      <td>0</td>\n",
       "      <td>0</td>\n",
       "      <td>0</td>\n",
       "      <td>...</td>\n",
       "      <td>0</td>\n",
       "      <td>1</td>\n",
       "      <td>0</td>\n",
       "      <td>0</td>\n",
       "      <td>0</td>\n",
       "      <td>0</td>\n",
       "      <td>0</td>\n",
       "      <td>0</td>\n",
       "      <td>0</td>\n",
       "      <td>0</td>\n",
       "    </tr>\n",
       "    <tr>\n",
       "      <th>52279</th>\n",
       "      <td>76561198069404035</td>\n",
       "      <td>2455</td>\n",
       "      <td>4000</td>\n",
       "      <td>Garry's Mod</td>\n",
       "      <td>2006.0</td>\n",
       "      <td>9.99</td>\n",
       "      <td>Facepunch Studios</td>\n",
       "      <td>0</td>\n",
       "      <td>0</td>\n",
       "      <td>0</td>\n",
       "      <td>...</td>\n",
       "      <td>0</td>\n",
       "      <td>0</td>\n",
       "      <td>0</td>\n",
       "      <td>1</td>\n",
       "      <td>0</td>\n",
       "      <td>0</td>\n",
       "      <td>0</td>\n",
       "      <td>0</td>\n",
       "      <td>0</td>\n",
       "      <td>0</td>\n",
       "    </tr>\n",
       "    <tr>\n",
       "      <th>145</th>\n",
       "      <td>r3koil</td>\n",
       "      <td>33</td>\n",
       "      <td>10</td>\n",
       "      <td>Counter-Strike</td>\n",
       "      <td>2000.0</td>\n",
       "      <td>9.99</td>\n",
       "      <td>Valve</td>\n",
       "      <td>1</td>\n",
       "      <td>0</td>\n",
       "      <td>0</td>\n",
       "      <td>...</td>\n",
       "      <td>0</td>\n",
       "      <td>0</td>\n",
       "      <td>0</td>\n",
       "      <td>0</td>\n",
       "      <td>0</td>\n",
       "      <td>0</td>\n",
       "      <td>0</td>\n",
       "      <td>0</td>\n",
       "      <td>0</td>\n",
       "      <td>0</td>\n",
       "    </tr>\n",
       "    <tr>\n",
       "      <th>68481</th>\n",
       "      <td>76561198082063805</td>\n",
       "      <td>0</td>\n",
       "      <td>1250</td>\n",
       "      <td>Killing Floor</td>\n",
       "      <td>2009.0</td>\n",
       "      <td>19.99</td>\n",
       "      <td>Tripwire Interactive</td>\n",
       "      <td>1</td>\n",
       "      <td>0</td>\n",
       "      <td>0</td>\n",
       "      <td>...</td>\n",
       "      <td>0</td>\n",
       "      <td>0</td>\n",
       "      <td>0</td>\n",
       "      <td>0</td>\n",
       "      <td>0</td>\n",
       "      <td>0</td>\n",
       "      <td>0</td>\n",
       "      <td>0</td>\n",
       "      <td>0</td>\n",
       "      <td>0</td>\n",
       "    </tr>\n",
       "    <tr>\n",
       "      <th>6541</th>\n",
       "      <td>76561198075003490</td>\n",
       "      <td>4329</td>\n",
       "      <td>240</td>\n",
       "      <td>Counter-Strike: Source</td>\n",
       "      <td>2004.0</td>\n",
       "      <td>19.99</td>\n",
       "      <td>Valve</td>\n",
       "      <td>1</td>\n",
       "      <td>0</td>\n",
       "      <td>0</td>\n",
       "      <td>...</td>\n",
       "      <td>0</td>\n",
       "      <td>0</td>\n",
       "      <td>0</td>\n",
       "      <td>0</td>\n",
       "      <td>0</td>\n",
       "      <td>0</td>\n",
       "      <td>0</td>\n",
       "      <td>0</td>\n",
       "      <td>0</td>\n",
       "      <td>0</td>\n",
       "    </tr>\n",
       "    <tr>\n",
       "      <th>55845</th>\n",
       "      <td>76561198084491984</td>\n",
       "      <td>384</td>\n",
       "      <td>4000</td>\n",
       "      <td>Garry's Mod</td>\n",
       "      <td>2006.0</td>\n",
       "      <td>9.99</td>\n",
       "      <td>Facepunch Studios</td>\n",
       "      <td>0</td>\n",
       "      <td>0</td>\n",
       "      <td>0</td>\n",
       "      <td>...</td>\n",
       "      <td>0</td>\n",
       "      <td>0</td>\n",
       "      <td>0</td>\n",
       "      <td>1</td>\n",
       "      <td>0</td>\n",
       "      <td>0</td>\n",
       "      <td>0</td>\n",
       "      <td>0</td>\n",
       "      <td>0</td>\n",
       "      <td>0</td>\n",
       "    </tr>\n",
       "    <tr>\n",
       "      <th>26809</th>\n",
       "      <td>76561198112110389</td>\n",
       "      <td>1623</td>\n",
       "      <td>4000</td>\n",
       "      <td>Garry's Mod</td>\n",
       "      <td>2006.0</td>\n",
       "      <td>9.99</td>\n",
       "      <td>Facepunch Studios</td>\n",
       "      <td>0</td>\n",
       "      <td>0</td>\n",
       "      <td>0</td>\n",
       "      <td>...</td>\n",
       "      <td>0</td>\n",
       "      <td>0</td>\n",
       "      <td>0</td>\n",
       "      <td>1</td>\n",
       "      <td>0</td>\n",
       "      <td>0</td>\n",
       "      <td>0</td>\n",
       "      <td>0</td>\n",
       "      <td>0</td>\n",
       "      <td>0</td>\n",
       "    </tr>\n",
       "    <tr>\n",
       "      <th>26410</th>\n",
       "      <td>76561198085765656</td>\n",
       "      <td>3376</td>\n",
       "      <td>4000</td>\n",
       "      <td>Garry's Mod</td>\n",
       "      <td>2006.0</td>\n",
       "      <td>9.99</td>\n",
       "      <td>Facepunch Studios</td>\n",
       "      <td>0</td>\n",
       "      <td>0</td>\n",
       "      <td>0</td>\n",
       "      <td>...</td>\n",
       "      <td>0</td>\n",
       "      <td>0</td>\n",
       "      <td>0</td>\n",
       "      <td>0</td>\n",
       "      <td>0</td>\n",
       "      <td>0</td>\n",
       "      <td>0</td>\n",
       "      <td>0</td>\n",
       "      <td>0</td>\n",
       "      <td>0</td>\n",
       "    </tr>\n",
       "    <tr>\n",
       "      <th>85086</th>\n",
       "      <td>76561198104830424</td>\n",
       "      <td>124</td>\n",
       "      <td>304930</td>\n",
       "      <td>Unturned</td>\n",
       "      <td>2017.0</td>\n",
       "      <td>0.00</td>\n",
       "      <td>Smartly Dressed Games</td>\n",
       "      <td>0</td>\n",
       "      <td>0</td>\n",
       "      <td>0</td>\n",
       "      <td>...</td>\n",
       "      <td>0</td>\n",
       "      <td>0</td>\n",
       "      <td>0</td>\n",
       "      <td>0</td>\n",
       "      <td>0</td>\n",
       "      <td>0</td>\n",
       "      <td>0</td>\n",
       "      <td>0</td>\n",
       "      <td>0</td>\n",
       "      <td>0</td>\n",
       "    </tr>\n",
       "    <tr>\n",
       "      <th>33458</th>\n",
       "      <td>76561198020484861</td>\n",
       "      <td>13281</td>\n",
       "      <td>4000</td>\n",
       "      <td>Garry's Mod</td>\n",
       "      <td>2006.0</td>\n",
       "      <td>9.99</td>\n",
       "      <td>Facepunch Studios</td>\n",
       "      <td>0</td>\n",
       "      <td>0</td>\n",
       "      <td>0</td>\n",
       "      <td>...</td>\n",
       "      <td>0</td>\n",
       "      <td>0</td>\n",
       "      <td>0</td>\n",
       "      <td>0</td>\n",
       "      <td>0</td>\n",
       "      <td>0</td>\n",
       "      <td>0</td>\n",
       "      <td>0</td>\n",
       "      <td>0</td>\n",
       "      <td>0</td>\n",
       "    </tr>\n",
       "    <tr>\n",
       "      <th>16741</th>\n",
       "      <td>officialflorana</td>\n",
       "      <td>624</td>\n",
       "      <td>220</td>\n",
       "      <td>Half-Life 2</td>\n",
       "      <td>2004.0</td>\n",
       "      <td>9.99</td>\n",
       "      <td>Valve</td>\n",
       "      <td>1</td>\n",
       "      <td>0</td>\n",
       "      <td>0</td>\n",
       "      <td>...</td>\n",
       "      <td>0</td>\n",
       "      <td>0</td>\n",
       "      <td>0</td>\n",
       "      <td>0</td>\n",
       "      <td>0</td>\n",
       "      <td>0</td>\n",
       "      <td>0</td>\n",
       "      <td>0</td>\n",
       "      <td>0</td>\n",
       "      <td>0</td>\n",
       "    </tr>\n",
       "    <tr>\n",
       "      <th>31471</th>\n",
       "      <td>XeroChances</td>\n",
       "      <td>215</td>\n",
       "      <td>4000</td>\n",
       "      <td>Garry's Mod</td>\n",
       "      <td>2006.0</td>\n",
       "      <td>9.99</td>\n",
       "      <td>Facepunch Studios</td>\n",
       "      <td>0</td>\n",
       "      <td>0</td>\n",
       "      <td>0</td>\n",
       "      <td>...</td>\n",
       "      <td>0</td>\n",
       "      <td>0</td>\n",
       "      <td>0</td>\n",
       "      <td>1</td>\n",
       "      <td>0</td>\n",
       "      <td>0</td>\n",
       "      <td>0</td>\n",
       "      <td>0</td>\n",
       "      <td>0</td>\n",
       "      <td>0</td>\n",
       "    </tr>\n",
       "    <tr>\n",
       "      <th>86577</th>\n",
       "      <td>SaBeR_</td>\n",
       "      <td>9499</td>\n",
       "      <td>304930</td>\n",
       "      <td>Unturned</td>\n",
       "      <td>2017.0</td>\n",
       "      <td>0.00</td>\n",
       "      <td>Smartly Dressed Games</td>\n",
       "      <td>1</td>\n",
       "      <td>0</td>\n",
       "      <td>0</td>\n",
       "      <td>...</td>\n",
       "      <td>0</td>\n",
       "      <td>0</td>\n",
       "      <td>0</td>\n",
       "      <td>0</td>\n",
       "      <td>0</td>\n",
       "      <td>0</td>\n",
       "      <td>0</td>\n",
       "      <td>0</td>\n",
       "      <td>0</td>\n",
       "      <td>0</td>\n",
       "    </tr>\n",
       "    <tr>\n",
       "      <th>77193</th>\n",
       "      <td>wolfenz</td>\n",
       "      <td>0</td>\n",
       "      <td>2100</td>\n",
       "      <td>Dark Messiah of Might &amp;amp; Magic</td>\n",
       "      <td>2006.0</td>\n",
       "      <td>9.99</td>\n",
       "      <td>Arkane Studios</td>\n",
       "      <td>0</td>\n",
       "      <td>0</td>\n",
       "      <td>0</td>\n",
       "      <td>...</td>\n",
       "      <td>0</td>\n",
       "      <td>1</td>\n",
       "      <td>0</td>\n",
       "      <td>0</td>\n",
       "      <td>0</td>\n",
       "      <td>0</td>\n",
       "      <td>0</td>\n",
       "      <td>0</td>\n",
       "      <td>0</td>\n",
       "      <td>0</td>\n",
       "    </tr>\n",
       "    <tr>\n",
       "      <th>59295</th>\n",
       "      <td>76561198150605293</td>\n",
       "      <td>25479</td>\n",
       "      <td>4000</td>\n",
       "      <td>Garry's Mod</td>\n",
       "      <td>2006.0</td>\n",
       "      <td>9.99</td>\n",
       "      <td>Facepunch Studios</td>\n",
       "      <td>0</td>\n",
       "      <td>0</td>\n",
       "      <td>0</td>\n",
       "      <td>...</td>\n",
       "      <td>0</td>\n",
       "      <td>0</td>\n",
       "      <td>0</td>\n",
       "      <td>1</td>\n",
       "      <td>0</td>\n",
       "      <td>0</td>\n",
       "      <td>0</td>\n",
       "      <td>0</td>\n",
       "      <td>0</td>\n",
       "      <td>0</td>\n",
       "    </tr>\n",
       "    <tr>\n",
       "      <th>49351</th>\n",
       "      <td>76561198056288892</td>\n",
       "      <td>290</td>\n",
       "      <td>4000</td>\n",
       "      <td>Garry's Mod</td>\n",
       "      <td>2006.0</td>\n",
       "      <td>9.99</td>\n",
       "      <td>Facepunch Studios</td>\n",
       "      <td>0</td>\n",
       "      <td>0</td>\n",
       "      <td>0</td>\n",
       "      <td>...</td>\n",
       "      <td>0</td>\n",
       "      <td>0</td>\n",
       "      <td>0</td>\n",
       "      <td>1</td>\n",
       "      <td>0</td>\n",
       "      <td>0</td>\n",
       "      <td>0</td>\n",
       "      <td>0</td>\n",
       "      <td>0</td>\n",
       "      <td>0</td>\n",
       "    </tr>\n",
       "    <tr>\n",
       "      <th>81512</th>\n",
       "      <td>76561198042529195</td>\n",
       "      <td>174</td>\n",
       "      <td>12200</td>\n",
       "      <td>Bully: Scholarship Edition</td>\n",
       "      <td>2008.0</td>\n",
       "      <td>14.99</td>\n",
       "      <td>Rockstar New England</td>\n",
       "      <td>1</td>\n",
       "      <td>0</td>\n",
       "      <td>0</td>\n",
       "      <td>...</td>\n",
       "      <td>0</td>\n",
       "      <td>0</td>\n",
       "      <td>0</td>\n",
       "      <td>0</td>\n",
       "      <td>0</td>\n",
       "      <td>0</td>\n",
       "      <td>0</td>\n",
       "      <td>0</td>\n",
       "      <td>0</td>\n",
       "      <td>0</td>\n",
       "    </tr>\n",
       "  </tbody>\n",
       "</table>\n",
       "<p>20 rows × 28 columns</p>\n",
       "</div>"
      ],
      "text/plain": [
       "                 user_id  playtime_forever  item_id  \\\n",
       "14363           Extifail               445      240   \n",
       "74569         ArcticHaZe               965      400   \n",
       "67862  76561198075333896               387    12120   \n",
       "61534           applezzz              3503   105600   \n",
       "52279  76561198069404035              2455     4000   \n",
       "145               r3koil                33       10   \n",
       "68481  76561198082063805                 0     1250   \n",
       "6541   76561198075003490              4329      240   \n",
       "55845  76561198084491984               384     4000   \n",
       "26809  76561198112110389              1623     4000   \n",
       "26410  76561198085765656              3376     4000   \n",
       "85086  76561198104830424               124   304930   \n",
       "33458  76561198020484861             13281     4000   \n",
       "16741    officialflorana               624      220   \n",
       "31471        XeroChances               215     4000   \n",
       "86577             SaBeR_              9499   304930   \n",
       "77193            wolfenz                 0     2100   \n",
       "59295  76561198150605293             25479     4000   \n",
       "49351  76561198056288892               290     4000   \n",
       "81512  76561198042529195               174    12200   \n",
       "\n",
       "                                   title  release_date  price  \\\n",
       "14363             Counter-Strike: Source        2004.0  19.99   \n",
       "74569                             Portal        2007.0   9.99   \n",
       "67862      Grand Theft Auto: San Andreas        2005.0  14.99   \n",
       "61534                           Terraria        2011.0   9.99   \n",
       "52279                        Garry's Mod        2006.0   9.99   \n",
       "145                       Counter-Strike        2000.0   9.99   \n",
       "68481                      Killing Floor        2009.0  19.99   \n",
       "6541              Counter-Strike: Source        2004.0  19.99   \n",
       "55845                        Garry's Mod        2006.0   9.99   \n",
       "26809                        Garry's Mod        2006.0   9.99   \n",
       "26410                        Garry's Mod        2006.0   9.99   \n",
       "85086                           Unturned        2017.0   0.00   \n",
       "33458                        Garry's Mod        2006.0   9.99   \n",
       "16741                        Half-Life 2        2004.0   9.99   \n",
       "31471                        Garry's Mod        2006.0   9.99   \n",
       "86577                           Unturned        2017.0   0.00   \n",
       "77193  Dark Messiah of Might &amp; Magic        2006.0   9.99   \n",
       "59295                        Garry's Mod        2006.0   9.99   \n",
       "49351                        Garry's Mod        2006.0   9.99   \n",
       "81512         Bully: Scholarship Edition        2008.0  14.99   \n",
       "\n",
       "                   developer  genres_Action  genres_Adventure  \\\n",
       "14363                  Valve              1                 0   \n",
       "74569                  Valve              1                 0   \n",
       "67862         Rockstar Games              1                 0   \n",
       "61534               Re-Logic              0                 0   \n",
       "52279      Facepunch Studios              0                 0   \n",
       "145                    Valve              1                 0   \n",
       "68481   Tripwire Interactive              1                 0   \n",
       "6541                   Valve              1                 0   \n",
       "55845      Facepunch Studios              0                 0   \n",
       "26809      Facepunch Studios              0                 0   \n",
       "26410      Facepunch Studios              0                 0   \n",
       "85086  Smartly Dressed Games              0                 0   \n",
       "33458      Facepunch Studios              0                 0   \n",
       "16741                  Valve              1                 0   \n",
       "31471      Facepunch Studios              0                 0   \n",
       "86577  Smartly Dressed Games              1                 0   \n",
       "77193         Arkane Studios              0                 0   \n",
       "59295      Facepunch Studios              0                 0   \n",
       "49351      Facepunch Studios              0                 0   \n",
       "81512   Rockstar New England              1                 0   \n",
       "\n",
       "       genres_Animation and Modeling  ...  genres_Photo Editing  genres_RPG  \\\n",
       "14363                              0  ...                     0           0   \n",
       "74569                              0  ...                     0           0   \n",
       "67862                              0  ...                     0           0   \n",
       "61534                              0  ...                     0           1   \n",
       "52279                              0  ...                     0           0   \n",
       "145                                0  ...                     0           0   \n",
       "68481                              0  ...                     0           0   \n",
       "6541                               0  ...                     0           0   \n",
       "55845                              0  ...                     0           0   \n",
       "26809                              0  ...                     0           0   \n",
       "26410                              0  ...                     0           0   \n",
       "85086                              0  ...                     0           0   \n",
       "33458                              0  ...                     0           0   \n",
       "16741                              0  ...                     0           0   \n",
       "31471                              0  ...                     0           0   \n",
       "86577                              0  ...                     0           0   \n",
       "77193                              0  ...                     0           1   \n",
       "59295                              0  ...                     0           0   \n",
       "49351                              0  ...                     0           0   \n",
       "81512                              0  ...                     0           0   \n",
       "\n",
       "       genres_Racing  genres_Simulation  genres_Software Training  \\\n",
       "14363              0                  0                         0   \n",
       "74569              0                  0                         0   \n",
       "67862              0                  0                         0   \n",
       "61534              0                  0                         0   \n",
       "52279              0                  1                         0   \n",
       "145                0                  0                         0   \n",
       "68481              0                  0                         0   \n",
       "6541               0                  0                         0   \n",
       "55845              0                  1                         0   \n",
       "26809              0                  1                         0   \n",
       "26410              0                  0                         0   \n",
       "85086              0                  0                         0   \n",
       "33458              0                  0                         0   \n",
       "16741              0                  0                         0   \n",
       "31471              0                  1                         0   \n",
       "86577              0                  0                         0   \n",
       "77193              0                  0                         0   \n",
       "59295              0                  1                         0   \n",
       "49351              0                  1                         0   \n",
       "81512              0                  0                         0   \n",
       "\n",
       "       genres_Sports  genres_Strategy  genres_Utilities  \\\n",
       "14363              0                0                 0   \n",
       "74569              0                0                 0   \n",
       "67862              0                0                 0   \n",
       "61534              0                0                 0   \n",
       "52279              0                0                 0   \n",
       "145                0                0                 0   \n",
       "68481              0                0                 0   \n",
       "6541               0                0                 0   \n",
       "55845              0                0                 0   \n",
       "26809              0                0                 0   \n",
       "26410              0                0                 0   \n",
       "85086              0                0                 0   \n",
       "33458              0                0                 0   \n",
       "16741              0                0                 0   \n",
       "31471              0                0                 0   \n",
       "86577              0                0                 0   \n",
       "77193              0                0                 0   \n",
       "59295              0                0                 0   \n",
       "49351              0                0                 0   \n",
       "81512              0                0                 0   \n",
       "\n",
       "       genres_Video Production  genres_Web Publishing  \n",
       "14363                        0                      0  \n",
       "74569                        0                      0  \n",
       "67862                        0                      0  \n",
       "61534                        0                      0  \n",
       "52279                        0                      0  \n",
       "145                          0                      0  \n",
       "68481                        0                      0  \n",
       "6541                         0                      0  \n",
       "55845                        0                      0  \n",
       "26809                        0                      0  \n",
       "26410                        0                      0  \n",
       "85086                        0                      0  \n",
       "33458                        0                      0  \n",
       "16741                        0                      0  \n",
       "31471                        0                      0  \n",
       "86577                        0                      0  \n",
       "77193                        0                      0  \n",
       "59295                        0                      0  \n",
       "49351                        0                      0  \n",
       "81512                        0                      0  \n",
       "\n",
       "[20 rows x 28 columns]"
      ]
     },
     "execution_count": 389,
     "metadata": {},
     "output_type": "execute_result"
    }
   ],
   "source": [
    "df_merge = df_users_items.merge(df_steam_games, on='item_id')\n",
    "df_merge.sample(20)"
   ]
  },
  {
   "cell_type": "code",
   "execution_count": 390,
   "metadata": {},
   "outputs": [],
   "source": [
    "df_merge['release_date'] = df_merge['release_date'].map(int)\n",
    "df_merge.reset_index(drop=True, inplace=True)\n"
   ]
  },
  {
   "cell_type": "code",
   "execution_count": 391,
   "metadata": {},
   "outputs": [
    {
     "data": {
      "text/html": [
       "<div>\n",
       "<style scoped>\n",
       "    .dataframe tbody tr th:only-of-type {\n",
       "        vertical-align: middle;\n",
       "    }\n",
       "\n",
       "    .dataframe tbody tr th {\n",
       "        vertical-align: top;\n",
       "    }\n",
       "\n",
       "    .dataframe thead th {\n",
       "        text-align: right;\n",
       "    }\n",
       "</style>\n",
       "<table border=\"1\" class=\"dataframe\">\n",
       "  <thead>\n",
       "    <tr style=\"text-align: right;\">\n",
       "      <th></th>\n",
       "      <th>user_id</th>\n",
       "      <th>playtime_forever</th>\n",
       "      <th>item_id</th>\n",
       "      <th>title</th>\n",
       "      <th>release_date</th>\n",
       "      <th>price</th>\n",
       "      <th>developer</th>\n",
       "      <th>genres_Action</th>\n",
       "      <th>genres_Adventure</th>\n",
       "      <th>genres_Animation and Modeling</th>\n",
       "      <th>...</th>\n",
       "      <th>genres_Photo Editing</th>\n",
       "      <th>genres_RPG</th>\n",
       "      <th>genres_Racing</th>\n",
       "      <th>genres_Simulation</th>\n",
       "      <th>genres_Software Training</th>\n",
       "      <th>genres_Sports</th>\n",
       "      <th>genres_Strategy</th>\n",
       "      <th>genres_Utilities</th>\n",
       "      <th>genres_Video Production</th>\n",
       "      <th>genres_Web Publishing</th>\n",
       "    </tr>\n",
       "  </thead>\n",
       "  <tbody>\n",
       "    <tr>\n",
       "      <th>0</th>\n",
       "      <td>76561197970982479</td>\n",
       "      <td>6</td>\n",
       "      <td>10</td>\n",
       "      <td>Counter-Strike</td>\n",
       "      <td>2000</td>\n",
       "      <td>9.99</td>\n",
       "      <td>Valve</td>\n",
       "      <td>1</td>\n",
       "      <td>0</td>\n",
       "      <td>0</td>\n",
       "      <td>...</td>\n",
       "      <td>0</td>\n",
       "      <td>0</td>\n",
       "      <td>0</td>\n",
       "      <td>0</td>\n",
       "      <td>0</td>\n",
       "      <td>0</td>\n",
       "      <td>0</td>\n",
       "      <td>0</td>\n",
       "      <td>0</td>\n",
       "      <td>0</td>\n",
       "    </tr>\n",
       "  </tbody>\n",
       "</table>\n",
       "<p>1 rows × 28 columns</p>\n",
       "</div>"
      ],
      "text/plain": [
       "             user_id  playtime_forever  item_id           title  release_date  \\\n",
       "0  76561197970982479                 6       10  Counter-Strike          2000   \n",
       "\n",
       "   price developer  genres_Action  genres_Adventure  \\\n",
       "0   9.99     Valve              1                 0   \n",
       "\n",
       "   genres_Animation and Modeling  ...  genres_Photo Editing  genres_RPG  \\\n",
       "0                              0  ...                     0           0   \n",
       "\n",
       "   genres_Racing  genres_Simulation  genres_Software Training  genres_Sports  \\\n",
       "0              0                  0                         0              0   \n",
       "\n",
       "   genres_Strategy  genres_Utilities  genres_Video Production  \\\n",
       "0                0                 0                        0   \n",
       "\n",
       "   genres_Web Publishing  \n",
       "0                      0  \n",
       "\n",
       "[1 rows x 28 columns]"
      ]
     },
     "execution_count": 391,
     "metadata": {},
     "output_type": "execute_result"
    }
   ],
   "source": [
    "df_merge.head(1)"
   ]
  },
  {
   "cell_type": "code",
   "execution_count": 392,
   "metadata": {},
   "outputs": [
    {
     "name": "stdout",
     "output_type": "stream",
     "text": [
      "<class 'pandas.core.frame.DataFrame'>\n",
      "RangeIndex: 95785 entries, 0 to 95784\n",
      "Data columns (total 28 columns):\n",
      " #   Column                          Non-Null Count  Dtype  \n",
      "---  ------                          --------------  -----  \n",
      " 0   user_id                         95785 non-null  object \n",
      " 1   playtime_forever                95785 non-null  int64  \n",
      " 2   item_id                         95785 non-null  int64  \n",
      " 3   title                           95785 non-null  object \n",
      " 4   release_date                    95785 non-null  int64  \n",
      " 5   price                           95785 non-null  float64\n",
      " 6   developer                       95785 non-null  object \n",
      " 7   genres_Action                   95785 non-null  int64  \n",
      " 8   genres_Adventure                95785 non-null  int64  \n",
      " 9   genres_Animation and Modeling   95785 non-null  int64  \n",
      " 10  genres_Audio Production         95785 non-null  int64  \n",
      " 11  genres_Casual                   95785 non-null  int64  \n",
      " 12  genres_Design and Illustration  95785 non-null  int64  \n",
      " 13  genres_Early Access             95785 non-null  int64  \n",
      " 14  genres_Education                95785 non-null  int64  \n",
      " 15  genres_Free to Play             95785 non-null  int64  \n",
      " 16  genres_Indie                    95785 non-null  int64  \n",
      " 17  genres_Massively Multiplayer    95785 non-null  int64  \n",
      " 18  genres_Photo Editing            95785 non-null  int64  \n",
      " 19  genres_RPG                      95785 non-null  int64  \n",
      " 20  genres_Racing                   95785 non-null  int64  \n",
      " 21  genres_Simulation               95785 non-null  int64  \n",
      " 22  genres_Software Training        95785 non-null  int64  \n",
      " 23  genres_Sports                   95785 non-null  int64  \n",
      " 24  genres_Strategy                 95785 non-null  int64  \n",
      " 25  genres_Utilities                95785 non-null  int64  \n",
      " 26  genres_Video Production         95785 non-null  int64  \n",
      " 27  genres_Web Publishing           95785 non-null  int64  \n",
      "dtypes: float64(1), int64(24), object(3)\n",
      "memory usage: 20.5+ MB\n"
     ]
    }
   ],
   "source": [
    "df_merge.info()"
   ]
  },
  {
   "cell_type": "code",
   "execution_count": 393,
   "metadata": {},
   "outputs": [],
   "source": [
    "df_merge.to_csv('CSV\\consulta1.csv', index=False)"
   ]
  },
  {
   "cell_type": "code",
   "execution_count": 394,
   "metadata": {},
   "outputs": [
    {
     "data": {
      "text/html": [
       "<div>\n",
       "<style scoped>\n",
       "    .dataframe tbody tr th:only-of-type {\n",
       "        vertical-align: middle;\n",
       "    }\n",
       "\n",
       "    .dataframe tbody tr th {\n",
       "        vertical-align: top;\n",
       "    }\n",
       "\n",
       "    .dataframe thead th {\n",
       "        text-align: right;\n",
       "    }\n",
       "</style>\n",
       "<table border=\"1\" class=\"dataframe\">\n",
       "  <thead>\n",
       "    <tr style=\"text-align: right;\">\n",
       "      <th></th>\n",
       "      <th>user_id</th>\n",
       "      <th>playtime_forever</th>\n",
       "      <th>item_id</th>\n",
       "      <th>title</th>\n",
       "      <th>release_date</th>\n",
       "      <th>price</th>\n",
       "      <th>developer</th>\n",
       "      <th>genres_Action</th>\n",
       "      <th>genres_Adventure</th>\n",
       "      <th>genres_Animation and Modeling</th>\n",
       "      <th>...</th>\n",
       "      <th>genres_Photo Editing</th>\n",
       "      <th>genres_RPG</th>\n",
       "      <th>genres_Racing</th>\n",
       "      <th>genres_Simulation</th>\n",
       "      <th>genres_Software Training</th>\n",
       "      <th>genres_Sports</th>\n",
       "      <th>genres_Strategy</th>\n",
       "      <th>genres_Utilities</th>\n",
       "      <th>genres_Video Production</th>\n",
       "      <th>genres_Web Publishing</th>\n",
       "    </tr>\n",
       "  </thead>\n",
       "  <tbody>\n",
       "    <tr>\n",
       "      <th>0</th>\n",
       "      <td>76561197970982479</td>\n",
       "      <td>6</td>\n",
       "      <td>10</td>\n",
       "      <td>Counter-Strike</td>\n",
       "      <td>2000</td>\n",
       "      <td>9.99</td>\n",
       "      <td>Valve</td>\n",
       "      <td>1</td>\n",
       "      <td>0</td>\n",
       "      <td>0</td>\n",
       "      <td>...</td>\n",
       "      <td>0</td>\n",
       "      <td>0</td>\n",
       "      <td>0</td>\n",
       "      <td>0</td>\n",
       "      <td>0</td>\n",
       "      <td>0</td>\n",
       "      <td>0</td>\n",
       "      <td>0</td>\n",
       "      <td>0</td>\n",
       "      <td>0</td>\n",
       "    </tr>\n",
       "    <tr>\n",
       "      <th>1</th>\n",
       "      <td>js41637</td>\n",
       "      <td>0</td>\n",
       "      <td>10</td>\n",
       "      <td>Counter-Strike</td>\n",
       "      <td>2000</td>\n",
       "      <td>9.99</td>\n",
       "      <td>Valve</td>\n",
       "      <td>1</td>\n",
       "      <td>0</td>\n",
       "      <td>0</td>\n",
       "      <td>...</td>\n",
       "      <td>0</td>\n",
       "      <td>0</td>\n",
       "      <td>0</td>\n",
       "      <td>0</td>\n",
       "      <td>0</td>\n",
       "      <td>0</td>\n",
       "      <td>0</td>\n",
       "      <td>0</td>\n",
       "      <td>0</td>\n",
       "      <td>0</td>\n",
       "    </tr>\n",
       "    <tr>\n",
       "      <th>2</th>\n",
       "      <td>Riot-Punch</td>\n",
       "      <td>0</td>\n",
       "      <td>10</td>\n",
       "      <td>Counter-Strike</td>\n",
       "      <td>2000</td>\n",
       "      <td>9.99</td>\n",
       "      <td>Valve</td>\n",
       "      <td>1</td>\n",
       "      <td>0</td>\n",
       "      <td>0</td>\n",
       "      <td>...</td>\n",
       "      <td>0</td>\n",
       "      <td>0</td>\n",
       "      <td>0</td>\n",
       "      <td>0</td>\n",
       "      <td>0</td>\n",
       "      <td>0</td>\n",
       "      <td>0</td>\n",
       "      <td>0</td>\n",
       "      <td>0</td>\n",
       "      <td>0</td>\n",
       "    </tr>\n",
       "  </tbody>\n",
       "</table>\n",
       "<p>3 rows × 28 columns</p>\n",
       "</div>"
      ],
      "text/plain": [
       "             user_id  playtime_forever  item_id           title  release_date  \\\n",
       "0  76561197970982479                 6       10  Counter-Strike          2000   \n",
       "1            js41637                 0       10  Counter-Strike          2000   \n",
       "2         Riot-Punch                 0       10  Counter-Strike          2000   \n",
       "\n",
       "   price developer  genres_Action  genres_Adventure  \\\n",
       "0   9.99     Valve              1                 0   \n",
       "1   9.99     Valve              1                 0   \n",
       "2   9.99     Valve              1                 0   \n",
       "\n",
       "   genres_Animation and Modeling  ...  genres_Photo Editing  genres_RPG  \\\n",
       "0                              0  ...                     0           0   \n",
       "1                              0  ...                     0           0   \n",
       "2                              0  ...                     0           0   \n",
       "\n",
       "   genres_Racing  genres_Simulation  genres_Software Training  genres_Sports  \\\n",
       "0              0                  0                         0              0   \n",
       "1              0                  0                         0              0   \n",
       "2              0                  0                         0              0   \n",
       "\n",
       "   genres_Strategy  genres_Utilities  genres_Video Production  \\\n",
       "0                0                 0                        0   \n",
       "1                0                 0                        0   \n",
       "2                0                 0                        0   \n",
       "\n",
       "   genres_Web Publishing  \n",
       "0                      0  \n",
       "1                      0  \n",
       "2                      0  \n",
       "\n",
       "[3 rows x 28 columns]"
      ]
     },
     "execution_count": 394,
     "metadata": {},
     "output_type": "execute_result"
    }
   ],
   "source": [
    "df_merge.head(3)"
   ]
  },
  {
   "cell_type": "code",
   "execution_count": 395,
   "metadata": {},
   "outputs": [],
   "source": [
    "df = pd.read_csv('CSV\\\\consulta1.csv', sep=',', encoding='UTF-8')"
   ]
  },
  {
   "cell_type": "code",
   "execution_count": 396,
   "metadata": {},
   "outputs": [],
   "source": [
    "df_filtrado = df[df['genres_Action'] == 1]"
   ]
  },
  {
   "cell_type": "code",
   "execution_count": 397,
   "metadata": {},
   "outputs": [],
   "source": [
    " # Agrupa por año y suma las horas de juego\n",
    "resumen = df_filtrado.groupby('release_date')['playtime_forever'].sum()"
   ]
  },
  {
   "cell_type": "code",
   "execution_count": 398,
   "metadata": {},
   "outputs": [],
   "source": [
    "anio_mas_horas = resumen.idxmax()\n",
    "max_horas_jugadas = resumen.max()"
   ]
  },
  {
   "cell_type": "code",
   "execution_count": 399,
   "metadata": {},
   "outputs": [],
   "source": [
    "df1 = df_filtrado[df_filtrado['release_date'] == anio_mas_horas]"
   ]
  },
  {
   "cell_type": "code",
   "execution_count": 400,
   "metadata": {},
   "outputs": [],
   "source": [
    "# Agrupa por año, y suma las horas de juego\n",
    "resumen = df1.groupby(['release_date'])['playtime_forever'].sum().reset_index()"
   ]
  },
  {
   "cell_type": "code",
   "execution_count": 401,
   "metadata": {},
   "outputs": [],
   "source": [
    "\n",
    "# Convierte el resultado en una lista de horas acumuladas por año\n",
    "horas_acumuladas_por_año = []\n",
    "for _, row in resumen.iterrows():\n",
    "    horas_acumuladas_por_año.append({\"Año\": row[\"release_date\"], \"Horas\": row[\"playtime_forever\"]})"
   ]
  },
  {
   "cell_type": "code",
   "execution_count": 402,
   "metadata": {},
   "outputs": [
    {
     "data": {
      "text/plain": [
       "[{'Año': 2004, 'Horas': 52713328}]"
      ]
     },
     "execution_count": 402,
     "metadata": {},
     "output_type": "execute_result"
    }
   ],
   "source": [
    "horas_acumuladas_por_año"
   ]
  },
  {
   "cell_type": "code",
   "execution_count": 403,
   "metadata": {},
   "outputs": [],
   "source": [
    "def query_data1(genero):\n",
    "    try:\n",
    "        df = pd.read_csv('CSV\\\\consulta1.csv', sep=',', encoding='UTF-8')  \n",
    "        df_filtrado = df[df[genero] == 1]\n",
    "         # Agrupa por año y suma las horas de juego\n",
    "        resumen = df_filtrado.groupby('release_date')['playtime_forever'].sum()\n",
    "        anio_mas_horas = resumen.idxmax()\n",
    "       \n",
    "        return {\n",
    "            \"Año con más horas jugadas para Género \" + genero: anio_mas_horas,\n",
    "          \n",
    "        }\n",
    "    except Exception as e:\n",
    "        return {\"error\": str(e)}"
   ]
  },
  {
   "cell_type": "code",
   "execution_count": 404,
   "metadata": {},
   "outputs": [
    {
     "data": {
      "text/plain": [
       "{'Año con más horas jugadas para Género genres_Adventure': 2011}"
      ]
     },
     "execution_count": 404,
     "metadata": {},
     "output_type": "execute_result"
    }
   ],
   "source": [
    "genero = 'genres_Adventure'\n",
    "query_data1(genero)"
   ]
  },
  {
   "cell_type": "code",
   "execution_count": 405,
   "metadata": {},
   "outputs": [
    {
     "data": {
      "text/plain": [
       "{'Año con más horas jugadas para Género genres_Casual': 2017}"
      ]
     },
     "execution_count": 405,
     "metadata": {},
     "output_type": "execute_result"
    }
   ],
   "source": [
    "genero = 'genres_Casual'\n",
    "query_data1(genero)"
   ]
  },
  {
   "cell_type": "markdown",
   "metadata": {},
   "source": [
    "# ENDPOINT NRO 2 "
   ]
  },
  {
   "cell_type": "markdown",
   "metadata": {},
   "source": [
    "def UserForGenre( genero: str ) :<br> Debe devolver el usuario que acumula más horas jugadas para el género dado y una lista de la acumulación de horas jugadas por año.<br>\n",
    "Ejemplo de retorno: {\"Usuario con más horas jugadas para Género X\" : us213ndjss09sdf, \"Horas jugadas\":[{Año: 2013, Horas: 203}, {Año: 2012, Horas: 100}, {Año: 2011, Horas : 23}]}"
   ]
  },
  {
   "cell_type": "code",
   "execution_count": 406,
   "metadata": {},
   "outputs": [],
   "source": [
    "df = pd.read_csv('CSV\\\\consulta1.csv', sep=',', encoding='UTF-8')"
   ]
  },
  {
   "cell_type": "code",
   "execution_count": 407,
   "metadata": {},
   "outputs": [],
   "source": [
    "df_filtrado = df[df['genres_Action'] == 1]"
   ]
  },
  {
   "cell_type": "code",
   "execution_count": 408,
   "metadata": {},
   "outputs": [],
   "source": [
    " # Agrupa por usuario y suma las horas de juego\n",
    "resumen = df_filtrado.groupby('user_id')['playtime_forever'].sum()"
   ]
  },
  {
   "cell_type": "code",
   "execution_count": 409,
   "metadata": {},
   "outputs": [],
   "source": [
    "usuario_mas_horas = resumen.idxmax()\n",
    "max_horas_jugadas = resumen.max()"
   ]
  },
  {
   "cell_type": "code",
   "execution_count": 410,
   "metadata": {},
   "outputs": [],
   "source": [
    "df1 = df_filtrado[df_filtrado['user_id'] == usuario_mas_horas]"
   ]
  },
  {
   "cell_type": "code",
   "execution_count": 411,
   "metadata": {},
   "outputs": [],
   "source": [
    "# Agrupa por usuario y año, y suma las horas de juego\n",
    "resumen = df1.groupby(['user_id', 'release_date'])['playtime_forever'].sum().reset_index()"
   ]
  },
  {
   "cell_type": "code",
   "execution_count": 412,
   "metadata": {},
   "outputs": [],
   "source": [
    "\n",
    "# Convierte el resultado en una lista de horas acumuladas por año\n",
    "horas_acumuladas_por_año = []\n",
    "for _, row in resumen.iterrows():\n",
    "    horas_acumuladas_por_año.append({\"Año\": row[\"release_date\"], \"Horas\": row[\"playtime_forever\"]})"
   ]
  },
  {
   "cell_type": "code",
   "execution_count": 413,
   "metadata": {},
   "outputs": [
    {
     "data": {
      "text/plain": [
       "[{'Año': 2004, 'Horas': 388621}]"
      ]
     },
     "execution_count": 413,
     "metadata": {},
     "output_type": "execute_result"
    }
   ],
   "source": [
    "horas_acumuladas_por_año"
   ]
  },
  {
   "cell_type": "code",
   "execution_count": 414,
   "metadata": {},
   "outputs": [],
   "source": [
    "def query_data2(genero):\n",
    "    try:\n",
    "        df = pd.read_csv('CSV\\\\consulta1.csv', sep=',', encoding='UTF-8')  \n",
    "\n",
    "        df_filtrado = df[df[genero] == 1]\n",
    "\n",
    "        # Agrupa por usuario y suma las horas de juego\n",
    "        resumen = df_filtrado.groupby('user_id')['playtime_forever'].sum()\n",
    "\n",
    "        usuario_mas_horas = resumen.idxmax()\n",
    "        max_horas_jugadas = resumen.max()\n",
    "\n",
    "        df1 = df_filtrado[df_filtrado['user_id'] == usuario_mas_horas]\n",
    "\n",
    "        # Agrupa por usuario y año, y suma las horas de juego\n",
    "        resumen = df1.groupby(['user_id', 'release_date'])['playtime_forever'].sum().reset_index()\n",
    "\n",
    "        # Convierte el resultado en una lista de horas acumuladas por año\n",
    "        horas_acumuladas_por_año = []\n",
    "        for _, row in resumen.iterrows():\n",
    "            horas_acumuladas_por_año.append({\"Año\": row[\"release_date\"], \"Horas\": row[\"playtime_forever\"]})\n",
    "\n",
    "        return {\n",
    "            \"Usuario con más horas jugadas para Género \" + genero: usuario_mas_horas,\n",
    "            \"Horas jugadas\": horas_acumuladas_por_año\n",
    "        }\n",
    "    except Exception as e:\n",
    "        return {\"error\": str(e)}"
   ]
  },
  {
   "cell_type": "code",
   "execution_count": 415,
   "metadata": {},
   "outputs": [
    {
     "data": {
      "text/plain": [
       "{'Usuario con más horas jugadas para Género genres_Adventure': '76561198054840158',\n",
       " 'Horas jugadas': [{'Año': 2014, 'Horas': 337453}]}"
      ]
     },
     "execution_count": 415,
     "metadata": {},
     "output_type": "execute_result"
    }
   ],
   "source": [
    "genero = 'genres_Adventure'\n",
    "query_data2(genero)"
   ]
  },
  {
   "cell_type": "markdown",
   "metadata": {},
   "source": [
    "# ENDPOINT NRO 3 "
   ]
  },
  {
   "cell_type": "markdown",
   "metadata": {},
   "source": [
    "def UsersRecommend( año: int ) : <br>Devuelve el top 3 de juegos MÁS recomendados por usuarios para el año dado. (reviews.recommend = True y comentarios positivos/neutrales)<br>\n",
    "Ejemplo de retorno: [{\"Puesto 1\" : X}, {\"Puesto 2\" : Y},{\"Puesto 3\" : Z}]"
   ]
  },
  {
   "cell_type": "code",
   "execution_count": 416,
   "metadata": {},
   "outputs": [],
   "source": [
    "df_users_reviews = pd.read_csv(\"CSV//australian_user_reviews.csv\", sep=\",\", encoding='UTF-8')"
   ]
  },
  {
   "cell_type": "code",
   "execution_count": 417,
   "metadata": {},
   "outputs": [
    {
     "data": {
      "text/html": [
       "<div>\n",
       "<style scoped>\n",
       "    .dataframe tbody tr th:only-of-type {\n",
       "        vertical-align: middle;\n",
       "    }\n",
       "\n",
       "    .dataframe tbody tr th {\n",
       "        vertical-align: top;\n",
       "    }\n",
       "\n",
       "    .dataframe thead th {\n",
       "        text-align: right;\n",
       "    }\n",
       "</style>\n",
       "<table border=\"1\" class=\"dataframe\">\n",
       "  <thead>\n",
       "    <tr style=\"text-align: right;\">\n",
       "      <th></th>\n",
       "      <th>user_id</th>\n",
       "      <th>item_id</th>\n",
       "      <th>recommend</th>\n",
       "      <th>review</th>\n",
       "      <th>posted year</th>\n",
       "      <th>sentiment_analysis</th>\n",
       "    </tr>\n",
       "  </thead>\n",
       "  <tbody>\n",
       "    <tr>\n",
       "      <th>0</th>\n",
       "      <td>76561197970982479</td>\n",
       "      <td>1250.0</td>\n",
       "      <td>True</td>\n",
       "      <td>Simple yet with great replayability. In my opi...</td>\n",
       "      <td>2011.0</td>\n",
       "      <td>2</td>\n",
       "    </tr>\n",
       "    <tr>\n",
       "      <th>1</th>\n",
       "      <td>76561197970982479</td>\n",
       "      <td>22200.0</td>\n",
       "      <td>True</td>\n",
       "      <td>It's unique and worth a playthrough.</td>\n",
       "      <td>2011.0</td>\n",
       "      <td>2</td>\n",
       "    </tr>\n",
       "    <tr>\n",
       "      <th>2</th>\n",
       "      <td>76561197970982479</td>\n",
       "      <td>43110.0</td>\n",
       "      <td>True</td>\n",
       "      <td>Great atmosphere. The gunplay can be a bit chu...</td>\n",
       "      <td>2011.0</td>\n",
       "      <td>2</td>\n",
       "    </tr>\n",
       "  </tbody>\n",
       "</table>\n",
       "</div>"
      ],
      "text/plain": [
       "             user_id  item_id recommend  \\\n",
       "0  76561197970982479   1250.0      True   \n",
       "1  76561197970982479  22200.0      True   \n",
       "2  76561197970982479  43110.0      True   \n",
       "\n",
       "                                              review  posted year  \\\n",
       "0  Simple yet with great replayability. In my opi...       2011.0   \n",
       "1               It's unique and worth a playthrough.       2011.0   \n",
       "2  Great atmosphere. The gunplay can be a bit chu...       2011.0   \n",
       "\n",
       "   sentiment_analysis  \n",
       "0                   2  \n",
       "1                   2  \n",
       "2                   2  "
      ]
     },
     "execution_count": 417,
     "metadata": {},
     "output_type": "execute_result"
    }
   ],
   "source": [
    "df_users_reviews.head(3)"
   ]
  },
  {
   "cell_type": "code",
   "execution_count": 418,
   "metadata": {},
   "outputs": [
    {
     "data": {
      "text/html": [
       "<div>\n",
       "<style scoped>\n",
       "    .dataframe tbody tr th:only-of-type {\n",
       "        vertical-align: middle;\n",
       "    }\n",
       "\n",
       "    .dataframe tbody tr th {\n",
       "        vertical-align: top;\n",
       "    }\n",
       "\n",
       "    .dataframe thead th {\n",
       "        text-align: right;\n",
       "    }\n",
       "</style>\n",
       "<table border=\"1\" class=\"dataframe\">\n",
       "  <thead>\n",
       "    <tr style=\"text-align: right;\">\n",
       "      <th></th>\n",
       "      <th>title</th>\n",
       "      <th>item_id</th>\n",
       "    </tr>\n",
       "  </thead>\n",
       "  <tbody>\n",
       "    <tr>\n",
       "      <th>0</th>\n",
       "      <td>Lost Summoner Kitty</td>\n",
       "      <td>761140</td>\n",
       "    </tr>\n",
       "    <tr>\n",
       "      <th>1</th>\n",
       "      <td>Lost Summoner Kitty</td>\n",
       "      <td>761140</td>\n",
       "    </tr>\n",
       "    <tr>\n",
       "      <th>2</th>\n",
       "      <td>Lost Summoner Kitty</td>\n",
       "      <td>761140</td>\n",
       "    </tr>\n",
       "  </tbody>\n",
       "</table>\n",
       "</div>"
      ],
      "text/plain": [
       "                 title  item_id\n",
       "0  Lost Summoner Kitty   761140\n",
       "1  Lost Summoner Kitty   761140\n",
       "2  Lost Summoner Kitty   761140"
      ]
     },
     "execution_count": 418,
     "metadata": {},
     "output_type": "execute_result"
    }
   ],
   "source": [
    "columnas = ['item_id', 'title']\n",
    "df_output_steam_games = pd.read_csv('CSV\\output_steaam_games.csv', usecols=columnas, sep=',', encoding='UTF-8')\n",
    "df_output_steam_games.head(3)"
   ]
  },
  {
   "cell_type": "code",
   "execution_count": 419,
   "metadata": {},
   "outputs": [
    {
     "name": "stdout",
     "output_type": "stream",
     "text": [
      "<class 'pandas.core.frame.DataFrame'>\n",
      "RangeIndex: 55612 entries, 0 to 55611\n",
      "Data columns (total 2 columns):\n",
      " #   Column   Non-Null Count  Dtype \n",
      "---  ------   --------------  ----- \n",
      " 0   title    55612 non-null  object\n",
      " 1   item_id  55612 non-null  int64 \n",
      "dtypes: int64(1), object(1)\n",
      "memory usage: 869.1+ KB\n"
     ]
    }
   ],
   "source": [
    "df_output_steam_games.info()"
   ]
  },
  {
   "cell_type": "markdown",
   "metadata": {},
   "source": [
    "Agregamos una columna concatenada para luego eliminar duplicados"
   ]
  },
  {
   "cell_type": "code",
   "execution_count": 420,
   "metadata": {},
   "outputs": [],
   "source": [
    "df_output_steam_games['concatenada'] = df_output_steam_games['title'] + str(df_output_steam_games['item_id'])"
   ]
  },
  {
   "cell_type": "code",
   "execution_count": 421,
   "metadata": {},
   "outputs": [],
   "source": [
    "# eliminamos duplicados\n",
    "df_output_steam_games.drop_duplicates(inplace=True)"
   ]
  },
  {
   "cell_type": "code",
   "execution_count": 422,
   "metadata": {},
   "outputs": [
    {
     "data": {
      "text/html": [
       "<div>\n",
       "<style scoped>\n",
       "    .dataframe tbody tr th:only-of-type {\n",
       "        vertical-align: middle;\n",
       "    }\n",
       "\n",
       "    .dataframe tbody tr th {\n",
       "        vertical-align: top;\n",
       "    }\n",
       "\n",
       "    .dataframe thead th {\n",
       "        text-align: right;\n",
       "    }\n",
       "</style>\n",
       "<table border=\"1\" class=\"dataframe\">\n",
       "  <thead>\n",
       "    <tr style=\"text-align: right;\">\n",
       "      <th></th>\n",
       "      <th>title</th>\n",
       "      <th>item_id</th>\n",
       "      <th>concatenada</th>\n",
       "    </tr>\n",
       "  </thead>\n",
       "  <tbody>\n",
       "    <tr>\n",
       "      <th>0</th>\n",
       "      <td>Lost Summoner Kitty</td>\n",
       "      <td>761140</td>\n",
       "      <td>Lost Summoner Kitty0        761140\\n1        7...</td>\n",
       "    </tr>\n",
       "  </tbody>\n",
       "</table>\n",
       "</div>"
      ],
      "text/plain": [
       "                 title  item_id  \\\n",
       "0  Lost Summoner Kitty   761140   \n",
       "\n",
       "                                         concatenada  \n",
       "0  Lost Summoner Kitty0        761140\\n1        7...  "
      ]
     },
     "execution_count": 422,
     "metadata": {},
     "output_type": "execute_result"
    }
   ],
   "source": [
    "df_output_steam_games.head(1)"
   ]
  },
  {
   "cell_type": "code",
   "execution_count": 423,
   "metadata": {},
   "outputs": [],
   "source": [
    "# eliminamos la columna agregada\n",
    "df_output_steam_games.drop('concatenada', axis=1, inplace=True)"
   ]
  },
  {
   "cell_type": "markdown",
   "metadata": {},
   "source": [
    "Hacemos un merge de los dos dataframe"
   ]
  },
  {
   "cell_type": "code",
   "execution_count": 424,
   "metadata": {},
   "outputs": [],
   "source": [
    "df_merge = df_users_reviews.merge(df_output_steam_games, on='item_id')"
   ]
  },
  {
   "cell_type": "markdown",
   "metadata": {},
   "source": [
    "Filtramos solo los que tienen recomendacion True"
   ]
  },
  {
   "cell_type": "code",
   "execution_count": 425,
   "metadata": {},
   "outputs": [],
   "source": [
    "df_merge = df_merge[df_merge['recommend']==True]"
   ]
  },
  {
   "cell_type": "code",
   "execution_count": 426,
   "metadata": {},
   "outputs": [
    {
     "data": {
      "text/plain": [
       "array([2011., 2015., 2013., 2014., 2010., 2012.,   nan])"
      ]
     },
     "execution_count": 426,
     "metadata": {},
     "output_type": "execute_result"
    }
   ],
   "source": [
    "df_merge['posted year'].unique()"
   ]
  },
  {
   "cell_type": "code",
   "execution_count": 427,
   "metadata": {},
   "outputs": [
    {
     "name": "stdout",
     "output_type": "stream",
     "text": [
      "<class 'pandas.core.frame.DataFrame'>\n",
      "Index: 43262 entries, 0 to 48338\n",
      "Data columns (total 7 columns):\n",
      " #   Column              Non-Null Count  Dtype  \n",
      "---  ------              --------------  -----  \n",
      " 0   user_id             43262 non-null  object \n",
      " 1   item_id             43262 non-null  float64\n",
      " 2   recommend           43262 non-null  object \n",
      " 3   review              43241 non-null  object \n",
      " 4   posted year         36324 non-null  float64\n",
      " 5   sentiment_analysis  43262 non-null  int64  \n",
      " 6   title               43262 non-null  object \n",
      "dtypes: float64(2), int64(1), object(4)\n",
      "memory usage: 2.6+ MB\n"
     ]
    }
   ],
   "source": [
    "df_merge.info()"
   ]
  },
  {
   "cell_type": "code",
   "execution_count": 428,
   "metadata": {},
   "outputs": [],
   "source": [
    "df_merge.dropna(inplace=True)"
   ]
  },
  {
   "cell_type": "code",
   "execution_count": 429,
   "metadata": {},
   "outputs": [],
   "source": [
    "df_merge['posted year'] = df_merge['posted year'].astype(int)"
   ]
  },
  {
   "cell_type": "code",
   "execution_count": 430,
   "metadata": {},
   "outputs": [
    {
     "data": {
      "text/html": [
       "<div>\n",
       "<style scoped>\n",
       "    .dataframe tbody tr th:only-of-type {\n",
       "        vertical-align: middle;\n",
       "    }\n",
       "\n",
       "    .dataframe tbody tr th {\n",
       "        vertical-align: top;\n",
       "    }\n",
       "\n",
       "    .dataframe thead th {\n",
       "        text-align: right;\n",
       "    }\n",
       "</style>\n",
       "<table border=\"1\" class=\"dataframe\">\n",
       "  <thead>\n",
       "    <tr style=\"text-align: right;\">\n",
       "      <th></th>\n",
       "      <th>user_id</th>\n",
       "      <th>item_id</th>\n",
       "      <th>recommend</th>\n",
       "      <th>review</th>\n",
       "      <th>posted year</th>\n",
       "      <th>sentiment_analysis</th>\n",
       "      <th>title</th>\n",
       "    </tr>\n",
       "  </thead>\n",
       "  <tbody>\n",
       "    <tr>\n",
       "      <th>0</th>\n",
       "      <td>76561197970982479</td>\n",
       "      <td>1250.0</td>\n",
       "      <td>True</td>\n",
       "      <td>Simple yet with great replayability. In my opi...</td>\n",
       "      <td>2011</td>\n",
       "      <td>2</td>\n",
       "      <td>Killing Floor</td>\n",
       "    </tr>\n",
       "  </tbody>\n",
       "</table>\n",
       "</div>"
      ],
      "text/plain": [
       "             user_id  item_id recommend  \\\n",
       "0  76561197970982479   1250.0      True   \n",
       "\n",
       "                                              review  posted year  \\\n",
       "0  Simple yet with great replayability. In my opi...         2011   \n",
       "\n",
       "   sentiment_analysis          title  \n",
       "0                   2  Killing Floor  "
      ]
     },
     "execution_count": 430,
     "metadata": {},
     "output_type": "execute_result"
    }
   ],
   "source": [
    "df_merge.head(1)"
   ]
  },
  {
   "cell_type": "markdown",
   "metadata": {},
   "source": [
    "Pasamos el dataframe a csv para utilizar en la consulta"
   ]
  },
  {
   "cell_type": "code",
   "execution_count": 431,
   "metadata": {},
   "outputs": [],
   "source": [
    "df_merge.to_csv('CSV\\consulta3.csv', index=False)"
   ]
  },
  {
   "cell_type": "code",
   "execution_count": 432,
   "metadata": {},
   "outputs": [],
   "source": [
    "df3 = pd.read_csv('CSV\\consulta3.csv', sep=',', encoding='UTF-8')"
   ]
  },
  {
   "cell_type": "code",
   "execution_count": 433,
   "metadata": {},
   "outputs": [],
   "source": [
    "año = 2011\n",
    "df_filtrado = df3[df3['posted year'] == año] "
   ]
  },
  {
   "cell_type": "code",
   "execution_count": 434,
   "metadata": {},
   "outputs": [
    {
     "name": "stdout",
     "output_type": "stream",
     "text": [
      "<class 'pandas.core.frame.DataFrame'>\n",
      "Index: 436 entries, 0 to 36161\n",
      "Data columns (total 7 columns):\n",
      " #   Column              Non-Null Count  Dtype  \n",
      "---  ------              --------------  -----  \n",
      " 0   user_id             436 non-null    object \n",
      " 1   item_id             436 non-null    float64\n",
      " 2   recommend           436 non-null    bool   \n",
      " 3   review              436 non-null    object \n",
      " 4   posted year         436 non-null    int64  \n",
      " 5   sentiment_analysis  436 non-null    int64  \n",
      " 6   title               436 non-null    object \n",
      "dtypes: bool(1), float64(1), int64(2), object(3)\n",
      "memory usage: 24.3+ KB\n"
     ]
    }
   ],
   "source": [
    "df_filtrado.info()"
   ]
  },
  {
   "cell_type": "code",
   "execution_count": 435,
   "metadata": {},
   "outputs": [
    {
     "data": {
      "text/html": [
       "<div>\n",
       "<style scoped>\n",
       "    .dataframe tbody tr th:only-of-type {\n",
       "        vertical-align: middle;\n",
       "    }\n",
       "\n",
       "    .dataframe tbody tr th {\n",
       "        vertical-align: top;\n",
       "    }\n",
       "\n",
       "    .dataframe thead th {\n",
       "        text-align: right;\n",
       "    }\n",
       "</style>\n",
       "<table border=\"1\" class=\"dataframe\">\n",
       "  <thead>\n",
       "    <tr style=\"text-align: right;\">\n",
       "      <th></th>\n",
       "      <th>user_id</th>\n",
       "      <th>item_id</th>\n",
       "      <th>recommend</th>\n",
       "      <th>review</th>\n",
       "      <th>posted year</th>\n",
       "      <th>sentiment_analysis</th>\n",
       "      <th>title</th>\n",
       "    </tr>\n",
       "  </thead>\n",
       "  <tbody>\n",
       "    <tr>\n",
       "      <th>0</th>\n",
       "      <td>76561197970982479</td>\n",
       "      <td>1250.0</td>\n",
       "      <td>True</td>\n",
       "      <td>Simple yet with great replayability. In my opi...</td>\n",
       "      <td>2011</td>\n",
       "      <td>2</td>\n",
       "      <td>Killing Floor</td>\n",
       "    </tr>\n",
       "  </tbody>\n",
       "</table>\n",
       "</div>"
      ],
      "text/plain": [
       "             user_id  item_id  recommend  \\\n",
       "0  76561197970982479   1250.0       True   \n",
       "\n",
       "                                              review  posted year  \\\n",
       "0  Simple yet with great replayability. In my opi...         2011   \n",
       "\n",
       "   sentiment_analysis          title  \n",
       "0                   2  Killing Floor  "
      ]
     },
     "execution_count": 435,
     "metadata": {},
     "output_type": "execute_result"
    }
   ],
   "source": [
    "df_filtrado.head(1)"
   ]
  },
  {
   "cell_type": "code",
   "execution_count": 436,
   "metadata": {},
   "outputs": [],
   "source": [
    "# Agrupar por 'item_id' y contar los valores 2 en la columna 'sentimiento'\n",
    "conteo_sentimiento_2 = df_filtrado[df_filtrado['sentiment_analysis'] == 2].groupby('item_id').size()\n"
   ]
  },
  {
   "cell_type": "code",
   "execution_count": 437,
   "metadata": {},
   "outputs": [
    {
     "data": {
      "text/plain": [
       "item_id\n",
       "440.0       72\n",
       "620.0       25\n",
       "105600.0    21\n",
       "4000.0      19\n",
       "1250.0      14\n",
       "            ..\n",
       "15710.0      1\n",
       "15700.0      1\n",
       "15520.0      1\n",
       "13600.0      1\n",
       "24740.0      1\n",
       "Length: 138, dtype: int64"
      ]
     },
     "execution_count": 437,
     "metadata": {},
     "output_type": "execute_result"
    }
   ],
   "source": [
    "# Ordenar en orden descendente según el conteo\n",
    "conteo_sentimiento_2 = conteo_sentimiento_2.sort_values(ascending=False)\n",
    "conteo_sentimiento_2\n"
   ]
  },
  {
   "cell_type": "code",
   "execution_count": 438,
   "metadata": {},
   "outputs": [],
   "source": [
    "top_3 = conteo_sentimiento_2.head(3)"
   ]
  },
  {
   "cell_type": "code",
   "execution_count": 439,
   "metadata": {},
   "outputs": [],
   "source": [
    "# Obtener títulos de los ítems más recomendados\n",
    "items_recomendados = top_3.index.tolist()\n",
    "titulos_recomendados = df3[df3['item_id'].isin(items_recomendados)][['item_id', 'title']] \\\n",
    "                                .drop_duplicates().set_index('item_id').loc[items_recomendados]"
   ]
  },
  {
   "cell_type": "code",
   "execution_count": 440,
   "metadata": {},
   "outputs": [
    {
     "data": {
      "text/html": [
       "<div>\n",
       "<style scoped>\n",
       "    .dataframe tbody tr th:only-of-type {\n",
       "        vertical-align: middle;\n",
       "    }\n",
       "\n",
       "    .dataframe tbody tr th {\n",
       "        vertical-align: top;\n",
       "    }\n",
       "\n",
       "    .dataframe thead th {\n",
       "        text-align: right;\n",
       "    }\n",
       "</style>\n",
       "<table border=\"1\" class=\"dataframe\">\n",
       "  <thead>\n",
       "    <tr style=\"text-align: right;\">\n",
       "      <th></th>\n",
       "      <th>title</th>\n",
       "    </tr>\n",
       "  </thead>\n",
       "  <tbody>\n",
       "    <tr>\n",
       "      <th>0</th>\n",
       "      <td>Team Fortress 2</td>\n",
       "    </tr>\n",
       "    <tr>\n",
       "      <th>1</th>\n",
       "      <td>Portal 2</td>\n",
       "    </tr>\n",
       "    <tr>\n",
       "      <th>2</th>\n",
       "      <td>Terraria</td>\n",
       "    </tr>\n",
       "  </tbody>\n",
       "</table>\n",
       "</div>"
      ],
      "text/plain": [
       "             title\n",
       "0  Team Fortress 2\n",
       "1         Portal 2\n",
       "2         Terraria"
      ]
     },
     "execution_count": 440,
     "metadata": {},
     "output_type": "execute_result"
    }
   ],
   "source": [
    "titulos_recomendados = titulos_recomendados.reset_index(drop=True)\n",
    "titulos_recomendados"
   ]
  },
  {
   "cell_type": "code",
   "execution_count": 441,
   "metadata": {},
   "outputs": [
    {
     "data": {
      "text/plain": [
       "['Primero: ', 'Segundo: ', 'Tercero: ']"
      ]
     },
     "execution_count": 441,
     "metadata": {},
     "output_type": "execute_result"
    }
   ],
   "source": [
    "clave = ['Primero: ', 'Segundo: ', 'Tercero: ']\n",
    "clave"
   ]
  },
  {
   "cell_type": "code",
   "execution_count": 442,
   "metadata": {},
   "outputs": [
    {
     "data": {
      "text/plain": [
       "array(['Team Fortress 2', 'Portal 2', 'Terraria'], dtype=object)"
      ]
     },
     "execution_count": 442,
     "metadata": {},
     "output_type": "execute_result"
    }
   ],
   "source": [
    "valor = titulos_recomendados['title'].values\n",
    "valor"
   ]
  },
  {
   "cell_type": "code",
   "execution_count": 443,
   "metadata": {},
   "outputs": [],
   "source": [
    "# Crear un diccionario a partir de los arrays usando zip()\n",
    "diccionario = dict(zip(clave, valor))"
   ]
  },
  {
   "cell_type": "code",
   "execution_count": 444,
   "metadata": {},
   "outputs": [
    {
     "data": {
      "text/plain": [
       "{'Primero: ': 'Team Fortress 2',\n",
       " 'Segundo: ': 'Portal 2',\n",
       " 'Tercero: ': 'Terraria'}"
      ]
     },
     "execution_count": 444,
     "metadata": {},
     "output_type": "execute_result"
    }
   ],
   "source": [
    "diccionario"
   ]
  },
  {
   "cell_type": "code",
   "execution_count": 445,
   "metadata": {},
   "outputs": [],
   "source": [
    "def UsersRecommend(año):\n",
    "    \n",
    "    df3 = pd.read_csv('CSV\\\\consulta3.csv', sep=',', encoding='UTF-8')\n",
    "    df_filtrado = df3[df3['posted year'] == año] \n",
    "    \n",
    "    # Agrupar por 'item_id' y contar los valores 2 en la columna 'sentimiento'\n",
    "    conteo_sentimiento_2 = df_filtrado[df_filtrado['sentiment_analysis'] == 2].groupby('item_id').size()\n",
    "    \n",
    "    # Ordenar en orden descendente según el conteo\n",
    "    conteo_sentimiento_2 = conteo_sentimiento_2.sort_values(ascending=False)\n",
    "    top_3 = conteo_sentimiento_2.head(3)\n",
    "\n",
    "    # Obtener títulos de los ítems más recomendados\n",
    "    items_recomendados = top_3.index.tolist()\n",
    "    titulos_recomendados = df3[df3['item_id'].isin(items_recomendados)][['item_id', 'title']] \\\n",
    "                            .drop_duplicates().set_index('item_id').loc[items_recomendados]\n",
    "    # Obtener los títulos como una lista para el diccionario\n",
    "    valores = titulos_recomendados['title'].values.tolist()\n",
    "\n",
    "    # Crear el diccionario con claves fijas para los primeros 3 títulos\n",
    "    claves = ['Primero: ', 'Segundo: ', 'Tercero: ']\n",
    "    diccionario = dict(zip(claves, valores))\n",
    "    return diccionario\n"
   ]
  },
  {
   "cell_type": "code",
   "execution_count": 446,
   "metadata": {},
   "outputs": [
    {
     "data": {
      "text/plain": [
       "{'Primero: ': 'Team Fortress 2',\n",
       " 'Segundo: ': 'Counter-Strike: Global Offensive',\n",
       " 'Tercero: ': \"Garry's Mod\"}"
      ]
     },
     "execution_count": 446,
     "metadata": {},
     "output_type": "execute_result"
    }
   ],
   "source": [
    "UsersRecommend(2014)"
   ]
  },
  {
   "cell_type": "markdown",
   "metadata": {},
   "source": [
    "# ENDPOINT NRO 4 "
   ]
  },
  {
   "cell_type": "markdown",
   "metadata": {},
   "source": [
    "def UsersWorstDeveloper( año: int ) :<br>\n",
    "Devuelve el top 3 de desarrolladores con juegos MENOS recomendados por usuarios para el año dado.<br> \n",
    "(reviews.recommend = False y comentarios negativos)"
   ]
  },
  {
   "cell_type": "code",
   "execution_count": 447,
   "metadata": {},
   "outputs": [],
   "source": [
    "df_users_reviews = pd.read_csv(\"CSV//australian_user_reviews.csv\", sep=\",\", encoding='UTF-8')"
   ]
  },
  {
   "cell_type": "code",
   "execution_count": 449,
   "metadata": {},
   "outputs": [
    {
     "data": {
      "text/html": [
       "<div>\n",
       "<style scoped>\n",
       "    .dataframe tbody tr th:only-of-type {\n",
       "        vertical-align: middle;\n",
       "    }\n",
       "\n",
       "    .dataframe tbody tr th {\n",
       "        vertical-align: top;\n",
       "    }\n",
       "\n",
       "    .dataframe thead th {\n",
       "        text-align: right;\n",
       "    }\n",
       "</style>\n",
       "<table border=\"1\" class=\"dataframe\">\n",
       "  <thead>\n",
       "    <tr style=\"text-align: right;\">\n",
       "      <th></th>\n",
       "      <th>user_id</th>\n",
       "      <th>item_id</th>\n",
       "      <th>recommend</th>\n",
       "      <th>review</th>\n",
       "      <th>posted year</th>\n",
       "      <th>sentiment_analysis</th>\n",
       "    </tr>\n",
       "  </thead>\n",
       "  <tbody>\n",
       "    <tr>\n",
       "      <th>0</th>\n",
       "      <td>76561197970982479</td>\n",
       "      <td>1250.0</td>\n",
       "      <td>True</td>\n",
       "      <td>Simple yet with great replayability. In my opi...</td>\n",
       "      <td>2011.0</td>\n",
       "      <td>2</td>\n",
       "    </tr>\n",
       "  </tbody>\n",
       "</table>\n",
       "</div>"
      ],
      "text/plain": [
       "             user_id  item_id recommend  \\\n",
       "0  76561197970982479   1250.0      True   \n",
       "\n",
       "                                              review  posted year  \\\n",
       "0  Simple yet with great replayability. In my opi...       2011.0   \n",
       "\n",
       "   sentiment_analysis  \n",
       "0                   2  "
      ]
     },
     "execution_count": 449,
     "metadata": {},
     "output_type": "execute_result"
    }
   ],
   "source": [
    "df_users_reviews.head(1)"
   ]
  },
  {
   "cell_type": "code",
   "execution_count": 453,
   "metadata": {},
   "outputs": [],
   "source": [
    "columnas = ['item_id', 'developer']\n",
    "df_output_steam_games = pd.read_csv('CSV\\output_steaam_games.csv', usecols=columnas, sep=',', encoding='UTF-8')\n"
   ]
  },
  {
   "cell_type": "code",
   "execution_count": 454,
   "metadata": {},
   "outputs": [
    {
     "data": {
      "text/html": [
       "<div>\n",
       "<style scoped>\n",
       "    .dataframe tbody tr th:only-of-type {\n",
       "        vertical-align: middle;\n",
       "    }\n",
       "\n",
       "    .dataframe tbody tr th {\n",
       "        vertical-align: top;\n",
       "    }\n",
       "\n",
       "    .dataframe thead th {\n",
       "        text-align: right;\n",
       "    }\n",
       "</style>\n",
       "<table border=\"1\" class=\"dataframe\">\n",
       "  <thead>\n",
       "    <tr style=\"text-align: right;\">\n",
       "      <th></th>\n",
       "      <th>item_id</th>\n",
       "      <th>developer</th>\n",
       "    </tr>\n",
       "  </thead>\n",
       "  <tbody>\n",
       "    <tr>\n",
       "      <th>0</th>\n",
       "      <td>761140</td>\n",
       "      <td>Kotoshiro</td>\n",
       "    </tr>\n",
       "  </tbody>\n",
       "</table>\n",
       "</div>"
      ],
      "text/plain": [
       "   item_id  developer\n",
       "0   761140  Kotoshiro"
      ]
     },
     "execution_count": 454,
     "metadata": {},
     "output_type": "execute_result"
    }
   ],
   "source": [
    "df_output_steam_games.head(1)"
   ]
  },
  {
   "cell_type": "code",
   "execution_count": 455,
   "metadata": {},
   "outputs": [],
   "source": [
    "df_merge = df_users_reviews.merge(df_output_steam_games, on='item_id')"
   ]
  },
  {
   "cell_type": "code",
   "execution_count": 457,
   "metadata": {},
   "outputs": [],
   "source": [
    "df_merge = df_merge[df_merge['recommend'] == False]"
   ]
  },
  {
   "cell_type": "code",
   "execution_count": 463,
   "metadata": {},
   "outputs": [],
   "source": [
    "df = df_merge[['item_id', 'recommend', 'posted year', 'sentiment_analysis', 'developer']]"
   ]
  },
  {
   "cell_type": "code",
   "execution_count": 470,
   "metadata": {},
   "outputs": [
    {
     "name": "stdout",
     "output_type": "stream",
     "text": [
      "<class 'pandas.core.frame.DataFrame'>\n",
      "Index: 9993 entries, 29 to 120656\n",
      "Data columns (total 5 columns):\n",
      " #   Column              Non-Null Count  Dtype  \n",
      "---  ------              --------------  -----  \n",
      " 0   item_id             9993 non-null   float64\n",
      " 1   recommend           9993 non-null   object \n",
      " 2   posted year         9993 non-null   int32  \n",
      " 3   sentiment_analysis  9993 non-null   int64  \n",
      " 4   developer           9993 non-null   object \n",
      "dtypes: float64(1), int32(1), int64(1), object(2)\n",
      "memory usage: 429.4+ KB\n"
     ]
    }
   ],
   "source": [
    "df.info()"
   ]
  },
  {
   "cell_type": "code",
   "execution_count": 467,
   "metadata": {},
   "outputs": [],
   "source": [
    "df = df.dropna()"
   ]
  },
  {
   "cell_type": "code",
   "execution_count": 469,
   "metadata": {},
   "outputs": [
    {
     "name": "stderr",
     "output_type": "stream",
     "text": [
      "C:\\Users\\ALUMNO\\AppData\\Local\\Temp\\ipykernel_7040\\1083059817.py:1: SettingWithCopyWarning: \n",
      "A value is trying to be set on a copy of a slice from a DataFrame.\n",
      "Try using .loc[row_indexer,col_indexer] = value instead\n",
      "\n",
      "See the caveats in the documentation: https://pandas.pydata.org/pandas-docs/stable/user_guide/indexing.html#returning-a-view-versus-a-copy\n",
      "  df['posted year'] = df['posted year'].astype(int)\n"
     ]
    }
   ],
   "source": [
    "df['posted year'] = df['posted year'].astype(int)"
   ]
  },
  {
   "cell_type": "code",
   "execution_count": 471,
   "metadata": {},
   "outputs": [],
   "source": [
    "df.to_csv('CSV\\consulta4.csv', index=False)"
   ]
  },
  {
   "cell_type": "code",
   "execution_count": 472,
   "metadata": {},
   "outputs": [],
   "source": [
    "df4 = pd.read_csv('CSV\\consulta4.csv', sep=',', encoding='UTF-8')"
   ]
  },
  {
   "cell_type": "code",
   "execution_count": 482,
   "metadata": {},
   "outputs": [],
   "source": [
    "año = 2012\n",
    "df_filtrado = df4[df4['posted year'] == año] "
   ]
  },
  {
   "cell_type": "code",
   "execution_count": 483,
   "metadata": {},
   "outputs": [
    {
     "data": {
      "text/html": [
       "<div>\n",
       "<style scoped>\n",
       "    .dataframe tbody tr th:only-of-type {\n",
       "        vertical-align: middle;\n",
       "    }\n",
       "\n",
       "    .dataframe tbody tr th {\n",
       "        vertical-align: top;\n",
       "    }\n",
       "\n",
       "    .dataframe thead th {\n",
       "        text-align: right;\n",
       "    }\n",
       "</style>\n",
       "<table border=\"1\" class=\"dataframe\">\n",
       "  <thead>\n",
       "    <tr style=\"text-align: right;\">\n",
       "      <th></th>\n",
       "      <th>item_id</th>\n",
       "      <th>recommend</th>\n",
       "      <th>posted year</th>\n",
       "      <th>sentiment_analysis</th>\n",
       "      <th>developer</th>\n",
       "    </tr>\n",
       "  </thead>\n",
       "  <tbody>\n",
       "    <tr>\n",
       "      <th>470</th>\n",
       "      <td>440.0</td>\n",
       "      <td>False</td>\n",
       "      <td>2012</td>\n",
       "      <td>0</td>\n",
       "      <td>Valve</td>\n",
       "    </tr>\n",
       "    <tr>\n",
       "      <th>471</th>\n",
       "      <td>440.0</td>\n",
       "      <td>False</td>\n",
       "      <td>2012</td>\n",
       "      <td>0</td>\n",
       "      <td>Valve</td>\n",
       "    </tr>\n",
       "    <tr>\n",
       "      <th>3964</th>\n",
       "      <td>209870.0</td>\n",
       "      <td>False</td>\n",
       "      <td>2012</td>\n",
       "      <td>2</td>\n",
       "      <td>Hardsuit Labs</td>\n",
       "    </tr>\n",
       "    <tr>\n",
       "      <th>3965</th>\n",
       "      <td>209870.0</td>\n",
       "      <td>False</td>\n",
       "      <td>2012</td>\n",
       "      <td>2</td>\n",
       "      <td>Hardsuit Labs</td>\n",
       "    </tr>\n",
       "    <tr>\n",
       "      <th>5452</th>\n",
       "      <td>24240.0</td>\n",
       "      <td>False</td>\n",
       "      <td>2012</td>\n",
       "      <td>2</td>\n",
       "      <td>OVERKILL Software</td>\n",
       "    </tr>\n",
       "    <tr>\n",
       "      <th>5883</th>\n",
       "      <td>209100.0</td>\n",
       "      <td>False</td>\n",
       "      <td>2012</td>\n",
       "      <td>0</td>\n",
       "      <td>Slant Six Games</td>\n",
       "    </tr>\n",
       "    <tr>\n",
       "      <th>6314</th>\n",
       "      <td>202970.0</td>\n",
       "      <td>False</td>\n",
       "      <td>2012</td>\n",
       "      <td>0</td>\n",
       "      <td>Treyarch</td>\n",
       "    </tr>\n",
       "    <tr>\n",
       "      <th>6424</th>\n",
       "      <td>10680.0</td>\n",
       "      <td>False</td>\n",
       "      <td>2012</td>\n",
       "      <td>2</td>\n",
       "      <td>Rebellion</td>\n",
       "    </tr>\n",
       "    <tr>\n",
       "      <th>8030</th>\n",
       "      <td>57740.0</td>\n",
       "      <td>False</td>\n",
       "      <td>2012</td>\n",
       "      <td>2</td>\n",
       "      <td>Coreplay GmbH,Bigmoon Studios</td>\n",
       "    </tr>\n",
       "    <tr>\n",
       "      <th>8031</th>\n",
       "      <td>57740.0</td>\n",
       "      <td>False</td>\n",
       "      <td>2012</td>\n",
       "      <td>2</td>\n",
       "      <td>Coreplay GmbH,Bigmoon Studios</td>\n",
       "    </tr>\n",
       "  </tbody>\n",
       "</table>\n",
       "</div>"
      ],
      "text/plain": [
       "       item_id  recommend  posted year  sentiment_analysis  \\\n",
       "470      440.0      False         2012                   0   \n",
       "471      440.0      False         2012                   0   \n",
       "3964  209870.0      False         2012                   2   \n",
       "3965  209870.0      False         2012                   2   \n",
       "5452   24240.0      False         2012                   2   \n",
       "5883  209100.0      False         2012                   0   \n",
       "6314  202970.0      False         2012                   0   \n",
       "6424   10680.0      False         2012                   2   \n",
       "8030   57740.0      False         2012                   2   \n",
       "8031   57740.0      False         2012                   2   \n",
       "\n",
       "                          developer  \n",
       "470                           Valve  \n",
       "471                           Valve  \n",
       "3964                  Hardsuit Labs  \n",
       "3965                  Hardsuit Labs  \n",
       "5452              OVERKILL Software  \n",
       "5883                Slant Six Games  \n",
       "6314                       Treyarch  \n",
       "6424                      Rebellion  \n",
       "8030  Coreplay GmbH,Bigmoon Studios  \n",
       "8031  Coreplay GmbH,Bigmoon Studios  "
      ]
     },
     "execution_count": 483,
     "metadata": {},
     "output_type": "execute_result"
    }
   ],
   "source": [
    "df_filtrado.head(10)"
   ]
  },
  {
   "cell_type": "code",
   "execution_count": 484,
   "metadata": {},
   "outputs": [],
   "source": [
    "# Agrupar por 'item_id' y contar los valores 2 en la columna 'sentimiento'\n",
    "conteo_sentimiento_0 = df_filtrado[df_filtrado['sentiment_analysis'] == 0].groupby('item_id').size()"
   ]
  },
  {
   "cell_type": "code",
   "execution_count": 485,
   "metadata": {},
   "outputs": [
    {
     "data": {
      "text/plain": [
       "item_id\n",
       "440.0       2\n",
       "42920.0     1\n",
       "55110.0     1\n",
       "202970.0    1\n",
       "209100.0    1\n",
       "dtype: int64"
      ]
     },
     "execution_count": 485,
     "metadata": {},
     "output_type": "execute_result"
    }
   ],
   "source": [
    "# Ordenar en orden descendente según el conteo\n",
    "conteo_sentimiento_0 = conteo_sentimiento_0.sort_values(ascending=False)\n",
    "conteo_sentimiento_0"
   ]
  },
  {
   "cell_type": "code",
   "execution_count": 486,
   "metadata": {},
   "outputs": [],
   "source": [
    "top_3 = conteo_sentimiento_0.head(3)"
   ]
  },
  {
   "cell_type": "code",
   "execution_count": 489,
   "metadata": {},
   "outputs": [],
   "source": [
    "# Obtener títulos de los ítems más recomendados\n",
    "items_menos_recomendados = top_3.index.tolist()"
   ]
  },
  {
   "cell_type": "code",
   "execution_count": 490,
   "metadata": {},
   "outputs": [
    {
     "data": {
      "text/plain": [
       "[440.0, 42920.0, 55110.0]"
      ]
     },
     "execution_count": 490,
     "metadata": {},
     "output_type": "execute_result"
    }
   ],
   "source": [
    "items_menos_recomendados"
   ]
  },
  {
   "cell_type": "code",
   "execution_count": 491,
   "metadata": {},
   "outputs": [],
   "source": [
    "\n",
    "developer_menos_recomendados = df4[df4['item_id'].isin(items_menos_recomendados)][['item_id', 'developer']] \\\n",
    "                                .drop_duplicates().set_index('item_id').loc[items_menos_recomendados]"
   ]
  },
  {
   "cell_type": "code",
   "execution_count": 492,
   "metadata": {},
   "outputs": [
    {
     "data": {
      "text/html": [
       "<div>\n",
       "<style scoped>\n",
       "    .dataframe tbody tr th:only-of-type {\n",
       "        vertical-align: middle;\n",
       "    }\n",
       "\n",
       "    .dataframe tbody tr th {\n",
       "        vertical-align: top;\n",
       "    }\n",
       "\n",
       "    .dataframe thead th {\n",
       "        text-align: right;\n",
       "    }\n",
       "</style>\n",
       "<table border=\"1\" class=\"dataframe\">\n",
       "  <thead>\n",
       "    <tr style=\"text-align: right;\">\n",
       "      <th></th>\n",
       "      <th>developer</th>\n",
       "    </tr>\n",
       "  </thead>\n",
       "  <tbody>\n",
       "    <tr>\n",
       "      <th>0</th>\n",
       "      <td>Valve</td>\n",
       "    </tr>\n",
       "    <tr>\n",
       "      <th>1</th>\n",
       "      <td>NeoCoreGames</td>\n",
       "    </tr>\n",
       "    <tr>\n",
       "      <th>2</th>\n",
       "      <td>Volition</td>\n",
       "    </tr>\n",
       "  </tbody>\n",
       "</table>\n",
       "</div>"
      ],
      "text/plain": [
       "      developer\n",
       "0         Valve\n",
       "1  NeoCoreGames\n",
       "2      Volition"
      ]
     },
     "execution_count": 492,
     "metadata": {},
     "output_type": "execute_result"
    }
   ],
   "source": [
    "developer_menos_recomendados = developer_menos_recomendados.reset_index(drop=True)\n",
    "developer_menos_recomendados"
   ]
  },
  {
   "cell_type": "code",
   "execution_count": 499,
   "metadata": {},
   "outputs": [
    {
     "data": {
      "text/plain": [
       "['Puesto 1: ', 'Puesto 2: ', 'Puesto 3: ']"
      ]
     },
     "execution_count": 499,
     "metadata": {},
     "output_type": "execute_result"
    }
   ],
   "source": [
    "clave = ['Puesto 1: ', 'Puesto 2: ', 'Puesto 3: ']\n",
    "clave"
   ]
  },
  {
   "cell_type": "code",
   "execution_count": 500,
   "metadata": {},
   "outputs": [
    {
     "data": {
      "text/plain": [
       "array(['Valve', 'NeoCoreGames', 'Volition'], dtype=object)"
      ]
     },
     "execution_count": 500,
     "metadata": {},
     "output_type": "execute_result"
    }
   ],
   "source": [
    "valor = developer_menos_recomendados['developer'].values\n",
    "valor"
   ]
  },
  {
   "cell_type": "code",
   "execution_count": 501,
   "metadata": {},
   "outputs": [],
   "source": [
    "# Crear un diccionario a partir de los arrays usando zip()\n",
    "diccionario = dict(zip(clave, valor))"
   ]
  },
  {
   "cell_type": "code",
   "execution_count": 502,
   "metadata": {},
   "outputs": [
    {
     "data": {
      "text/plain": [
       "{'Puesto 1: ': 'Valve', 'Puesto 2: ': 'NeoCoreGames', 'Puesto 3: ': 'Volition'}"
      ]
     },
     "execution_count": 502,
     "metadata": {},
     "output_type": "execute_result"
    }
   ],
   "source": [
    "diccionario"
   ]
  },
  {
   "cell_type": "code",
   "execution_count": 503,
   "metadata": {},
   "outputs": [],
   "source": [
    "def UsersWorstDeveloper(año):\n",
    "    df4 = pd.read_csv('CSV\\consulta4.csv', sep=',', encoding='UTF-8')\n",
    "    df_filtrado = df4[df4['posted year'] == año] \n",
    "    # Agrupar por 'item_id' y contar los valores 2 en la columna 'sentimiento'\n",
    "    conteo_sentimiento_0 = df_filtrado[df_filtrado['sentiment_analysis'] == 0].groupby('item_id').size()\n",
    "    # Ordenar en orden descendente según el conteo\n",
    "    conteo_sentimiento_0 = conteo_sentimiento_0.sort_values(ascending=False)\n",
    "    top_3 = conteo_sentimiento_0.head(3)\n",
    "    # Obtener títulos de los ítems más recomendados\n",
    "    items_menos_recomendados = top_3.index.tolist()\n",
    "    developer_menos_recomendados = df4[df4['item_id'].isin(items_menos_recomendados)][['item_id', 'developer']] \\\n",
    "                                .drop_duplicates().set_index('item_id').loc[items_menos_recomendados]\n",
    "    developer_menos_recomendados = developer_menos_recomendados.reset_index(drop=True)\n",
    "    clave = ['Primero: ', 'Segundo: ', 'Tercero: ']\n",
    "    valor = developer_menos_recomendados['developer'].values\n",
    "    # Crear un diccionario a partir de los arrays usando zip()\n",
    "    diccionario = dict(zip(clave, valor))\n",
    "\n",
    "    return diccionario\n"
   ]
  },
  {
   "cell_type": "code",
   "execution_count": 505,
   "metadata": {},
   "outputs": [
    {
     "data": {
      "text/plain": [
       "{'Primero: ': 'Valve', 'Segundo: ': 'NeoCoreGames', 'Tercero: ': 'Volition'}"
      ]
     },
     "execution_count": 505,
     "metadata": {},
     "output_type": "execute_result"
    }
   ],
   "source": [
    "UsersWorstDeveloper(2012)"
   ]
  },
  {
   "cell_type": "markdown",
   "metadata": {},
   "source": [
    "# ENDPOINT NRO 5 "
   ]
  },
  {
   "cell_type": "markdown",
   "metadata": {},
   "source": [
    "def sentiment_analysis( empresa desarrolladora: str ) :<br> \n",
    "Según la empresa desarrolladora, se devuelve un diccionario con el nombre de la desarrolladora como llave y <br> \n",
    "una lista con la cantidad total de registros de reseñas de usuarios que se encuentran categorizados con un análisis de sentimiento como valor."
   ]
  },
  {
   "cell_type": "code",
   "execution_count": 519,
   "metadata": {},
   "outputs": [],
   "source": [
    "columnas = ['user_id','item_id', 'sentiment_analysis']"
   ]
  },
  {
   "cell_type": "code",
   "execution_count": 520,
   "metadata": {},
   "outputs": [],
   "source": [
    "df_users_reviews = pd.read_csv(\"CSV//australian_user_reviews.csv\",usecols= columnas ,sep=\",\", encoding='UTF-8')"
   ]
  },
  {
   "cell_type": "code",
   "execution_count": 521,
   "metadata": {},
   "outputs": [],
   "source": [
    "df_users_reviews.dropna(inplace=True)"
   ]
  },
  {
   "cell_type": "code",
   "execution_count": 522,
   "metadata": {},
   "outputs": [],
   "source": [
    "df_users_reviews['item_id'] = df_users_reviews['item_id'].astype(int)"
   ]
  },
  {
   "cell_type": "code",
   "execution_count": 527,
   "metadata": {},
   "outputs": [],
   "source": [
    "columnas = ['item_id', 'developer']\n",
    "df_output_steam_games = pd.read_csv('CSV\\output_steaam_games.csv', usecols=columnas, sep=',', encoding='UTF-8')"
   ]
  },
  {
   "cell_type": "code",
   "execution_count": 528,
   "metadata": {},
   "outputs": [
    {
     "name": "stdout",
     "output_type": "stream",
     "text": [
      "<class 'pandas.core.frame.DataFrame'>\n",
      "RangeIndex: 55612 entries, 0 to 55611\n",
      "Data columns (total 2 columns):\n",
      " #   Column     Non-Null Count  Dtype \n",
      "---  ------     --------------  ----- \n",
      " 0   item_id    55612 non-null  int64 \n",
      " 1   developer  55612 non-null  object\n",
      "dtypes: int64(1), object(1)\n",
      "memory usage: 869.1+ KB\n"
     ]
    }
   ],
   "source": [
    "df_output_steam_games.info()"
   ]
  },
  {
   "cell_type": "code",
   "execution_count": 529,
   "metadata": {},
   "outputs": [],
   "source": [
    "df_merge = df_users_reviews.merge(df_output_steam_games, on='item_id')"
   ]
  },
  {
   "cell_type": "code",
   "execution_count": 530,
   "metadata": {},
   "outputs": [
    {
     "data": {
      "text/html": [
       "<div>\n",
       "<style scoped>\n",
       "    .dataframe tbody tr th:only-of-type {\n",
       "        vertical-align: middle;\n",
       "    }\n",
       "\n",
       "    .dataframe tbody tr th {\n",
       "        vertical-align: top;\n",
       "    }\n",
       "\n",
       "    .dataframe thead th {\n",
       "        text-align: right;\n",
       "    }\n",
       "</style>\n",
       "<table border=\"1\" class=\"dataframe\">\n",
       "  <thead>\n",
       "    <tr style=\"text-align: right;\">\n",
       "      <th></th>\n",
       "      <th>user_id</th>\n",
       "      <th>item_id</th>\n",
       "      <th>sentiment_analysis</th>\n",
       "      <th>developer</th>\n",
       "    </tr>\n",
       "  </thead>\n",
       "  <tbody>\n",
       "    <tr>\n",
       "      <th>0</th>\n",
       "      <td>76561197970982479</td>\n",
       "      <td>1250</td>\n",
       "      <td>2</td>\n",
       "      <td>Tripwire Interactive</td>\n",
       "    </tr>\n",
       "    <tr>\n",
       "      <th>1</th>\n",
       "      <td>death-hunter</td>\n",
       "      <td>1250</td>\n",
       "      <td>2</td>\n",
       "      <td>Tripwire Interactive</td>\n",
       "    </tr>\n",
       "    <tr>\n",
       "      <th>2</th>\n",
       "      <td>DJKamBer</td>\n",
       "      <td>1250</td>\n",
       "      <td>0</td>\n",
       "      <td>Tripwire Interactive</td>\n",
       "    </tr>\n",
       "    <tr>\n",
       "      <th>3</th>\n",
       "      <td>diego9031</td>\n",
       "      <td>1250</td>\n",
       "      <td>2</td>\n",
       "      <td>Tripwire Interactive</td>\n",
       "    </tr>\n",
       "    <tr>\n",
       "      <th>4</th>\n",
       "      <td>76561198081962345</td>\n",
       "      <td>1250</td>\n",
       "      <td>2</td>\n",
       "      <td>Tripwire Interactive</td>\n",
       "    </tr>\n",
       "    <tr>\n",
       "      <th>...</th>\n",
       "      <td>...</td>\n",
       "      <td>...</td>\n",
       "      <td>...</td>\n",
       "      <td>...</td>\n",
       "    </tr>\n",
       "    <tr>\n",
       "      <th>120668</th>\n",
       "      <td>MeloncraftLP</td>\n",
       "      <td>262850</td>\n",
       "      <td>2</td>\n",
       "      <td>SkyGoblin</td>\n",
       "    </tr>\n",
       "    <tr>\n",
       "      <th>120669</th>\n",
       "      <td>vinquility</td>\n",
       "      <td>431510</td>\n",
       "      <td>2</td>\n",
       "      <td>Aeon Dream Studios</td>\n",
       "    </tr>\n",
       "    <tr>\n",
       "      <th>120670</th>\n",
       "      <td>vinquility</td>\n",
       "      <td>431510</td>\n",
       "      <td>2</td>\n",
       "      <td>Aeon Dream Studios</td>\n",
       "    </tr>\n",
       "    <tr>\n",
       "      <th>120671</th>\n",
       "      <td>vinquility</td>\n",
       "      <td>431510</td>\n",
       "      <td>2</td>\n",
       "      <td>Aeon Dream Studios</td>\n",
       "    </tr>\n",
       "    <tr>\n",
       "      <th>120672</th>\n",
       "      <td>vinquility</td>\n",
       "      <td>431510</td>\n",
       "      <td>2</td>\n",
       "      <td>Aeon Dream Studios</td>\n",
       "    </tr>\n",
       "  </tbody>\n",
       "</table>\n",
       "<p>120673 rows × 4 columns</p>\n",
       "</div>"
      ],
      "text/plain": [
       "                  user_id  item_id  sentiment_analysis             developer\n",
       "0       76561197970982479     1250                   2  Tripwire Interactive\n",
       "1            death-hunter     1250                   2  Tripwire Interactive\n",
       "2                DJKamBer     1250                   0  Tripwire Interactive\n",
       "3               diego9031     1250                   2  Tripwire Interactive\n",
       "4       76561198081962345     1250                   2  Tripwire Interactive\n",
       "...                   ...      ...                 ...                   ...\n",
       "120668       MeloncraftLP   262850                   2             SkyGoblin\n",
       "120669         vinquility   431510                   2    Aeon Dream Studios\n",
       "120670         vinquility   431510                   2    Aeon Dream Studios\n",
       "120671         vinquility   431510                   2    Aeon Dream Studios\n",
       "120672         vinquility   431510                   2    Aeon Dream Studios\n",
       "\n",
       "[120673 rows x 4 columns]"
      ]
     },
     "execution_count": 530,
     "metadata": {},
     "output_type": "execute_result"
    }
   ],
   "source": [
    "df_merge"
   ]
  },
  {
   "cell_type": "code",
   "execution_count": 531,
   "metadata": {},
   "outputs": [
    {
     "name": "stdout",
     "output_type": "stream",
     "text": [
      "<class 'pandas.core.frame.DataFrame'>\n",
      "RangeIndex: 120673 entries, 0 to 120672\n",
      "Data columns (total 4 columns):\n",
      " #   Column              Non-Null Count   Dtype \n",
      "---  ------              --------------   ----- \n",
      " 0   user_id             120673 non-null  object\n",
      " 1   item_id             120673 non-null  int32 \n",
      " 2   sentiment_analysis  120673 non-null  int64 \n",
      " 3   developer           120673 non-null  object\n",
      "dtypes: int32(1), int64(1), object(2)\n",
      "memory usage: 3.2+ MB\n"
     ]
    }
   ],
   "source": [
    "df_merge.info()"
   ]
  },
  {
   "cell_type": "code",
   "execution_count": 534,
   "metadata": {},
   "outputs": [],
   "source": [
    "# Agrupar por 'developer' y contar los valores 0,1,2 en la columna 'sentimiento'\n",
    "conteo_sentimiento_0 = df_filtrado[df_filtrado['sentiment_analysis'] == 0].groupby('developer').size()\n",
    "conteo_sentimiento_1 = df_filtrado[df_filtrado['sentiment_analysis'] == 1].groupby('developer').size()\n",
    "conteo_sentimiento_2 = df_filtrado[df_filtrado['sentiment_analysis'] == 2].groupby('developer').size()"
   ]
  },
  {
   "cell_type": "code",
   "execution_count": 537,
   "metadata": {},
   "outputs": [
    {
     "data": {
      "text/plain": [
       "developer\n",
       "Coreplay GmbH,Bigmoon Studios    3\n",
       "Hardsuit Labs                    2\n",
       "OVERKILL Software                1\n",
       "Rebellion                        1\n",
       "dtype: int64"
      ]
     },
     "execution_count": 537,
     "metadata": {},
     "output_type": "execute_result"
    }
   ],
   "source": [
    "conteo_sentimiento_2"
   ]
  },
  {
   "cell_type": "code",
   "execution_count": 559,
   "metadata": {},
   "outputs": [],
   "source": [
    "df_filtrado = df_filtrado[df_filtrado['developer'] == 'Coreplay GmbH,Bigmoon Studios']"
   ]
  },
  {
   "cell_type": "code",
   "execution_count": 540,
   "metadata": {},
   "outputs": [
    {
     "data": {
      "text/html": [
       "<div>\n",
       "<style scoped>\n",
       "    .dataframe tbody tr th:only-of-type {\n",
       "        vertical-align: middle;\n",
       "    }\n",
       "\n",
       "    .dataframe tbody tr th {\n",
       "        vertical-align: top;\n",
       "    }\n",
       "\n",
       "    .dataframe thead th {\n",
       "        text-align: right;\n",
       "    }\n",
       "</style>\n",
       "<table border=\"1\" class=\"dataframe\">\n",
       "  <thead>\n",
       "    <tr style=\"text-align: right;\">\n",
       "      <th></th>\n",
       "      <th>item_id</th>\n",
       "      <th>recommend</th>\n",
       "      <th>posted year</th>\n",
       "      <th>sentiment_analysis</th>\n",
       "      <th>developer</th>\n",
       "    </tr>\n",
       "  </thead>\n",
       "  <tbody>\n",
       "    <tr>\n",
       "      <th>8030</th>\n",
       "      <td>57740.0</td>\n",
       "      <td>False</td>\n",
       "      <td>2012</td>\n",
       "      <td>2</td>\n",
       "      <td>Coreplay GmbH,Bigmoon Studios</td>\n",
       "    </tr>\n",
       "    <tr>\n",
       "      <th>8031</th>\n",
       "      <td>57740.0</td>\n",
       "      <td>False</td>\n",
       "      <td>2012</td>\n",
       "      <td>2</td>\n",
       "      <td>Coreplay GmbH,Bigmoon Studios</td>\n",
       "    </tr>\n",
       "    <tr>\n",
       "      <th>8032</th>\n",
       "      <td>57740.0</td>\n",
       "      <td>False</td>\n",
       "      <td>2012</td>\n",
       "      <td>2</td>\n",
       "      <td>Coreplay GmbH,Bigmoon Studios</td>\n",
       "    </tr>\n",
       "  </tbody>\n",
       "</table>\n",
       "</div>"
      ],
      "text/plain": [
       "      item_id  recommend  posted year  sentiment_analysis  \\\n",
       "8030  57740.0      False         2012                   2   \n",
       "8031  57740.0      False         2012                   2   \n",
       "8032  57740.0      False         2012                   2   \n",
       "\n",
       "                          developer  \n",
       "8030  Coreplay GmbH,Bigmoon Studios  \n",
       "8031  Coreplay GmbH,Bigmoon Studios  \n",
       "8032  Coreplay GmbH,Bigmoon Studios  "
      ]
     },
     "execution_count": 540,
     "metadata": {},
     "output_type": "execute_result"
    }
   ],
   "source": [
    "df_filtrado"
   ]
  },
  {
   "cell_type": "code",
   "execution_count": 578,
   "metadata": {},
   "outputs": [],
   "source": [
    "# Obtener el conteo de cada valor en la columna 'sentimiento'\n",
    "conteo_sentimientos = df_filtrado['sentiment_analysis'].value_counts()\n",
    "\n",
    "# Almacenar los recuentos de cada valor en variables separadas\n",
    "valor_0 = conteo_sentimientos.get(0, 0)  # Si no hay valores 0, asigna 0\n",
    "valor_1 = conteo_sentimientos.get(1, 0)  # Si no hay valores 1, asigna 0\n",
    "valor_2 = conteo_sentimientos.get(2, 0)  # Si no hay valores 2, asigna 0\n"
   ]
  },
  {
   "cell_type": "code",
   "execution_count": 583,
   "metadata": {},
   "outputs": [],
   "source": [
    "r0 = 'Negativo = '\n",
    "r1 = 'Neutro = '\n",
    "r2 = 'Positivo = '\n",
    "lista = [f\"{r0}{valor_0}\",f\"{r1}{valor_1}\", f\"{r2}{valor_2}\"]"
   ]
  },
  {
   "cell_type": "code",
   "execution_count": 584,
   "metadata": {},
   "outputs": [
    {
     "data": {
      "text/plain": [
       "['Negativo = 0', 'Neutro = 0', 'Positivo = 3']"
      ]
     },
     "execution_count": 584,
     "metadata": {},
     "output_type": "execute_result"
    }
   ],
   "source": [
    "lista"
   ]
  }
 ],
 "metadata": {
  "kernelspec": {
   "display_name": "PI",
   "language": "python",
   "name": "python3"
  },
  "language_info": {
   "codemirror_mode": {
    "name": "ipython",
    "version": 3
   },
   "file_extension": ".py",
   "mimetype": "text/x-python",
   "name": "python",
   "nbconvert_exporter": "python",
   "pygments_lexer": "ipython3",
   "version": "3.11.3"
  }
 },
 "nbformat": 4,
 "nbformat_minor": 2
}
