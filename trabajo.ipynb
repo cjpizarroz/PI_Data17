{
 "cells": [
  {
   "cell_type": "code",
   "execution_count": 1,
   "metadata": {},
   "outputs": [],
   "source": [
    "import pandas as pd\n",
    "import gc\n",
    "import warnings\n",
    "warnings.filterwarnings('ignore')"
   ]
  },
  {
   "cell_type": "markdown",
   "metadata": {},
   "source": [
    "# ENDPOINT NRO 1 "
   ]
  },
  {
   "cell_type": "markdown",
   "metadata": {},
   "source": [
    "def PlayTimeGenre( genero: str ) :<br> Debe devolver año con más horas jugadas para dicho género. <br>\n",
    "Ejemplo de retorno: {\"Año de lanzamiento con más horas jugadas para Género X\" : 2013}"
   ]
  },
  {
   "cell_type": "markdown",
   "metadata": {},
   "source": [
    "*- Creamos una lista de campos para solo cargar del archivo csv los campos que nos hacen falta*"
   ]
  },
  {
   "cell_type": "code",
   "execution_count": 2,
   "metadata": {},
   "outputs": [],
   "source": [
    "ep3_items_columns = ['user_id', 'item_id', 'playtime_forever']"
   ]
  },
  {
   "cell_type": "markdown",
   "metadata": {},
   "source": [
    "*- Cargamos el dataframe con los campos seleccionados del archivo australian_users_items.csv*"
   ]
  },
  {
   "cell_type": "code",
   "execution_count": 3,
   "metadata": {},
   "outputs": [
    {
     "data": {
      "text/html": [
       "<div>\n",
       "<style scoped>\n",
       "    .dataframe tbody tr th:only-of-type {\n",
       "        vertical-align: middle;\n",
       "    }\n",
       "\n",
       "    .dataframe tbody tr th {\n",
       "        vertical-align: top;\n",
       "    }\n",
       "\n",
       "    .dataframe thead th {\n",
       "        text-align: right;\n",
       "    }\n",
       "</style>\n",
       "<table border=\"1\" class=\"dataframe\">\n",
       "  <thead>\n",
       "    <tr style=\"text-align: right;\">\n",
       "      <th></th>\n",
       "      <th>user_id</th>\n",
       "      <th>playtime_forever</th>\n",
       "      <th>item_id</th>\n",
       "    </tr>\n",
       "  </thead>\n",
       "  <tbody>\n",
       "    <tr>\n",
       "      <th>0</th>\n",
       "      <td>76561197970982479</td>\n",
       "      <td>6</td>\n",
       "      <td>10</td>\n",
       "    </tr>\n",
       "    <tr>\n",
       "      <th>1</th>\n",
       "      <td>js41637</td>\n",
       "      <td>0</td>\n",
       "      <td>10</td>\n",
       "    </tr>\n",
       "  </tbody>\n",
       "</table>\n",
       "</div>"
      ],
      "text/plain": [
       "             user_id  playtime_forever  item_id\n",
       "0  76561197970982479                 6       10\n",
       "1            js41637                 0       10"
      ]
     },
     "execution_count": 3,
     "metadata": {},
     "output_type": "execute_result"
    }
   ],
   "source": [
    "df_users_items = pd.read_csv('CSV//australian_users_items.csv',usecols=ep3_items_columns, sep=',', encoding='UTF-8')\n",
    "df_users_items.head(2)"
   ]
  },
  {
   "cell_type": "markdown",
   "metadata": {},
   "source": [
    "*- Cargamos el dataframe con el archivo output_steaam_games.csv completo y visualizamos*"
   ]
  },
  {
   "cell_type": "code",
   "execution_count": 4,
   "metadata": {},
   "outputs": [
    {
     "data": {
      "text/html": [
       "<div>\n",
       "<style scoped>\n",
       "    .dataframe tbody tr th:only-of-type {\n",
       "        vertical-align: middle;\n",
       "    }\n",
       "\n",
       "    .dataframe tbody tr th {\n",
       "        vertical-align: top;\n",
       "    }\n",
       "\n",
       "    .dataframe thead th {\n",
       "        text-align: right;\n",
       "    }\n",
       "</style>\n",
       "<table border=\"1\" class=\"dataframe\">\n",
       "  <thead>\n",
       "    <tr style=\"text-align: right;\">\n",
       "      <th></th>\n",
       "      <th>title</th>\n",
       "      <th>release_date</th>\n",
       "      <th>price</th>\n",
       "      <th>item_id</th>\n",
       "      <th>developer</th>\n",
       "      <th>genres_Action</th>\n",
       "      <th>genres_Adventure</th>\n",
       "      <th>genres_Animation and Modeling</th>\n",
       "      <th>genres_Audio Production</th>\n",
       "      <th>genres_Casual</th>\n",
       "      <th>...</th>\n",
       "      <th>genres_Photo Editing</th>\n",
       "      <th>genres_RPG</th>\n",
       "      <th>genres_Racing</th>\n",
       "      <th>genres_Simulation</th>\n",
       "      <th>genres_Software Training</th>\n",
       "      <th>genres_Sports</th>\n",
       "      <th>genres_Strategy</th>\n",
       "      <th>genres_Utilities</th>\n",
       "      <th>genres_Video Production</th>\n",
       "      <th>genres_Web Publishing</th>\n",
       "    </tr>\n",
       "  </thead>\n",
       "  <tbody>\n",
       "    <tr>\n",
       "      <th>0</th>\n",
       "      <td>Lost Summoner Kitty</td>\n",
       "      <td>2018.0</td>\n",
       "      <td>4.99</td>\n",
       "      <td>761140</td>\n",
       "      <td>Kotoshiro</td>\n",
       "      <td>1</td>\n",
       "      <td>0</td>\n",
       "      <td>0</td>\n",
       "      <td>0</td>\n",
       "      <td>0</td>\n",
       "      <td>...</td>\n",
       "      <td>0</td>\n",
       "      <td>0</td>\n",
       "      <td>0</td>\n",
       "      <td>0</td>\n",
       "      <td>0</td>\n",
       "      <td>0</td>\n",
       "      <td>0</td>\n",
       "      <td>0</td>\n",
       "      <td>0</td>\n",
       "      <td>0</td>\n",
       "    </tr>\n",
       "    <tr>\n",
       "      <th>1</th>\n",
       "      <td>Lost Summoner Kitty</td>\n",
       "      <td>2018.0</td>\n",
       "      <td>4.99</td>\n",
       "      <td>761140</td>\n",
       "      <td>Kotoshiro</td>\n",
       "      <td>0</td>\n",
       "      <td>0</td>\n",
       "      <td>0</td>\n",
       "      <td>0</td>\n",
       "      <td>1</td>\n",
       "      <td>...</td>\n",
       "      <td>0</td>\n",
       "      <td>0</td>\n",
       "      <td>0</td>\n",
       "      <td>0</td>\n",
       "      <td>0</td>\n",
       "      <td>0</td>\n",
       "      <td>0</td>\n",
       "      <td>0</td>\n",
       "      <td>0</td>\n",
       "      <td>0</td>\n",
       "    </tr>\n",
       "  </tbody>\n",
       "</table>\n",
       "<p>2 rows × 26 columns</p>\n",
       "</div>"
      ],
      "text/plain": [
       "                 title  release_date  price  item_id  developer  \\\n",
       "0  Lost Summoner Kitty        2018.0   4.99   761140  Kotoshiro   \n",
       "1  Lost Summoner Kitty        2018.0   4.99   761140  Kotoshiro   \n",
       "\n",
       "   genres_Action  genres_Adventure  genres_Animation and Modeling  \\\n",
       "0              1                 0                              0   \n",
       "1              0                 0                              0   \n",
       "\n",
       "   genres_Audio Production  genres_Casual  ...  genres_Photo Editing  \\\n",
       "0                        0              0  ...                     0   \n",
       "1                        0              1  ...                     0   \n",
       "\n",
       "   genres_RPG  genres_Racing  genres_Simulation  genres_Software Training  \\\n",
       "0           0              0                  0                         0   \n",
       "1           0              0                  0                         0   \n",
       "\n",
       "   genres_Sports  genres_Strategy  genres_Utilities  genres_Video Production  \\\n",
       "0              0                0                 0                        0   \n",
       "1              0                0                 0                        0   \n",
       "\n",
       "   genres_Web Publishing  \n",
       "0                      0  \n",
       "1                      0  \n",
       "\n",
       "[2 rows x 26 columns]"
      ]
     },
     "execution_count": 4,
     "metadata": {},
     "output_type": "execute_result"
    }
   ],
   "source": [
    "df_steam_games = pd.read_csv('CSV\\output_steaam_games.csv', sep=\",\", encoding=\"UTF-8\")\n",
    "df_steam_games.head(2)"
   ]
  },
  {
   "cell_type": "markdown",
   "metadata": {},
   "source": [
    "*- Hacemos un merge con los dos dataframe y visualizamos*"
   ]
  },
  {
   "cell_type": "code",
   "execution_count": 5,
   "metadata": {},
   "outputs": [
    {
     "data": {
      "text/html": [
       "<div>\n",
       "<style scoped>\n",
       "    .dataframe tbody tr th:only-of-type {\n",
       "        vertical-align: middle;\n",
       "    }\n",
       "\n",
       "    .dataframe tbody tr th {\n",
       "        vertical-align: top;\n",
       "    }\n",
       "\n",
       "    .dataframe thead th {\n",
       "        text-align: right;\n",
       "    }\n",
       "</style>\n",
       "<table border=\"1\" class=\"dataframe\">\n",
       "  <thead>\n",
       "    <tr style=\"text-align: right;\">\n",
       "      <th></th>\n",
       "      <th>user_id</th>\n",
       "      <th>playtime_forever</th>\n",
       "      <th>item_id</th>\n",
       "      <th>title</th>\n",
       "      <th>release_date</th>\n",
       "      <th>price</th>\n",
       "      <th>developer</th>\n",
       "      <th>genres_Action</th>\n",
       "      <th>genres_Adventure</th>\n",
       "      <th>genres_Animation and Modeling</th>\n",
       "      <th>...</th>\n",
       "      <th>genres_Photo Editing</th>\n",
       "      <th>genres_RPG</th>\n",
       "      <th>genres_Racing</th>\n",
       "      <th>genres_Simulation</th>\n",
       "      <th>genres_Software Training</th>\n",
       "      <th>genres_Sports</th>\n",
       "      <th>genres_Strategy</th>\n",
       "      <th>genres_Utilities</th>\n",
       "      <th>genres_Video Production</th>\n",
       "      <th>genres_Web Publishing</th>\n",
       "    </tr>\n",
       "  </thead>\n",
       "  <tbody>\n",
       "    <tr>\n",
       "      <th>7683</th>\n",
       "      <td>mwlucky</td>\n",
       "      <td>807</td>\n",
       "      <td>240</td>\n",
       "      <td>Counter-Strike: Source</td>\n",
       "      <td>2004.0</td>\n",
       "      <td>19.99</td>\n",
       "      <td>Valve</td>\n",
       "      <td>1</td>\n",
       "      <td>0</td>\n",
       "      <td>0</td>\n",
       "      <td>...</td>\n",
       "      <td>0</td>\n",
       "      <td>0</td>\n",
       "      <td>0</td>\n",
       "      <td>0</td>\n",
       "      <td>0</td>\n",
       "      <td>0</td>\n",
       "      <td>0</td>\n",
       "      <td>0</td>\n",
       "      <td>0</td>\n",
       "      <td>0</td>\n",
       "    </tr>\n",
       "    <tr>\n",
       "      <th>42622</th>\n",
       "      <td>76561198084584807</td>\n",
       "      <td>6104</td>\n",
       "      <td>4000</td>\n",
       "      <td>Garry's Mod</td>\n",
       "      <td>2006.0</td>\n",
       "      <td>9.99</td>\n",
       "      <td>Facepunch Studios</td>\n",
       "      <td>0</td>\n",
       "      <td>0</td>\n",
       "      <td>0</td>\n",
       "      <td>...</td>\n",
       "      <td>0</td>\n",
       "      <td>0</td>\n",
       "      <td>0</td>\n",
       "      <td>0</td>\n",
       "      <td>0</td>\n",
       "      <td>0</td>\n",
       "      <td>0</td>\n",
       "      <td>0</td>\n",
       "      <td>0</td>\n",
       "      <td>0</td>\n",
       "    </tr>\n",
       "    <tr>\n",
       "      <th>43992</th>\n",
       "      <td>TorTlew</td>\n",
       "      <td>7584</td>\n",
       "      <td>4000</td>\n",
       "      <td>Garry's Mod</td>\n",
       "      <td>2006.0</td>\n",
       "      <td>9.99</td>\n",
       "      <td>Facepunch Studios</td>\n",
       "      <td>0</td>\n",
       "      <td>0</td>\n",
       "      <td>0</td>\n",
       "      <td>...</td>\n",
       "      <td>0</td>\n",
       "      <td>0</td>\n",
       "      <td>0</td>\n",
       "      <td>0</td>\n",
       "      <td>0</td>\n",
       "      <td>0</td>\n",
       "      <td>0</td>\n",
       "      <td>0</td>\n",
       "      <td>0</td>\n",
       "      <td>0</td>\n",
       "    </tr>\n",
       "  </tbody>\n",
       "</table>\n",
       "<p>3 rows × 28 columns</p>\n",
       "</div>"
      ],
      "text/plain": [
       "                 user_id  playtime_forever  item_id                   title  \\\n",
       "7683             mwlucky               807      240  Counter-Strike: Source   \n",
       "42622  76561198084584807              6104     4000             Garry's Mod   \n",
       "43992            TorTlew              7584     4000             Garry's Mod   \n",
       "\n",
       "       release_date  price          developer  genres_Action  \\\n",
       "7683         2004.0  19.99              Valve              1   \n",
       "42622        2006.0   9.99  Facepunch Studios              0   \n",
       "43992        2006.0   9.99  Facepunch Studios              0   \n",
       "\n",
       "       genres_Adventure  genres_Animation and Modeling  ...  \\\n",
       "7683                  0                              0  ...   \n",
       "42622                 0                              0  ...   \n",
       "43992                 0                              0  ...   \n",
       "\n",
       "       genres_Photo Editing  genres_RPG  genres_Racing  genres_Simulation  \\\n",
       "7683                      0           0              0                  0   \n",
       "42622                     0           0              0                  0   \n",
       "43992                     0           0              0                  0   \n",
       "\n",
       "       genres_Software Training  genres_Sports  genres_Strategy  \\\n",
       "7683                          0              0                0   \n",
       "42622                         0              0                0   \n",
       "43992                         0              0                0   \n",
       "\n",
       "       genres_Utilities  genres_Video Production  genres_Web Publishing  \n",
       "7683                  0                        0                      0  \n",
       "42622                 0                        0                      0  \n",
       "43992                 0                        0                      0  \n",
       "\n",
       "[3 rows x 28 columns]"
      ]
     },
     "execution_count": 5,
     "metadata": {},
     "output_type": "execute_result"
    }
   ],
   "source": [
    "df_merge = df_users_items.merge(df_steam_games, on='item_id')\n",
    "df_merge.sample(3)"
   ]
  },
  {
   "cell_type": "markdown",
   "metadata": {},
   "source": [
    "*- Cambiamos el tipo de dato a release_date a int y reindexamos el dataframe y visualizamos los cambios*"
   ]
  },
  {
   "cell_type": "code",
   "execution_count": 6,
   "metadata": {},
   "outputs": [
    {
     "data": {
      "text/html": [
       "<div>\n",
       "<style scoped>\n",
       "    .dataframe tbody tr th:only-of-type {\n",
       "        vertical-align: middle;\n",
       "    }\n",
       "\n",
       "    .dataframe tbody tr th {\n",
       "        vertical-align: top;\n",
       "    }\n",
       "\n",
       "    .dataframe thead th {\n",
       "        text-align: right;\n",
       "    }\n",
       "</style>\n",
       "<table border=\"1\" class=\"dataframe\">\n",
       "  <thead>\n",
       "    <tr style=\"text-align: right;\">\n",
       "      <th></th>\n",
       "      <th>user_id</th>\n",
       "      <th>playtime_forever</th>\n",
       "      <th>item_id</th>\n",
       "      <th>title</th>\n",
       "      <th>release_date</th>\n",
       "      <th>price</th>\n",
       "      <th>developer</th>\n",
       "      <th>genres_Action</th>\n",
       "      <th>genres_Adventure</th>\n",
       "      <th>genres_Animation and Modeling</th>\n",
       "      <th>...</th>\n",
       "      <th>genres_Photo Editing</th>\n",
       "      <th>genres_RPG</th>\n",
       "      <th>genres_Racing</th>\n",
       "      <th>genres_Simulation</th>\n",
       "      <th>genres_Software Training</th>\n",
       "      <th>genres_Sports</th>\n",
       "      <th>genres_Strategy</th>\n",
       "      <th>genres_Utilities</th>\n",
       "      <th>genres_Video Production</th>\n",
       "      <th>genres_Web Publishing</th>\n",
       "    </tr>\n",
       "  </thead>\n",
       "  <tbody>\n",
       "    <tr>\n",
       "      <th>0</th>\n",
       "      <td>76561197970982479</td>\n",
       "      <td>6</td>\n",
       "      <td>10</td>\n",
       "      <td>Counter-Strike</td>\n",
       "      <td>2000</td>\n",
       "      <td>9.99</td>\n",
       "      <td>Valve</td>\n",
       "      <td>1</td>\n",
       "      <td>0</td>\n",
       "      <td>0</td>\n",
       "      <td>...</td>\n",
       "      <td>0</td>\n",
       "      <td>0</td>\n",
       "      <td>0</td>\n",
       "      <td>0</td>\n",
       "      <td>0</td>\n",
       "      <td>0</td>\n",
       "      <td>0</td>\n",
       "      <td>0</td>\n",
       "      <td>0</td>\n",
       "      <td>0</td>\n",
       "    </tr>\n",
       "  </tbody>\n",
       "</table>\n",
       "<p>1 rows × 28 columns</p>\n",
       "</div>"
      ],
      "text/plain": [
       "             user_id  playtime_forever  item_id           title  release_date  \\\n",
       "0  76561197970982479                 6       10  Counter-Strike          2000   \n",
       "\n",
       "   price developer  genres_Action  genres_Adventure  \\\n",
       "0   9.99     Valve              1                 0   \n",
       "\n",
       "   genres_Animation and Modeling  ...  genres_Photo Editing  genres_RPG  \\\n",
       "0                              0  ...                     0           0   \n",
       "\n",
       "   genres_Racing  genres_Simulation  genres_Software Training  genres_Sports  \\\n",
       "0              0                  0                         0              0   \n",
       "\n",
       "   genres_Strategy  genres_Utilities  genres_Video Production  \\\n",
       "0                0                 0                        0   \n",
       "\n",
       "   genres_Web Publishing  \n",
       "0                      0  \n",
       "\n",
       "[1 rows x 28 columns]"
      ]
     },
     "execution_count": 6,
     "metadata": {},
     "output_type": "execute_result"
    }
   ],
   "source": [
    "df_merge['release_date'] = df_merge['release_date'].map(int)\n",
    "df_merge.reset_index(drop=True, inplace=True)\n",
    "df_merge.head(1)\n"
   ]
  },
  {
   "cell_type": "markdown",
   "metadata": {},
   "source": [
    "*- Observamos la info del dataframe*"
   ]
  },
  {
   "cell_type": "code",
   "execution_count": 7,
   "metadata": {},
   "outputs": [
    {
     "name": "stdout",
     "output_type": "stream",
     "text": [
      "<class 'pandas.core.frame.DataFrame'>\n",
      "RangeIndex: 95785 entries, 0 to 95784\n",
      "Data columns (total 28 columns):\n",
      " #   Column                          Non-Null Count  Dtype  \n",
      "---  ------                          --------------  -----  \n",
      " 0   user_id                         95785 non-null  object \n",
      " 1   playtime_forever                95785 non-null  int64  \n",
      " 2   item_id                         95785 non-null  int64  \n",
      " 3   title                           95785 non-null  object \n",
      " 4   release_date                    95785 non-null  int64  \n",
      " 5   price                           95785 non-null  float64\n",
      " 6   developer                       95785 non-null  object \n",
      " 7   genres_Action                   95785 non-null  int64  \n",
      " 8   genres_Adventure                95785 non-null  int64  \n",
      " 9   genres_Animation and Modeling   95785 non-null  int64  \n",
      " 10  genres_Audio Production         95785 non-null  int64  \n",
      " 11  genres_Casual                   95785 non-null  int64  \n",
      " 12  genres_Design and Illustration  95785 non-null  int64  \n",
      " 13  genres_Early Access             95785 non-null  int64  \n",
      " 14  genres_Education                95785 non-null  int64  \n",
      " 15  genres_Free to Play             95785 non-null  int64  \n",
      " 16  genres_Indie                    95785 non-null  int64  \n",
      " 17  genres_Massively Multiplayer    95785 non-null  int64  \n",
      " 18  genres_Photo Editing            95785 non-null  int64  \n",
      " 19  genres_RPG                      95785 non-null  int64  \n",
      " 20  genres_Racing                   95785 non-null  int64  \n",
      " 21  genres_Simulation               95785 non-null  int64  \n",
      " 22  genres_Software Training        95785 non-null  int64  \n",
      " 23  genres_Sports                   95785 non-null  int64  \n",
      " 24  genres_Strategy                 95785 non-null  int64  \n",
      " 25  genres_Utilities                95785 non-null  int64  \n",
      " 26  genres_Video Production         95785 non-null  int64  \n",
      " 27  genres_Web Publishing           95785 non-null  int64  \n",
      "dtypes: float64(1), int64(24), object(3)\n",
      "memory usage: 20.5+ MB\n"
     ]
    }
   ],
   "source": [
    "df_merge.info()"
   ]
  },
  {
   "cell_type": "markdown",
   "metadata": {},
   "source": [
    "*- Cargamos del dataframe al archivo consulta1.csv para los endpoints 1 y 2*"
   ]
  },
  {
   "cell_type": "code",
   "execution_count": 8,
   "metadata": {},
   "outputs": [],
   "source": [
    "df_merge.to_csv('CSV\\consulta1.csv', index=False)"
   ]
  },
  {
   "cell_type": "markdown",
   "metadata": {},
   "source": [
    "*- Comenzamos a producir la consulta del endpoints nro 1*"
   ]
  },
  {
   "cell_type": "markdown",
   "metadata": {},
   "source": [
    "*- Leemos el arhivo generado y lo cargamos en un dataframe*"
   ]
  },
  {
   "cell_type": "code",
   "execution_count": 9,
   "metadata": {},
   "outputs": [],
   "source": [
    "df = pd.read_csv('CSV//consulta1.csv', sep=',', encoding='UTF-8')"
   ]
  },
  {
   "cell_type": "markdown",
   "metadata": {},
   "source": [
    "*- Filtramos el dataframe por el genero de juego. En este caso utilizamos una variable con un valor para realizar la consulta*"
   ]
  },
  {
   "cell_type": "code",
   "execution_count": 10,
   "metadata": {},
   "outputs": [],
   "source": [
    "df_filtrado = df[df['genres_Action'] == 1]"
   ]
  },
  {
   "cell_type": "markdown",
   "metadata": {},
   "source": [
    "*- Agrupamos por release_date y sumamos el tiempo jugado para cada año*"
   ]
  },
  {
   "cell_type": "code",
   "execution_count": 11,
   "metadata": {},
   "outputs": [],
   "source": [
    " # Agrupa por año y suma las horas de juego\n",
    "resumen = df_filtrado.groupby('release_date')['playtime_forever'].sum()"
   ]
  },
  {
   "attachments": {
    "image.png": {
     "image/png": "[encoded data removed]"
    }
   },
   "cell_type": "markdown",
   "metadata": {},
   "source": [
    "*![image.png](attachment:image.png) style=\"width:50px; height:50px;- Establecemos el año con mas horas jugadas, y la cantidad maxima de horas*"
   ]
  },
  {
   "cell_type": "code",
   "execution_count": 12,
   "metadata": {},
   "outputs": [],
   "source": [
    "anio_mas_horas = resumen.idxmax()\n",
    "max_horas_jugadas = resumen.max()"
   ]
  },
  {
   "cell_type": "code",
   "execution_count": 13,
   "metadata": {},
   "outputs": [],
   "source": [
    "df1 = df_filtrado[df_filtrado['release_date'] == anio_mas_horas]"
   ]
  },
  {
   "cell_type": "code",
   "execution_count": 14,
   "metadata": {},
   "outputs": [],
   "source": [
    "# Agrupa por año, y suma las horas de juego\n",
    "resumen = df1.groupby(['release_date'])['playtime_forever'].sum().reset_index()"
   ]
  },
  {
   "cell_type": "code",
   "execution_count": 15,
   "metadata": {},
   "outputs": [],
   "source": [
    "\n",
    "# Convierte el resultado en una lista de horas acumuladas por año\n",
    "horas_acumuladas_por_año = []\n",
    "for _, row in resumen.iterrows():\n",
    "    horas_acumuladas_por_año.append({\"Año\": row[\"release_date\"], \"Horas\": row[\"playtime_forever\"]})"
   ]
  },
  {
   "cell_type": "code",
   "execution_count": 16,
   "metadata": {},
   "outputs": [
    {
     "data": {
      "text/plain": [
       "[{'Año': 2004, 'Horas': 52713328}]"
      ]
     },
     "execution_count": 16,
     "metadata": {},
     "output_type": "execute_result"
    }
   ],
   "source": [
    "horas_acumuladas_por_año"
   ]
  },
  {
   "cell_type": "code",
   "execution_count": 17,
   "metadata": {},
   "outputs": [],
   "source": [
    "def query_data1(genero):\n",
    "    try:\n",
    "        df = pd.read_csv('CSV//consulta1.csv', sep=',', encoding='UTF-8')  \n",
    "        df_filtrado = df[df[genero] == 1]\n",
    "         # Agrupa por año y suma las horas de juego\n",
    "        resumen = df_filtrado.groupby('release_date')['playtime_forever'].sum()\n",
    "        anio_mas_horas = resumen.idxmax()\n",
    "       \n",
    "        return {\n",
    "            \"Año con más horas jugadas para Género \" + genero: anio_mas_horas,\n",
    "          \n",
    "        }\n",
    "    except Exception as e:\n",
    "        return {\"error\": str(e)}"
   ]
  },
  {
   "cell_type": "code",
   "execution_count": 18,
   "metadata": {},
   "outputs": [
    {
     "data": {
      "text/plain": [
       "{'Año con más horas jugadas para Género genres_Adventure': 2011}"
      ]
     },
     "execution_count": 18,
     "metadata": {},
     "output_type": "execute_result"
    }
   ],
   "source": [
    "genero = 'genres_Adventure'\n",
    "query_data1(genero)"
   ]
  },
  {
   "cell_type": "code",
   "execution_count": 19,
   "metadata": {},
   "outputs": [
    {
     "data": {
      "text/plain": [
       "{'Año con más horas jugadas para Género genres_Casual': 2017}"
      ]
     },
     "execution_count": 19,
     "metadata": {},
     "output_type": "execute_result"
    }
   ],
   "source": [
    "genero = 'genres_Casual'\n",
    "query_data1(genero)"
   ]
  },
  {
   "cell_type": "markdown",
   "metadata": {},
   "source": [
    "# ENDPOINT NRO 2 "
   ]
  },
  {
   "cell_type": "markdown",
   "metadata": {},
   "source": [
    "def UserForGenre( genero: str ) :<br> Debe devolver el usuario que acumula más horas jugadas para el género dado y una lista de la acumulación de horas jugadas por año.<br>\n",
    "Ejemplo de retorno: {\"Usuario con más horas jugadas para Género X\" : us213ndjss09sdf, \"Horas jugadas\":[{Año: 2013, Horas: 203}, {Año: 2012, Horas: 100}, {Año: 2011, Horas : 23}]}"
   ]
  },
  {
   "cell_type": "code",
   "execution_count": 20,
   "metadata": {},
   "outputs": [],
   "source": [
    "df = pd.read_csv('CSV//consulta1.csv', sep=',', encoding='UTF-8')"
   ]
  },
  {
   "cell_type": "code",
   "execution_count": 21,
   "metadata": {},
   "outputs": [],
   "source": [
    "df_filtrado = df[df['genres_Action'] == 1]"
   ]
  },
  {
   "cell_type": "code",
   "execution_count": 22,
   "metadata": {},
   "outputs": [],
   "source": [
    " # Agrupa por usuario y suma las horas de juego\n",
    "resumen = df_filtrado.groupby('user_id')['playtime_forever'].sum()"
   ]
  },
  {
   "cell_type": "code",
   "execution_count": 23,
   "metadata": {},
   "outputs": [],
   "source": [
    "usuario_mas_horas = resumen.idxmax()\n",
    "max_horas_jugadas = resumen.max()"
   ]
  },
  {
   "cell_type": "code",
   "execution_count": 24,
   "metadata": {},
   "outputs": [],
   "source": [
    "df1 = df_filtrado[df_filtrado['user_id'] == usuario_mas_horas]"
   ]
  },
  {
   "cell_type": "code",
   "execution_count": 25,
   "metadata": {},
   "outputs": [],
   "source": [
    "# Agrupa por usuario y año, y suma las horas de juego\n",
    "resumen = df1.groupby(['user_id', 'release_date'])['playtime_forever'].sum().reset_index()"
   ]
  },
  {
   "cell_type": "code",
   "execution_count": 26,
   "metadata": {},
   "outputs": [],
   "source": [
    "\n",
    "# Convierte el resultado en una lista de horas acumuladas por año\n",
    "horas_acumuladas_por_año = []\n",
    "for _, row in resumen.iterrows():\n",
    "    horas_acumuladas_por_año.append({\"Año\": row[\"release_date\"], \"Horas\": row[\"playtime_forever\"]})"
   ]
  },
  {
   "cell_type": "code",
   "execution_count": 27,
   "metadata": {},
   "outputs": [
    {
     "data": {
      "text/plain": [
       "[{'Año': 2004, 'Horas': 388621}]"
      ]
     },
     "execution_count": 27,
     "metadata": {},
     "output_type": "execute_result"
    }
   ],
   "source": [
    "horas_acumuladas_por_año"
   ]
  },
  {
   "cell_type": "code",
   "execution_count": 28,
   "metadata": {},
   "outputs": [],
   "source": [
    "def query_data2(genero):\n",
    "    try:\n",
    "        df = pd.read_csv('CSV//consulta1.csv', sep=',', encoding='UTF-8')  \n",
    "\n",
    "        df_filtrado = df[df[genero] == 1]\n",
    "\n",
    "        # Agrupa por usuario y suma las horas de juego\n",
    "        resumen = df_filtrado.groupby('user_id')['playtime_forever'].sum()\n",
    "\n",
    "        usuario_mas_horas = resumen.idxmax()\n",
    "        max_horas_jugadas = resumen.max()\n",
    "\n",
    "        df1 = df_filtrado[df_filtrado['user_id'] == usuario_mas_horas]\n",
    "\n",
    "        # Agrupa por usuario y año, y suma las horas de juego\n",
    "        resumen = df1.groupby(['user_id', 'release_date'])['playtime_forever'].sum().reset_index()\n",
    "\n",
    "        # Convierte el resultado en una lista de horas acumuladas por año\n",
    "        horas_acumuladas_por_año = []\n",
    "        for _, row in resumen.iterrows():\n",
    "            horas_acumuladas_por_año.append({\"Año\": row[\"release_date\"], \"Horas\": row[\"playtime_forever\"]})\n",
    "\n",
    "        return {\n",
    "            \"Usuario con más horas jugadas para Género \" + genero: usuario_mas_horas,\n",
    "            \"Horas jugadas\": horas_acumuladas_por_año\n",
    "        }\n",
    "    except Exception as e:\n",
    "        return {\"error\": str(e)}"
   ]
  },
  {
   "cell_type": "code",
   "execution_count": 29,
   "metadata": {},
   "outputs": [
    {
     "data": {
      "text/plain": [
       "{'Usuario con más horas jugadas para Género genres_Adventure': '76561198054840158',\n",
       " 'Horas jugadas': [{'Año': 2014, 'Horas': 337453}]}"
      ]
     },
     "execution_count": 29,
     "metadata": {},
     "output_type": "execute_result"
    }
   ],
   "source": [
    "genero = 'genres_Adventure'\n",
    "query_data2(genero)"
   ]
  },
  {
   "cell_type": "markdown",
   "metadata": {},
   "source": [
    "# ENDPOINT NRO 3 "
   ]
  },
  {
   "cell_type": "markdown",
   "metadata": {},
   "source": [
    "def UsersRecommend( año: int ) : <br>Devuelve el top 3 de juegos MÁS recomendados por usuarios para el año dado. (reviews.recommend = True y comentarios positivos/neutrales)<br>\n",
    "Ejemplo de retorno: [{\"Puesto 1\" : X}, {\"Puesto 2\" : Y},{\"Puesto 3\" : Z}]"
   ]
  },
  {
   "cell_type": "code",
   "execution_count": 30,
   "metadata": {},
   "outputs": [],
   "source": [
    "df_users_reviews = pd.read_csv(\"CSV//australian_user_reviews.csv\", sep=\",\", encoding='UTF-8')"
   ]
  },
  {
   "cell_type": "code",
   "execution_count": 31,
   "metadata": {},
   "outputs": [
    {
     "data": {
      "text/html": [
       "<div>\n",
       "<style scoped>\n",
       "    .dataframe tbody tr th:only-of-type {\n",
       "        vertical-align: middle;\n",
       "    }\n",
       "\n",
       "    .dataframe tbody tr th {\n",
       "        vertical-align: top;\n",
       "    }\n",
       "\n",
       "    .dataframe thead th {\n",
       "        text-align: right;\n",
       "    }\n",
       "</style>\n",
       "<table border=\"1\" class=\"dataframe\">\n",
       "  <thead>\n",
       "    <tr style=\"text-align: right;\">\n",
       "      <th></th>\n",
       "      <th>user_id</th>\n",
       "      <th>item_id</th>\n",
       "      <th>recommend</th>\n",
       "      <th>review</th>\n",
       "      <th>posted year</th>\n",
       "      <th>sentiment_analysis</th>\n",
       "    </tr>\n",
       "  </thead>\n",
       "  <tbody>\n",
       "    <tr>\n",
       "      <th>0</th>\n",
       "      <td>76561197970982479</td>\n",
       "      <td>1250.0</td>\n",
       "      <td>True</td>\n",
       "      <td>Simple yet with great replayability. In my opi...</td>\n",
       "      <td>2011.0</td>\n",
       "      <td>2</td>\n",
       "    </tr>\n",
       "    <tr>\n",
       "      <th>1</th>\n",
       "      <td>76561197970982479</td>\n",
       "      <td>22200.0</td>\n",
       "      <td>True</td>\n",
       "      <td>It's unique and worth a playthrough.</td>\n",
       "      <td>2011.0</td>\n",
       "      <td>2</td>\n",
       "    </tr>\n",
       "    <tr>\n",
       "      <th>2</th>\n",
       "      <td>76561197970982479</td>\n",
       "      <td>43110.0</td>\n",
       "      <td>True</td>\n",
       "      <td>Great atmosphere. The gunplay can be a bit chu...</td>\n",
       "      <td>2011.0</td>\n",
       "      <td>2</td>\n",
       "    </tr>\n",
       "  </tbody>\n",
       "</table>\n",
       "</div>"
      ],
      "text/plain": [
       "             user_id  item_id recommend  \\\n",
       "0  76561197970982479   1250.0      True   \n",
       "1  76561197970982479  22200.0      True   \n",
       "2  76561197970982479  43110.0      True   \n",
       "\n",
       "                                              review  posted year  \\\n",
       "0  Simple yet with great replayability. In my opi...       2011.0   \n",
       "1               It's unique and worth a playthrough.       2011.0   \n",
       "2  Great atmosphere. The gunplay can be a bit chu...       2011.0   \n",
       "\n",
       "   sentiment_analysis  \n",
       "0                   2  \n",
       "1                   2  \n",
       "2                   2  "
      ]
     },
     "execution_count": 31,
     "metadata": {},
     "output_type": "execute_result"
    }
   ],
   "source": [
    "df_users_reviews.head(3)"
   ]
  },
  {
   "cell_type": "code",
   "execution_count": 32,
   "metadata": {},
   "outputs": [
    {
     "data": {
      "text/html": [
       "<div>\n",
       "<style scoped>\n",
       "    .dataframe tbody tr th:only-of-type {\n",
       "        vertical-align: middle;\n",
       "    }\n",
       "\n",
       "    .dataframe tbody tr th {\n",
       "        vertical-align: top;\n",
       "    }\n",
       "\n",
       "    .dataframe thead th {\n",
       "        text-align: right;\n",
       "    }\n",
       "</style>\n",
       "<table border=\"1\" class=\"dataframe\">\n",
       "  <thead>\n",
       "    <tr style=\"text-align: right;\">\n",
       "      <th></th>\n",
       "      <th>title</th>\n",
       "      <th>item_id</th>\n",
       "    </tr>\n",
       "  </thead>\n",
       "  <tbody>\n",
       "    <tr>\n",
       "      <th>0</th>\n",
       "      <td>Lost Summoner Kitty</td>\n",
       "      <td>761140</td>\n",
       "    </tr>\n",
       "    <tr>\n",
       "      <th>1</th>\n",
       "      <td>Lost Summoner Kitty</td>\n",
       "      <td>761140</td>\n",
       "    </tr>\n",
       "    <tr>\n",
       "      <th>2</th>\n",
       "      <td>Lost Summoner Kitty</td>\n",
       "      <td>761140</td>\n",
       "    </tr>\n",
       "  </tbody>\n",
       "</table>\n",
       "</div>"
      ],
      "text/plain": [
       "                 title  item_id\n",
       "0  Lost Summoner Kitty   761140\n",
       "1  Lost Summoner Kitty   761140\n",
       "2  Lost Summoner Kitty   761140"
      ]
     },
     "execution_count": 32,
     "metadata": {},
     "output_type": "execute_result"
    }
   ],
   "source": [
    "columnas = ['item_id', 'title']\n",
    "df_output_steam_games = pd.read_csv('CSV\\output_steaam_games.csv', usecols=columnas, sep=',', encoding='UTF-8')\n",
    "df_output_steam_games.head(3)"
   ]
  },
  {
   "cell_type": "code",
   "execution_count": 33,
   "metadata": {},
   "outputs": [
    {
     "name": "stdout",
     "output_type": "stream",
     "text": [
      "<class 'pandas.core.frame.DataFrame'>\n",
      "RangeIndex: 55612 entries, 0 to 55611\n",
      "Data columns (total 2 columns):\n",
      " #   Column   Non-Null Count  Dtype \n",
      "---  ------   --------------  ----- \n",
      " 0   title    55612 non-null  object\n",
      " 1   item_id  55612 non-null  int64 \n",
      "dtypes: int64(1), object(1)\n",
      "memory usage: 869.1+ KB\n"
     ]
    }
   ],
   "source": [
    "df_output_steam_games.info()"
   ]
  },
  {
   "cell_type": "markdown",
   "metadata": {},
   "source": [
    "Agregamos una columna concatenada para luego eliminar duplicados"
   ]
  },
  {
   "cell_type": "code",
   "execution_count": 34,
   "metadata": {},
   "outputs": [],
   "source": [
    "df_output_steam_games['concatenada'] = df_output_steam_games['title'] + str(df_output_steam_games['item_id'])"
   ]
  },
  {
   "cell_type": "code",
   "execution_count": 35,
   "metadata": {},
   "outputs": [],
   "source": [
    "# eliminamos duplicados\n",
    "df_output_steam_games.drop_duplicates(inplace=True)"
   ]
  },
  {
   "cell_type": "code",
   "execution_count": 36,
   "metadata": {},
   "outputs": [
    {
     "data": {
      "text/html": [
       "<div>\n",
       "<style scoped>\n",
       "    .dataframe tbody tr th:only-of-type {\n",
       "        vertical-align: middle;\n",
       "    }\n",
       "\n",
       "    .dataframe tbody tr th {\n",
       "        vertical-align: top;\n",
       "    }\n",
       "\n",
       "    .dataframe thead th {\n",
       "        text-align: right;\n",
       "    }\n",
       "</style>\n",
       "<table border=\"1\" class=\"dataframe\">\n",
       "  <thead>\n",
       "    <tr style=\"text-align: right;\">\n",
       "      <th></th>\n",
       "      <th>title</th>\n",
       "      <th>item_id</th>\n",
       "      <th>concatenada</th>\n",
       "    </tr>\n",
       "  </thead>\n",
       "  <tbody>\n",
       "    <tr>\n",
       "      <th>0</th>\n",
       "      <td>Lost Summoner Kitty</td>\n",
       "      <td>761140</td>\n",
       "      <td>Lost Summoner Kitty0        761140\\n1        7...</td>\n",
       "    </tr>\n",
       "  </tbody>\n",
       "</table>\n",
       "</div>"
      ],
      "text/plain": [
       "                 title  item_id  \\\n",
       "0  Lost Summoner Kitty   761140   \n",
       "\n",
       "                                         concatenada  \n",
       "0  Lost Summoner Kitty0        761140\\n1        7...  "
      ]
     },
     "execution_count": 36,
     "metadata": {},
     "output_type": "execute_result"
    }
   ],
   "source": [
    "df_output_steam_games.head(1)"
   ]
  },
  {
   "cell_type": "code",
   "execution_count": 37,
   "metadata": {},
   "outputs": [],
   "source": [
    "# eliminamos la columna agregada\n",
    "df_output_steam_games.drop('concatenada', axis=1, inplace=True)"
   ]
  },
  {
   "cell_type": "markdown",
   "metadata": {},
   "source": [
    "Hacemos un merge de los dos dataframe"
   ]
  },
  {
   "cell_type": "code",
   "execution_count": 38,
   "metadata": {},
   "outputs": [],
   "source": [
    "df_merge = df_users_reviews.merge(df_output_steam_games, on='item_id')"
   ]
  },
  {
   "cell_type": "markdown",
   "metadata": {},
   "source": [
    "Filtramos solo los que tienen recomendacion True"
   ]
  },
  {
   "cell_type": "code",
   "execution_count": 39,
   "metadata": {},
   "outputs": [],
   "source": [
    "df_merge = df_merge[df_merge['recommend']==True]"
   ]
  },
  {
   "cell_type": "code",
   "execution_count": 40,
   "metadata": {},
   "outputs": [
    {
     "data": {
      "text/plain": [
       "array([2011., 2015., 2013., 2014., 2010., 2012.,   nan])"
      ]
     },
     "execution_count": 40,
     "metadata": {},
     "output_type": "execute_result"
    }
   ],
   "source": [
    "df_merge['posted year'].unique()"
   ]
  },
  {
   "cell_type": "code",
   "execution_count": 41,
   "metadata": {},
   "outputs": [
    {
     "name": "stdout",
     "output_type": "stream",
     "text": [
      "<class 'pandas.core.frame.DataFrame'>\n",
      "Index: 43262 entries, 0 to 48338\n",
      "Data columns (total 7 columns):\n",
      " #   Column              Non-Null Count  Dtype  \n",
      "---  ------              --------------  -----  \n",
      " 0   user_id             43262 non-null  object \n",
      " 1   item_id             43262 non-null  float64\n",
      " 2   recommend           43262 non-null  object \n",
      " 3   review              43241 non-null  object \n",
      " 4   posted year         36324 non-null  float64\n",
      " 5   sentiment_analysis  43262 non-null  int64  \n",
      " 6   title               43262 non-null  object \n",
      "dtypes: float64(2), int64(1), object(4)\n",
      "memory usage: 2.6+ MB\n"
     ]
    }
   ],
   "source": [
    "df_merge.info()"
   ]
  },
  {
   "cell_type": "code",
   "execution_count": 42,
   "metadata": {},
   "outputs": [],
   "source": [
    "df_merge.dropna(inplace=True)"
   ]
  },
  {
   "cell_type": "code",
   "execution_count": 43,
   "metadata": {},
   "outputs": [],
   "source": [
    "df_merge['posted year'] = df_merge['posted year'].astype(int)"
   ]
  },
  {
   "cell_type": "code",
   "execution_count": 44,
   "metadata": {},
   "outputs": [
    {
     "data": {
      "text/html": [
       "<div>\n",
       "<style scoped>\n",
       "    .dataframe tbody tr th:only-of-type {\n",
       "        vertical-align: middle;\n",
       "    }\n",
       "\n",
       "    .dataframe tbody tr th {\n",
       "        vertical-align: top;\n",
       "    }\n",
       "\n",
       "    .dataframe thead th {\n",
       "        text-align: right;\n",
       "    }\n",
       "</style>\n",
       "<table border=\"1\" class=\"dataframe\">\n",
       "  <thead>\n",
       "    <tr style=\"text-align: right;\">\n",
       "      <th></th>\n",
       "      <th>user_id</th>\n",
       "      <th>item_id</th>\n",
       "      <th>recommend</th>\n",
       "      <th>review</th>\n",
       "      <th>posted year</th>\n",
       "      <th>sentiment_analysis</th>\n",
       "      <th>title</th>\n",
       "    </tr>\n",
       "  </thead>\n",
       "  <tbody>\n",
       "    <tr>\n",
       "      <th>0</th>\n",
       "      <td>76561197970982479</td>\n",
       "      <td>1250.0</td>\n",
       "      <td>True</td>\n",
       "      <td>Simple yet with great replayability. In my opi...</td>\n",
       "      <td>2011</td>\n",
       "      <td>2</td>\n",
       "      <td>Killing Floor</td>\n",
       "    </tr>\n",
       "  </tbody>\n",
       "</table>\n",
       "</div>"
      ],
      "text/plain": [
       "             user_id  item_id recommend  \\\n",
       "0  76561197970982479   1250.0      True   \n",
       "\n",
       "                                              review  posted year  \\\n",
       "0  Simple yet with great replayability. In my opi...         2011   \n",
       "\n",
       "   sentiment_analysis          title  \n",
       "0                   2  Killing Floor  "
      ]
     },
     "execution_count": 44,
     "metadata": {},
     "output_type": "execute_result"
    }
   ],
   "source": [
    "df_merge.head(1)"
   ]
  },
  {
   "cell_type": "markdown",
   "metadata": {},
   "source": [
    "Pasamos el dataframe a csv para utilizar en la consulta"
   ]
  },
  {
   "cell_type": "code",
   "execution_count": 45,
   "metadata": {},
   "outputs": [],
   "source": [
    "df_merge.to_csv('CSV\\consulta3.csv', index=False)"
   ]
  },
  {
   "cell_type": "code",
   "execution_count": 46,
   "metadata": {},
   "outputs": [],
   "source": [
    "df3 = pd.read_csv('CSV\\consulta3.csv', sep=',', encoding='UTF-8')"
   ]
  },
  {
   "cell_type": "code",
   "execution_count": 47,
   "metadata": {},
   "outputs": [],
   "source": [
    "año = 2011\n",
    "df_filtrado = df3[df3['posted year'] == año] "
   ]
  },
  {
   "cell_type": "code",
   "execution_count": 48,
   "metadata": {},
   "outputs": [
    {
     "name": "stdout",
     "output_type": "stream",
     "text": [
      "<class 'pandas.core.frame.DataFrame'>\n",
      "Index: 436 entries, 0 to 36161\n",
      "Data columns (total 7 columns):\n",
      " #   Column              Non-Null Count  Dtype  \n",
      "---  ------              --------------  -----  \n",
      " 0   user_id             436 non-null    object \n",
      " 1   item_id             436 non-null    float64\n",
      " 2   recommend           436 non-null    bool   \n",
      " 3   review              436 non-null    object \n",
      " 4   posted year         436 non-null    int64  \n",
      " 5   sentiment_analysis  436 non-null    int64  \n",
      " 6   title               436 non-null    object \n",
      "dtypes: bool(1), float64(1), int64(2), object(3)\n",
      "memory usage: 24.3+ KB\n"
     ]
    }
   ],
   "source": [
    "df_filtrado.info()"
   ]
  },
  {
   "cell_type": "code",
   "execution_count": 49,
   "metadata": {},
   "outputs": [
    {
     "data": {
      "text/html": [
       "<div>\n",
       "<style scoped>\n",
       "    .dataframe tbody tr th:only-of-type {\n",
       "        vertical-align: middle;\n",
       "    }\n",
       "\n",
       "    .dataframe tbody tr th {\n",
       "        vertical-align: top;\n",
       "    }\n",
       "\n",
       "    .dataframe thead th {\n",
       "        text-align: right;\n",
       "    }\n",
       "</style>\n",
       "<table border=\"1\" class=\"dataframe\">\n",
       "  <thead>\n",
       "    <tr style=\"text-align: right;\">\n",
       "      <th></th>\n",
       "      <th>user_id</th>\n",
       "      <th>item_id</th>\n",
       "      <th>recommend</th>\n",
       "      <th>review</th>\n",
       "      <th>posted year</th>\n",
       "      <th>sentiment_analysis</th>\n",
       "      <th>title</th>\n",
       "    </tr>\n",
       "  </thead>\n",
       "  <tbody>\n",
       "    <tr>\n",
       "      <th>0</th>\n",
       "      <td>76561197970982479</td>\n",
       "      <td>1250.0</td>\n",
       "      <td>True</td>\n",
       "      <td>Simple yet with great replayability. In my opi...</td>\n",
       "      <td>2011</td>\n",
       "      <td>2</td>\n",
       "      <td>Killing Floor</td>\n",
       "    </tr>\n",
       "  </tbody>\n",
       "</table>\n",
       "</div>"
      ],
      "text/plain": [
       "             user_id  item_id  recommend  \\\n",
       "0  76561197970982479   1250.0       True   \n",
       "\n",
       "                                              review  posted year  \\\n",
       "0  Simple yet with great replayability. In my opi...         2011   \n",
       "\n",
       "   sentiment_analysis          title  \n",
       "0                   2  Killing Floor  "
      ]
     },
     "execution_count": 49,
     "metadata": {},
     "output_type": "execute_result"
    }
   ],
   "source": [
    "df_filtrado.head(1)"
   ]
  },
  {
   "cell_type": "code",
   "execution_count": 50,
   "metadata": {},
   "outputs": [],
   "source": [
    "# Agrupar por 'item_id' y contar los valores 2 en la columna 'sentimiento'\n",
    "conteo_sentimiento_2 = df_filtrado[df_filtrado['sentiment_analysis'] == 2].groupby('item_id').size()\n"
   ]
  },
  {
   "cell_type": "code",
   "execution_count": 51,
   "metadata": {},
   "outputs": [
    {
     "data": {
      "text/plain": [
       "item_id\n",
       "440.0       72\n",
       "620.0       25\n",
       "105600.0    21\n",
       "4000.0      19\n",
       "1250.0      14\n",
       "            ..\n",
       "15710.0      1\n",
       "15700.0      1\n",
       "15520.0      1\n",
       "13600.0      1\n",
       "24740.0      1\n",
       "Length: 138, dtype: int64"
      ]
     },
     "execution_count": 51,
     "metadata": {},
     "output_type": "execute_result"
    }
   ],
   "source": [
    "# Ordenar en orden descendente según el conteo\n",
    "conteo_sentimiento_2 = conteo_sentimiento_2.sort_values(ascending=False)\n",
    "conteo_sentimiento_2\n"
   ]
  },
  {
   "cell_type": "code",
   "execution_count": 52,
   "metadata": {},
   "outputs": [],
   "source": [
    "top_3 = conteo_sentimiento_2.head(3)"
   ]
  },
  {
   "cell_type": "code",
   "execution_count": 53,
   "metadata": {},
   "outputs": [],
   "source": [
    "# Obtener títulos de los ítems más recomendados\n",
    "items_recomendados = top_3.index.tolist()\n",
    "titulos_recomendados = df3[df3['item_id'].isin(items_recomendados)][['item_id', 'title']] \\\n",
    "                                .drop_duplicates().set_index('item_id').loc[items_recomendados]"
   ]
  },
  {
   "cell_type": "code",
   "execution_count": 54,
   "metadata": {},
   "outputs": [
    {
     "data": {
      "text/html": [
       "<div>\n",
       "<style scoped>\n",
       "    .dataframe tbody tr th:only-of-type {\n",
       "        vertical-align: middle;\n",
       "    }\n",
       "\n",
       "    .dataframe tbody tr th {\n",
       "        vertical-align: top;\n",
       "    }\n",
       "\n",
       "    .dataframe thead th {\n",
       "        text-align: right;\n",
       "    }\n",
       "</style>\n",
       "<table border=\"1\" class=\"dataframe\">\n",
       "  <thead>\n",
       "    <tr style=\"text-align: right;\">\n",
       "      <th></th>\n",
       "      <th>title</th>\n",
       "    </tr>\n",
       "  </thead>\n",
       "  <tbody>\n",
       "    <tr>\n",
       "      <th>0</th>\n",
       "      <td>Team Fortress 2</td>\n",
       "    </tr>\n",
       "    <tr>\n",
       "      <th>1</th>\n",
       "      <td>Portal 2</td>\n",
       "    </tr>\n",
       "    <tr>\n",
       "      <th>2</th>\n",
       "      <td>Terraria</td>\n",
       "    </tr>\n",
       "  </tbody>\n",
       "</table>\n",
       "</div>"
      ],
      "text/plain": [
       "             title\n",
       "0  Team Fortress 2\n",
       "1         Portal 2\n",
       "2         Terraria"
      ]
     },
     "execution_count": 54,
     "metadata": {},
     "output_type": "execute_result"
    }
   ],
   "source": [
    "titulos_recomendados = titulos_recomendados.reset_index(drop=True)\n",
    "titulos_recomendados"
   ]
  },
  {
   "cell_type": "code",
   "execution_count": 55,
   "metadata": {},
   "outputs": [
    {
     "data": {
      "text/plain": [
       "['Primero: ', 'Segundo: ', 'Tercero: ']"
      ]
     },
     "execution_count": 55,
     "metadata": {},
     "output_type": "execute_result"
    }
   ],
   "source": [
    "clave = ['Primero: ', 'Segundo: ', 'Tercero: ']\n",
    "clave"
   ]
  },
  {
   "cell_type": "code",
   "execution_count": 56,
   "metadata": {},
   "outputs": [
    {
     "data": {
      "text/plain": [
       "array(['Team Fortress 2', 'Portal 2', 'Terraria'], dtype=object)"
      ]
     },
     "execution_count": 56,
     "metadata": {},
     "output_type": "execute_result"
    }
   ],
   "source": [
    "valor = titulos_recomendados['title'].values\n",
    "valor"
   ]
  },
  {
   "cell_type": "code",
   "execution_count": 57,
   "metadata": {},
   "outputs": [],
   "source": [
    "# Crear un diccionario a partir de los arrays usando zip()\n",
    "diccionario = dict(zip(clave, valor))"
   ]
  },
  {
   "cell_type": "code",
   "execution_count": 58,
   "metadata": {},
   "outputs": [
    {
     "data": {
      "text/plain": [
       "{'Primero: ': 'Team Fortress 2',\n",
       " 'Segundo: ': 'Portal 2',\n",
       " 'Tercero: ': 'Terraria'}"
      ]
     },
     "execution_count": 58,
     "metadata": {},
     "output_type": "execute_result"
    }
   ],
   "source": [
    "diccionario"
   ]
  },
  {
   "cell_type": "code",
   "execution_count": 59,
   "metadata": {},
   "outputs": [],
   "source": [
    "def UsersRecommend(año):\n",
    "    \n",
    "    df3 = pd.read_csv('CSV//consulta3.csv', sep=',', encoding='UTF-8')\n",
    "    df_filtrado = df3[df3['posted year'] == año] \n",
    "    \n",
    "    # Agrupar por 'item_id' y contar los valores 2 en la columna 'sentimiento'\n",
    "    conteo_sentimiento_2 = df_filtrado[df_filtrado['sentiment_analysis'] == 2].groupby('item_id').size()\n",
    "    \n",
    "    # Ordenar en orden descendente según el conteo\n",
    "    conteo_sentimiento_2 = conteo_sentimiento_2.sort_values(ascending=False)\n",
    "    top_3 = conteo_sentimiento_2.head(3)\n",
    "\n",
    "    # Obtener títulos de los ítems más recomendados\n",
    "    items_recomendados = top_3.index.tolist()\n",
    "    titulos_recomendados = df3[df3['item_id'].isin(items_recomendados)][['item_id', 'title']] \\\n",
    "                            .drop_duplicates().set_index('item_id').loc[items_recomendados]\n",
    "    # Obtener los títulos como una lista para el diccionario\n",
    "    valores = titulos_recomendados['title'].values.tolist()\n",
    "\n",
    "    # Crear el diccionario con claves fijas para los primeros 3 títulos\n",
    "    claves = ['Primero: ', 'Segundo: ', 'Tercero: ']\n",
    "    diccionario = dict(zip(claves, valores))\n",
    "    return diccionario\n"
   ]
  },
  {
   "cell_type": "code",
   "execution_count": 60,
   "metadata": {},
   "outputs": [
    {
     "data": {
      "text/plain": [
       "{'Primero: ': 'Team Fortress 2',\n",
       " 'Segundo: ': 'Counter-Strike: Global Offensive',\n",
       " 'Tercero: ': \"Garry's Mod\"}"
      ]
     },
     "execution_count": 60,
     "metadata": {},
     "output_type": "execute_result"
    }
   ],
   "source": [
    "UsersRecommend(2014)"
   ]
  },
  {
   "cell_type": "markdown",
   "metadata": {},
   "source": [
    "# ENDPOINT NRO 4 "
   ]
  },
  {
   "cell_type": "markdown",
   "metadata": {},
   "source": [
    "def UsersWorstDeveloper( año: int ) :<br>\n",
    "Devuelve el top 3 de desarrolladores con juegos MENOS recomendados por usuarios para el año dado.<br> \n",
    "(reviews.recommend = False y comentarios negativos)"
   ]
  },
  {
   "cell_type": "code",
   "execution_count": 61,
   "metadata": {},
   "outputs": [],
   "source": [
    "df_users_reviews = pd.read_csv(\"CSV//australian_user_reviews.csv\", sep=\",\", encoding='UTF-8')"
   ]
  },
  {
   "cell_type": "code",
   "execution_count": 62,
   "metadata": {},
   "outputs": [
    {
     "data": {
      "text/html": [
       "<div>\n",
       "<style scoped>\n",
       "    .dataframe tbody tr th:only-of-type {\n",
       "        vertical-align: middle;\n",
       "    }\n",
       "\n",
       "    .dataframe tbody tr th {\n",
       "        vertical-align: top;\n",
       "    }\n",
       "\n",
       "    .dataframe thead th {\n",
       "        text-align: right;\n",
       "    }\n",
       "</style>\n",
       "<table border=\"1\" class=\"dataframe\">\n",
       "  <thead>\n",
       "    <tr style=\"text-align: right;\">\n",
       "      <th></th>\n",
       "      <th>user_id</th>\n",
       "      <th>item_id</th>\n",
       "      <th>recommend</th>\n",
       "      <th>review</th>\n",
       "      <th>posted year</th>\n",
       "      <th>sentiment_analysis</th>\n",
       "    </tr>\n",
       "  </thead>\n",
       "  <tbody>\n",
       "    <tr>\n",
       "      <th>0</th>\n",
       "      <td>76561197970982479</td>\n",
       "      <td>1250.0</td>\n",
       "      <td>True</td>\n",
       "      <td>Simple yet with great replayability. In my opi...</td>\n",
       "      <td>2011.0</td>\n",
       "      <td>2</td>\n",
       "    </tr>\n",
       "  </tbody>\n",
       "</table>\n",
       "</div>"
      ],
      "text/plain": [
       "             user_id  item_id recommend  \\\n",
       "0  76561197970982479   1250.0      True   \n",
       "\n",
       "                                              review  posted year  \\\n",
       "0  Simple yet with great replayability. In my opi...       2011.0   \n",
       "\n",
       "   sentiment_analysis  \n",
       "0                   2  "
      ]
     },
     "execution_count": 62,
     "metadata": {},
     "output_type": "execute_result"
    }
   ],
   "source": [
    "df_users_reviews.head(1)"
   ]
  },
  {
   "cell_type": "code",
   "execution_count": 63,
   "metadata": {},
   "outputs": [],
   "source": [
    "columnas = ['item_id', 'developer']\n",
    "df_output_steam_games = pd.read_csv('CSV\\output_steaam_games.csv', usecols=columnas, sep=',', encoding='UTF-8')\n"
   ]
  },
  {
   "cell_type": "code",
   "execution_count": 64,
   "metadata": {},
   "outputs": [
    {
     "data": {
      "text/html": [
       "<div>\n",
       "<style scoped>\n",
       "    .dataframe tbody tr th:only-of-type {\n",
       "        vertical-align: middle;\n",
       "    }\n",
       "\n",
       "    .dataframe tbody tr th {\n",
       "        vertical-align: top;\n",
       "    }\n",
       "\n",
       "    .dataframe thead th {\n",
       "        text-align: right;\n",
       "    }\n",
       "</style>\n",
       "<table border=\"1\" class=\"dataframe\">\n",
       "  <thead>\n",
       "    <tr style=\"text-align: right;\">\n",
       "      <th></th>\n",
       "      <th>item_id</th>\n",
       "      <th>developer</th>\n",
       "    </tr>\n",
       "  </thead>\n",
       "  <tbody>\n",
       "    <tr>\n",
       "      <th>0</th>\n",
       "      <td>761140</td>\n",
       "      <td>Kotoshiro</td>\n",
       "    </tr>\n",
       "  </tbody>\n",
       "</table>\n",
       "</div>"
      ],
      "text/plain": [
       "   item_id  developer\n",
       "0   761140  Kotoshiro"
      ]
     },
     "execution_count": 64,
     "metadata": {},
     "output_type": "execute_result"
    }
   ],
   "source": [
    "df_output_steam_games.head(1)"
   ]
  },
  {
   "cell_type": "code",
   "execution_count": 65,
   "metadata": {},
   "outputs": [],
   "source": [
    "df_merge = df_users_reviews.merge(df_output_steam_games, on='item_id')"
   ]
  },
  {
   "cell_type": "code",
   "execution_count": 66,
   "metadata": {},
   "outputs": [],
   "source": [
    "df_merge = df_merge[df_merge['recommend'] == False]"
   ]
  },
  {
   "cell_type": "code",
   "execution_count": 67,
   "metadata": {},
   "outputs": [],
   "source": [
    "df = df_merge[['item_id', 'recommend', 'posted year', 'sentiment_analysis', 'developer']]"
   ]
  },
  {
   "cell_type": "code",
   "execution_count": 68,
   "metadata": {},
   "outputs": [
    {
     "name": "stdout",
     "output_type": "stream",
     "text": [
      "<class 'pandas.core.frame.DataFrame'>\n",
      "Index: 14031 entries, 29 to 120656\n",
      "Data columns (total 5 columns):\n",
      " #   Column              Non-Null Count  Dtype  \n",
      "---  ------              --------------  -----  \n",
      " 0   item_id             14031 non-null  float64\n",
      " 1   recommend           14031 non-null  object \n",
      " 2   posted year         9993 non-null   float64\n",
      " 3   sentiment_analysis  14031 non-null  int64  \n",
      " 4   developer           14031 non-null  object \n",
      "dtypes: float64(2), int64(1), object(2)\n",
      "memory usage: 657.7+ KB\n"
     ]
    }
   ],
   "source": [
    "df.info()"
   ]
  },
  {
   "cell_type": "code",
   "execution_count": 69,
   "metadata": {},
   "outputs": [],
   "source": [
    "df = df.dropna()"
   ]
  },
  {
   "cell_type": "code",
   "execution_count": 70,
   "metadata": {},
   "outputs": [],
   "source": [
    "df['posted year'] = df['posted year'].astype(int)"
   ]
  },
  {
   "cell_type": "code",
   "execution_count": 71,
   "metadata": {},
   "outputs": [],
   "source": [
    "df.to_csv('CSV\\consulta4.csv', index=False)"
   ]
  },
  {
   "cell_type": "code",
   "execution_count": 72,
   "metadata": {},
   "outputs": [],
   "source": [
    "df4 = pd.read_csv('CSV\\consulta4.csv', sep=',', encoding='UTF-8')"
   ]
  },
  {
   "cell_type": "code",
   "execution_count": 73,
   "metadata": {},
   "outputs": [],
   "source": [
    "año = 2012\n",
    "df_filtrado = df4[df4['posted year'] == año] "
   ]
  },
  {
   "cell_type": "code",
   "execution_count": 74,
   "metadata": {},
   "outputs": [
    {
     "data": {
      "text/html": [
       "<div>\n",
       "<style scoped>\n",
       "    .dataframe tbody tr th:only-of-type {\n",
       "        vertical-align: middle;\n",
       "    }\n",
       "\n",
       "    .dataframe tbody tr th {\n",
       "        vertical-align: top;\n",
       "    }\n",
       "\n",
       "    .dataframe thead th {\n",
       "        text-align: right;\n",
       "    }\n",
       "</style>\n",
       "<table border=\"1\" class=\"dataframe\">\n",
       "  <thead>\n",
       "    <tr style=\"text-align: right;\">\n",
       "      <th></th>\n",
       "      <th>item_id</th>\n",
       "      <th>recommend</th>\n",
       "      <th>posted year</th>\n",
       "      <th>sentiment_analysis</th>\n",
       "      <th>developer</th>\n",
       "    </tr>\n",
       "  </thead>\n",
       "  <tbody>\n",
       "    <tr>\n",
       "      <th>470</th>\n",
       "      <td>440.0</td>\n",
       "      <td>False</td>\n",
       "      <td>2012</td>\n",
       "      <td>0</td>\n",
       "      <td>Valve</td>\n",
       "    </tr>\n",
       "    <tr>\n",
       "      <th>471</th>\n",
       "      <td>440.0</td>\n",
       "      <td>False</td>\n",
       "      <td>2012</td>\n",
       "      <td>0</td>\n",
       "      <td>Valve</td>\n",
       "    </tr>\n",
       "    <tr>\n",
       "      <th>3964</th>\n",
       "      <td>209870.0</td>\n",
       "      <td>False</td>\n",
       "      <td>2012</td>\n",
       "      <td>2</td>\n",
       "      <td>Hardsuit Labs</td>\n",
       "    </tr>\n",
       "    <tr>\n",
       "      <th>3965</th>\n",
       "      <td>209870.0</td>\n",
       "      <td>False</td>\n",
       "      <td>2012</td>\n",
       "      <td>2</td>\n",
       "      <td>Hardsuit Labs</td>\n",
       "    </tr>\n",
       "    <tr>\n",
       "      <th>5452</th>\n",
       "      <td>24240.0</td>\n",
       "      <td>False</td>\n",
       "      <td>2012</td>\n",
       "      <td>2</td>\n",
       "      <td>OVERKILL Software</td>\n",
       "    </tr>\n",
       "    <tr>\n",
       "      <th>5883</th>\n",
       "      <td>209100.0</td>\n",
       "      <td>False</td>\n",
       "      <td>2012</td>\n",
       "      <td>0</td>\n",
       "      <td>Slant Six Games</td>\n",
       "    </tr>\n",
       "    <tr>\n",
       "      <th>6314</th>\n",
       "      <td>202970.0</td>\n",
       "      <td>False</td>\n",
       "      <td>2012</td>\n",
       "      <td>0</td>\n",
       "      <td>Treyarch</td>\n",
       "    </tr>\n",
       "    <tr>\n",
       "      <th>6424</th>\n",
       "      <td>10680.0</td>\n",
       "      <td>False</td>\n",
       "      <td>2012</td>\n",
       "      <td>2</td>\n",
       "      <td>Rebellion</td>\n",
       "    </tr>\n",
       "    <tr>\n",
       "      <th>8030</th>\n",
       "      <td>57740.0</td>\n",
       "      <td>False</td>\n",
       "      <td>2012</td>\n",
       "      <td>2</td>\n",
       "      <td>Coreplay GmbH,Bigmoon Studios</td>\n",
       "    </tr>\n",
       "    <tr>\n",
       "      <th>8031</th>\n",
       "      <td>57740.0</td>\n",
       "      <td>False</td>\n",
       "      <td>2012</td>\n",
       "      <td>2</td>\n",
       "      <td>Coreplay GmbH,Bigmoon Studios</td>\n",
       "    </tr>\n",
       "  </tbody>\n",
       "</table>\n",
       "</div>"
      ],
      "text/plain": [
       "       item_id  recommend  posted year  sentiment_analysis  \\\n",
       "470      440.0      False         2012                   0   \n",
       "471      440.0      False         2012                   0   \n",
       "3964  209870.0      False         2012                   2   \n",
       "3965  209870.0      False         2012                   2   \n",
       "5452   24240.0      False         2012                   2   \n",
       "5883  209100.0      False         2012                   0   \n",
       "6314  202970.0      False         2012                   0   \n",
       "6424   10680.0      False         2012                   2   \n",
       "8030   57740.0      False         2012                   2   \n",
       "8031   57740.0      False         2012                   2   \n",
       "\n",
       "                          developer  \n",
       "470                           Valve  \n",
       "471                           Valve  \n",
       "3964                  Hardsuit Labs  \n",
       "3965                  Hardsuit Labs  \n",
       "5452              OVERKILL Software  \n",
       "5883                Slant Six Games  \n",
       "6314                       Treyarch  \n",
       "6424                      Rebellion  \n",
       "8030  Coreplay GmbH,Bigmoon Studios  \n",
       "8031  Coreplay GmbH,Bigmoon Studios  "
      ]
     },
     "execution_count": 74,
     "metadata": {},
     "output_type": "execute_result"
    }
   ],
   "source": [
    "df_filtrado.head(10)"
   ]
  },
  {
   "cell_type": "code",
   "execution_count": 75,
   "metadata": {},
   "outputs": [],
   "source": [
    "# Agrupar por 'item_id' y contar los valores 2 en la columna 'sentimiento'\n",
    "conteo_sentimiento_0 = df_filtrado[df_filtrado['sentiment_analysis'] == 0].groupby('item_id').size()"
   ]
  },
  {
   "cell_type": "code",
   "execution_count": 76,
   "metadata": {},
   "outputs": [
    {
     "data": {
      "text/plain": [
       "item_id\n",
       "440.0       2\n",
       "42920.0     1\n",
       "55110.0     1\n",
       "202970.0    1\n",
       "209100.0    1\n",
       "dtype: int64"
      ]
     },
     "execution_count": 76,
     "metadata": {},
     "output_type": "execute_result"
    }
   ],
   "source": [
    "# Ordenar en orden descendente según el conteo\n",
    "conteo_sentimiento_0 = conteo_sentimiento_0.sort_values(ascending=False)\n",
    "conteo_sentimiento_0"
   ]
  },
  {
   "cell_type": "code",
   "execution_count": 77,
   "metadata": {},
   "outputs": [],
   "source": [
    "top_3 = conteo_sentimiento_0.head(3)"
   ]
  },
  {
   "cell_type": "code",
   "execution_count": 78,
   "metadata": {},
   "outputs": [],
   "source": [
    "# Obtener títulos de los ítems más recomendados\n",
    "items_menos_recomendados = top_3.index.tolist()"
   ]
  },
  {
   "cell_type": "code",
   "execution_count": 79,
   "metadata": {},
   "outputs": [
    {
     "data": {
      "text/plain": [
       "[440.0, 42920.0, 55110.0]"
      ]
     },
     "execution_count": 79,
     "metadata": {},
     "output_type": "execute_result"
    }
   ],
   "source": [
    "items_menos_recomendados"
   ]
  },
  {
   "cell_type": "code",
   "execution_count": 80,
   "metadata": {},
   "outputs": [],
   "source": [
    "\n",
    "developer_menos_recomendados = df4[df4['item_id'].isin(items_menos_recomendados)][['item_id', 'developer']] \\\n",
    "                                .drop_duplicates().set_index('item_id').loc[items_menos_recomendados]"
   ]
  },
  {
   "cell_type": "code",
   "execution_count": 81,
   "metadata": {},
   "outputs": [
    {
     "data": {
      "text/html": [
       "<div>\n",
       "<style scoped>\n",
       "    .dataframe tbody tr th:only-of-type {\n",
       "        vertical-align: middle;\n",
       "    }\n",
       "\n",
       "    .dataframe tbody tr th {\n",
       "        vertical-align: top;\n",
       "    }\n",
       "\n",
       "    .dataframe thead th {\n",
       "        text-align: right;\n",
       "    }\n",
       "</style>\n",
       "<table border=\"1\" class=\"dataframe\">\n",
       "  <thead>\n",
       "    <tr style=\"text-align: right;\">\n",
       "      <th></th>\n",
       "      <th>developer</th>\n",
       "    </tr>\n",
       "  </thead>\n",
       "  <tbody>\n",
       "    <tr>\n",
       "      <th>0</th>\n",
       "      <td>Valve</td>\n",
       "    </tr>\n",
       "    <tr>\n",
       "      <th>1</th>\n",
       "      <td>NeoCoreGames</td>\n",
       "    </tr>\n",
       "    <tr>\n",
       "      <th>2</th>\n",
       "      <td>Volition</td>\n",
       "    </tr>\n",
       "  </tbody>\n",
       "</table>\n",
       "</div>"
      ],
      "text/plain": [
       "      developer\n",
       "0         Valve\n",
       "1  NeoCoreGames\n",
       "2      Volition"
      ]
     },
     "execution_count": 81,
     "metadata": {},
     "output_type": "execute_result"
    }
   ],
   "source": [
    "developer_menos_recomendados = developer_menos_recomendados.reset_index(drop=True)\n",
    "developer_menos_recomendados"
   ]
  },
  {
   "cell_type": "code",
   "execution_count": 82,
   "metadata": {},
   "outputs": [
    {
     "data": {
      "text/plain": [
       "['Puesto 1: ', 'Puesto 2: ', 'Puesto 3: ']"
      ]
     },
     "execution_count": 82,
     "metadata": {},
     "output_type": "execute_result"
    }
   ],
   "source": [
    "clave = ['Puesto 1: ', 'Puesto 2: ', 'Puesto 3: ']\n",
    "clave"
   ]
  },
  {
   "cell_type": "code",
   "execution_count": 83,
   "metadata": {},
   "outputs": [
    {
     "data": {
      "text/plain": [
       "array(['Valve', 'NeoCoreGames', 'Volition'], dtype=object)"
      ]
     },
     "execution_count": 83,
     "metadata": {},
     "output_type": "execute_result"
    }
   ],
   "source": [
    "valor = developer_menos_recomendados['developer'].values\n",
    "valor"
   ]
  },
  {
   "cell_type": "code",
   "execution_count": 84,
   "metadata": {},
   "outputs": [],
   "source": [
    "# Crear un diccionario a partir de los arrays usando zip()\n",
    "diccionario = dict(zip(clave, valor))"
   ]
  },
  {
   "cell_type": "code",
   "execution_count": 85,
   "metadata": {},
   "outputs": [
    {
     "data": {
      "text/plain": [
       "{'Puesto 1: ': 'Valve', 'Puesto 2: ': 'NeoCoreGames', 'Puesto 3: ': 'Volition'}"
      ]
     },
     "execution_count": 85,
     "metadata": {},
     "output_type": "execute_result"
    }
   ],
   "source": [
    "diccionario"
   ]
  },
  {
   "cell_type": "code",
   "execution_count": 86,
   "metadata": {},
   "outputs": [],
   "source": [
    "def UsersWorstDeveloper(año):\n",
    "    df4 = pd.read_csv('CSV\\consulta4.csv', sep=',', encoding='UTF-8')\n",
    "    df_filtrado = df4[df4['posted year'] == año] \n",
    "    # Agrupar por 'item_id' y contar los valores 2 en la columna 'sentimiento'\n",
    "    conteo_sentimiento_0 = df_filtrado[df_filtrado['sentiment_analysis'] == 0].groupby('item_id').size()\n",
    "    # Ordenar en orden descendente según el conteo\n",
    "    conteo_sentimiento_0 = conteo_sentimiento_0.sort_values(ascending=False)\n",
    "    top_3 = conteo_sentimiento_0.head(3)\n",
    "    # Obtener títulos de los ítems más recomendados\n",
    "    items_menos_recomendados = top_3.index.tolist()\n",
    "    developer_menos_recomendados = df4[df4['item_id'].isin(items_menos_recomendados)][['item_id', 'developer']] \\\n",
    "                                .drop_duplicates().set_index('item_id').loc[items_menos_recomendados]\n",
    "    developer_menos_recomendados = developer_menos_recomendados.reset_index(drop=True)\n",
    "    clave = ['Primero: ', 'Segundo: ', 'Tercero: ']\n",
    "    valor = developer_menos_recomendados['developer'].values\n",
    "    # Crear un diccionario a partir de los arrays usando zip()\n",
    "    diccionario = dict(zip(clave, valor))\n",
    "\n",
    "    return diccionario\n"
   ]
  },
  {
   "cell_type": "code",
   "execution_count": 87,
   "metadata": {},
   "outputs": [
    {
     "data": {
      "text/plain": [
       "{'Primero: ': 'Valve', 'Segundo: ': 'NeoCoreGames', 'Tercero: ': 'Volition'}"
      ]
     },
     "execution_count": 87,
     "metadata": {},
     "output_type": "execute_result"
    }
   ],
   "source": [
    "UsersWorstDeveloper(2012)"
   ]
  },
  {
   "cell_type": "markdown",
   "metadata": {},
   "source": [
    "# ENDPOINT NRO 5 "
   ]
  },
  {
   "cell_type": "markdown",
   "metadata": {},
   "source": [
    "def sentiment_analysis( empresa desarrolladora: str ) :<br> \n",
    "Según la empresa desarrolladora, se devuelve un diccionario con el nombre de la desarrolladora como llave y <br> \n",
    "una lista con la cantidad total de registros de reseñas de usuarios que se encuentran categorizados con un análisis de sentimiento como valor."
   ]
  },
  {
   "cell_type": "code",
   "execution_count": 88,
   "metadata": {},
   "outputs": [],
   "source": [
    "# Seleccionamos las columnas que vamos a usar y cargamos el dataframe a partir del archivo csv\n",
    "columnas = ['user_id','item_id', 'sentiment_analysis']\n",
    "df_users_reviews = pd.read_csv(\"CSV//australian_user_reviews.csv\",usecols= columnas ,sep=\",\", encoding='UTF-8')"
   ]
  },
  {
   "cell_type": "code",
   "execution_count": 89,
   "metadata": {},
   "outputs": [],
   "source": [
    "# eliminamos los valores NaN\n",
    "df_users_reviews.dropna(inplace=True)"
   ]
  },
  {
   "cell_type": "code",
   "execution_count": 90,
   "metadata": {},
   "outputs": [],
   "source": [
    "# Convertimos a int los valores de la columna item:id\n",
    "df_users_reviews['item_id'] = df_users_reviews['item_id'].astype(int)"
   ]
  },
  {
   "cell_type": "code",
   "execution_count": 91,
   "metadata": {},
   "outputs": [],
   "source": [
    "# Seleccionamos las columnas que vamos a usar y cargamos el dataframe a partir del archivo csv\n",
    "columnas = ['item_id', 'developer']\n",
    "df_output_steam_games = pd.read_csv('CSV\\output_steaam_games.csv', usecols=columnas, sep=',', encoding='UTF-8')"
   ]
  },
  {
   "cell_type": "code",
   "execution_count": 92,
   "metadata": {},
   "outputs": [
    {
     "name": "stdout",
     "output_type": "stream",
     "text": [
      "<class 'pandas.core.frame.DataFrame'>\n",
      "RangeIndex: 55612 entries, 0 to 55611\n",
      "Data columns (total 2 columns):\n",
      " #   Column     Non-Null Count  Dtype \n",
      "---  ------     --------------  ----- \n",
      " 0   item_id    55612 non-null  int64 \n",
      " 1   developer  55612 non-null  object\n",
      "dtypes: int64(1), object(1)\n",
      "memory usage: 869.1+ KB\n"
     ]
    }
   ],
   "source": [
    "df_output_steam_games.info()"
   ]
  },
  {
   "cell_type": "code",
   "execution_count": 93,
   "metadata": {},
   "outputs": [],
   "source": [
    "# Unimos los dos dataframe\n",
    "df_merge = df_users_reviews.merge(df_output_steam_games, on='item_id')"
   ]
  },
  {
   "cell_type": "code",
   "execution_count": 94,
   "metadata": {},
   "outputs": [
    {
     "data": {
      "text/html": [
       "<div>\n",
       "<style scoped>\n",
       "    .dataframe tbody tr th:only-of-type {\n",
       "        vertical-align: middle;\n",
       "    }\n",
       "\n",
       "    .dataframe tbody tr th {\n",
       "        vertical-align: top;\n",
       "    }\n",
       "\n",
       "    .dataframe thead th {\n",
       "        text-align: right;\n",
       "    }\n",
       "</style>\n",
       "<table border=\"1\" class=\"dataframe\">\n",
       "  <thead>\n",
       "    <tr style=\"text-align: right;\">\n",
       "      <th></th>\n",
       "      <th>user_id</th>\n",
       "      <th>item_id</th>\n",
       "      <th>sentiment_analysis</th>\n",
       "      <th>developer</th>\n",
       "    </tr>\n",
       "  </thead>\n",
       "  <tbody>\n",
       "    <tr>\n",
       "      <th>0</th>\n",
       "      <td>76561197970982479</td>\n",
       "      <td>1250</td>\n",
       "      <td>2</td>\n",
       "      <td>Tripwire Interactive</td>\n",
       "    </tr>\n",
       "    <tr>\n",
       "      <th>1</th>\n",
       "      <td>death-hunter</td>\n",
       "      <td>1250</td>\n",
       "      <td>2</td>\n",
       "      <td>Tripwire Interactive</td>\n",
       "    </tr>\n",
       "    <tr>\n",
       "      <th>2</th>\n",
       "      <td>DJKamBer</td>\n",
       "      <td>1250</td>\n",
       "      <td>0</td>\n",
       "      <td>Tripwire Interactive</td>\n",
       "    </tr>\n",
       "    <tr>\n",
       "      <th>3</th>\n",
       "      <td>diego9031</td>\n",
       "      <td>1250</td>\n",
       "      <td>2</td>\n",
       "      <td>Tripwire Interactive</td>\n",
       "    </tr>\n",
       "    <tr>\n",
       "      <th>4</th>\n",
       "      <td>76561198081962345</td>\n",
       "      <td>1250</td>\n",
       "      <td>2</td>\n",
       "      <td>Tripwire Interactive</td>\n",
       "    </tr>\n",
       "    <tr>\n",
       "      <th>...</th>\n",
       "      <td>...</td>\n",
       "      <td>...</td>\n",
       "      <td>...</td>\n",
       "      <td>...</td>\n",
       "    </tr>\n",
       "    <tr>\n",
       "      <th>120668</th>\n",
       "      <td>MeloncraftLP</td>\n",
       "      <td>262850</td>\n",
       "      <td>2</td>\n",
       "      <td>SkyGoblin</td>\n",
       "    </tr>\n",
       "    <tr>\n",
       "      <th>120669</th>\n",
       "      <td>vinquility</td>\n",
       "      <td>431510</td>\n",
       "      <td>2</td>\n",
       "      <td>Aeon Dream Studios</td>\n",
       "    </tr>\n",
       "    <tr>\n",
       "      <th>120670</th>\n",
       "      <td>vinquility</td>\n",
       "      <td>431510</td>\n",
       "      <td>2</td>\n",
       "      <td>Aeon Dream Studios</td>\n",
       "    </tr>\n",
       "    <tr>\n",
       "      <th>120671</th>\n",
       "      <td>vinquility</td>\n",
       "      <td>431510</td>\n",
       "      <td>2</td>\n",
       "      <td>Aeon Dream Studios</td>\n",
       "    </tr>\n",
       "    <tr>\n",
       "      <th>120672</th>\n",
       "      <td>vinquility</td>\n",
       "      <td>431510</td>\n",
       "      <td>2</td>\n",
       "      <td>Aeon Dream Studios</td>\n",
       "    </tr>\n",
       "  </tbody>\n",
       "</table>\n",
       "<p>120673 rows × 4 columns</p>\n",
       "</div>"
      ],
      "text/plain": [
       "                  user_id  item_id  sentiment_analysis             developer\n",
       "0       76561197970982479     1250                   2  Tripwire Interactive\n",
       "1            death-hunter     1250                   2  Tripwire Interactive\n",
       "2                DJKamBer     1250                   0  Tripwire Interactive\n",
       "3               diego9031     1250                   2  Tripwire Interactive\n",
       "4       76561198081962345     1250                   2  Tripwire Interactive\n",
       "...                   ...      ...                 ...                   ...\n",
       "120668       MeloncraftLP   262850                   2             SkyGoblin\n",
       "120669         vinquility   431510                   2    Aeon Dream Studios\n",
       "120670         vinquility   431510                   2    Aeon Dream Studios\n",
       "120671         vinquility   431510                   2    Aeon Dream Studios\n",
       "120672         vinquility   431510                   2    Aeon Dream Studios\n",
       "\n",
       "[120673 rows x 4 columns]"
      ]
     },
     "execution_count": 94,
     "metadata": {},
     "output_type": "execute_result"
    }
   ],
   "source": [
    "df_merge"
   ]
  },
  {
   "cell_type": "code",
   "execution_count": 95,
   "metadata": {},
   "outputs": [
    {
     "name": "stdout",
     "output_type": "stream",
     "text": [
      "<class 'pandas.core.frame.DataFrame'>\n",
      "RangeIndex: 120673 entries, 0 to 120672\n",
      "Data columns (total 4 columns):\n",
      " #   Column              Non-Null Count   Dtype \n",
      "---  ------              --------------   ----- \n",
      " 0   user_id             120673 non-null  object\n",
      " 1   item_id             120673 non-null  int32 \n",
      " 2   sentiment_analysis  120673 non-null  int64 \n",
      " 3   developer           120673 non-null  object\n",
      "dtypes: int32(1), int64(1), object(2)\n",
      "memory usage: 3.2+ MB\n"
     ]
    }
   ],
   "source": [
    "df_merge.info()"
   ]
  },
  {
   "cell_type": "code",
   "execution_count": 96,
   "metadata": {},
   "outputs": [],
   "source": [
    "# Filtramos por developer\n",
    "df_filtrado = df_merge[df_merge['developer'] == 'Coreplay GmbH,Bigmoon Studios']"
   ]
  },
  {
   "cell_type": "code",
   "execution_count": 97,
   "metadata": {},
   "outputs": [
    {
     "data": {
      "text/html": [
       "<div>\n",
       "<style scoped>\n",
       "    .dataframe tbody tr th:only-of-type {\n",
       "        vertical-align: middle;\n",
       "    }\n",
       "\n",
       "    .dataframe tbody tr th {\n",
       "        vertical-align: top;\n",
       "    }\n",
       "\n",
       "    .dataframe thead th {\n",
       "        text-align: right;\n",
       "    }\n",
       "</style>\n",
       "<table border=\"1\" class=\"dataframe\">\n",
       "  <thead>\n",
       "    <tr style=\"text-align: right;\">\n",
       "      <th></th>\n",
       "      <th>user_id</th>\n",
       "      <th>item_id</th>\n",
       "      <th>sentiment_analysis</th>\n",
       "      <th>developer</th>\n",
       "    </tr>\n",
       "  </thead>\n",
       "  <tbody>\n",
       "    <tr>\n",
       "      <th>104755</th>\n",
       "      <td>companothemuslim</td>\n",
       "      <td>57740</td>\n",
       "      <td>0</td>\n",
       "      <td>Coreplay GmbH,Bigmoon Studios</td>\n",
       "    </tr>\n",
       "    <tr>\n",
       "      <th>104756</th>\n",
       "      <td>companothemuslim</td>\n",
       "      <td>57740</td>\n",
       "      <td>0</td>\n",
       "      <td>Coreplay GmbH,Bigmoon Studios</td>\n",
       "    </tr>\n",
       "    <tr>\n",
       "      <th>104757</th>\n",
       "      <td>companothemuslim</td>\n",
       "      <td>57740</td>\n",
       "      <td>0</td>\n",
       "      <td>Coreplay GmbH,Bigmoon Studios</td>\n",
       "    </tr>\n",
       "    <tr>\n",
       "      <th>104758</th>\n",
       "      <td>heyitissantooo</td>\n",
       "      <td>57740</td>\n",
       "      <td>2</td>\n",
       "      <td>Coreplay GmbH,Bigmoon Studios</td>\n",
       "    </tr>\n",
       "    <tr>\n",
       "      <th>104759</th>\n",
       "      <td>heyitissantooo</td>\n",
       "      <td>57740</td>\n",
       "      <td>2</td>\n",
       "      <td>Coreplay GmbH,Bigmoon Studios</td>\n",
       "    </tr>\n",
       "    <tr>\n",
       "      <th>104760</th>\n",
       "      <td>heyitissantooo</td>\n",
       "      <td>57740</td>\n",
       "      <td>2</td>\n",
       "      <td>Coreplay GmbH,Bigmoon Studios</td>\n",
       "    </tr>\n",
       "  </tbody>\n",
       "</table>\n",
       "</div>"
      ],
      "text/plain": [
       "                 user_id  item_id  sentiment_analysis  \\\n",
       "104755  companothemuslim    57740                   0   \n",
       "104756  companothemuslim    57740                   0   \n",
       "104757  companothemuslim    57740                   0   \n",
       "104758    heyitissantooo    57740                   2   \n",
       "104759    heyitissantooo    57740                   2   \n",
       "104760    heyitissantooo    57740                   2   \n",
       "\n",
       "                            developer  \n",
       "104755  Coreplay GmbH,Bigmoon Studios  \n",
       "104756  Coreplay GmbH,Bigmoon Studios  \n",
       "104757  Coreplay GmbH,Bigmoon Studios  \n",
       "104758  Coreplay GmbH,Bigmoon Studios  \n",
       "104759  Coreplay GmbH,Bigmoon Studios  \n",
       "104760  Coreplay GmbH,Bigmoon Studios  "
      ]
     },
     "execution_count": 97,
     "metadata": {},
     "output_type": "execute_result"
    }
   ],
   "source": [
    "df_filtrado"
   ]
  },
  {
   "cell_type": "code",
   "execution_count": 98,
   "metadata": {},
   "outputs": [],
   "source": [
    "# Obtener el conteo de cada valor en la columna 'sentimiento'\n",
    "conteo_sentimientos = df_filtrado['sentiment_analysis'].value_counts()\n",
    "\n",
    "# Almacenar los recuentos de cada valor en variables separadas\n",
    "valor_0 = conteo_sentimientos.get(0, 0)  # Si no hay valores 0, asigna 0\n",
    "valor_1 = conteo_sentimientos.get(1, 0)  # Si no hay valores 1, asigna 0\n",
    "valor_2 = conteo_sentimientos.get(2, 0)  # Si no hay valores 2, asigna 0\n"
   ]
  },
  {
   "cell_type": "code",
   "execution_count": 99,
   "metadata": {},
   "outputs": [],
   "source": [
    "# Preparo los datos para obtener la salida reequerida\n",
    "r0 = 'Negativo = '\n",
    "r1 = 'Neutro = '\n",
    "r2 = 'Positivo = '\n",
    "# Cargo en una lista el valor concatenado de los resultados con su respectivo mensaje\n",
    "lista = [f\"{r0}{valor_0}\",f\"{r1}{valor_1}\", f\"{r2}{valor_2}\"]"
   ]
  },
  {
   "cell_type": "code",
   "execution_count": 100,
   "metadata": {},
   "outputs": [
    {
     "data": {
      "text/plain": [
       "['Negativo = 3', 'Neutro = 0', 'Positivo = 3']"
      ]
     },
     "execution_count": 100,
     "metadata": {},
     "output_type": "execute_result"
    }
   ],
   "source": [
    "lista"
   ]
  },
  {
   "cell_type": "code",
   "execution_count": 101,
   "metadata": {},
   "outputs": [],
   "source": [
    "def sentiment_analysis(empresa: str):\n",
    "    \n",
    "    # Seleccionamos las columnas que vamos a usar y cargamos el dataframe a partir del archivo csv\n",
    "    columnas = ['user_id','item_id', 'sentiment_analysis']\n",
    "    df_users_reviews = pd.read_csv(\"CSV//australian_user_reviews.csv\",usecols= columnas ,sep=\",\", encoding='UTF-8')\n",
    "    \n",
    "    # eliminamos los valores NaN\n",
    "    df_users_reviews.dropna(inplace=True)\n",
    "    # Convertimos a int los valores de la columna item:id\n",
    "    df_users_reviews['item_id'] = df_users_reviews['item_id'].astype(int)\n",
    "\n",
    "    # Seleccionamos las columnas que vamos a usar y cargamos el dataframe a partir del archivo csv\n",
    "    columnas = ['item_id', 'developer']\n",
    "    df_output_steam_games = pd.read_csv('CSV\\output_steaam_games.csv', usecols=columnas, sep=',', encoding='UTF-8')\n",
    "\n",
    "    # Unimos los dos dataframe\n",
    "    df_merge = df_users_reviews.merge(df_output_steam_games, on='item_id')\n",
    "\n",
    "    # Filtramos por developer\n",
    "    df_filtrado = df_merge[df_merge['developer'] == empresa]\n",
    "\n",
    "    # Obtengo el conteo de cada valor en la columna 'sentiment_analysis'\n",
    "    conteo_sentimientos = df_filtrado['sentiment_analysis'].value_counts()\n",
    "\n",
    "    # Almaceno los recuentos de cada valor en variables separadas\n",
    "    valor_0 = conteo_sentimientos.get(0, 0)  # Si no hay valores 0, asigna 0\n",
    "    valor_1 = conteo_sentimientos.get(1, 0)  # Si no hay valores 1, asigna 0\n",
    "    valor_2 = conteo_sentimientos.get(2, 0)  # Si no hay valores 2, asigna 0\n",
    "\n",
    "    # Preparo los datos para obtener la salida reequerida\n",
    "    r0 = 'Negativo = '\n",
    "    r1 = 'Neutro = '\n",
    "    r2 = 'Positivo = '\n",
    "    # Cargo en una lista el valor concatenado de los resultados con su respectivo mensaje\n",
    "    lista = [f\"{r0}{valor_0}\",f\"{r1}{valor_1}\", f\"{r2}{valor_2}\"]\n",
    "    \n",
    "    return {empresa: lista}\n",
    "    \n",
    "    \n",
    "    \n",
    "    "
   ]
  },
  {
   "cell_type": "code",
   "execution_count": 102,
   "metadata": {},
   "outputs": [
    {
     "data": {
      "text/plain": [
       "{'SkyGoblin': ['Negativo = 0', 'Neutro = 0', 'Positivo = 4']}"
      ]
     },
     "execution_count": 102,
     "metadata": {},
     "output_type": "execute_result"
    }
   ],
   "source": [
    "empresa = 'SkyGoblin'\n",
    "sentiment_analysis(empresa)"
   ]
  },
  {
   "cell_type": "markdown",
   "metadata": {},
   "source": [
    "# ENDPOINT NRO 6"
   ]
  },
  {
   "cell_type": "markdown",
   "metadata": {},
   "source": [
    "-*el modelo deberá tener una relación ítem-ítem, esto es se toma un ítem, en base a que tan similar ese ítem al resto, se recomiendan similares. Aquí la entrada es un juego y la salida es una lista de juegos recomendados, para ello recomendamos aplicar la similitud del código*"
   ]
  },
  {
   "cell_type": "code",
   "execution_count": 103,
   "metadata": {},
   "outputs": [],
   "source": [
    "import pandas as pd\n",
    "import numpy as np\n",
    "from sklearn.feature_extraction.text import TfidfVectorizer\n",
    "from sklearn.metrics.pairwise import cosine_similarity"
   ]
  },
  {
   "cell_type": "code",
   "execution_count": 104,
   "metadata": {},
   "outputs": [],
   "source": [
    "col2 = ['item_id', 'title']\n",
    "df_output_steam_games = pd.read_csv('CSV\\\\output_steaam_games.csv', usecols=col2, sep=',', encoding='UTF-8')"
   ]
  },
  {
   "cell_type": "code",
   "execution_count": 105,
   "metadata": {},
   "outputs": [
    {
     "data": {
      "text/plain": [
       "(55612, 2)"
      ]
     },
     "execution_count": 105,
     "metadata": {},
     "output_type": "execute_result"
    }
   ],
   "source": [
    "df_output_steam_games.shape"
   ]
  },
  {
   "cell_type": "code",
   "execution_count": 106,
   "metadata": {},
   "outputs": [
    {
     "data": {
      "text/html": [
       "<div>\n",
       "<style scoped>\n",
       "    .dataframe tbody tr th:only-of-type {\n",
       "        vertical-align: middle;\n",
       "    }\n",
       "\n",
       "    .dataframe tbody tr th {\n",
       "        vertical-align: top;\n",
       "    }\n",
       "\n",
       "    .dataframe thead th {\n",
       "        text-align: right;\n",
       "    }\n",
       "</style>\n",
       "<table border=\"1\" class=\"dataframe\">\n",
       "  <thead>\n",
       "    <tr style=\"text-align: right;\">\n",
       "      <th></th>\n",
       "      <th>title</th>\n",
       "      <th>item_id</th>\n",
       "    </tr>\n",
       "  </thead>\n",
       "  <tbody>\n",
       "    <tr>\n",
       "      <th>0</th>\n",
       "      <td>Lost Summoner Kitty</td>\n",
       "      <td>761140</td>\n",
       "    </tr>\n",
       "    <tr>\n",
       "      <th>1</th>\n",
       "      <td>Lost Summoner Kitty</td>\n",
       "      <td>761140</td>\n",
       "    </tr>\n",
       "  </tbody>\n",
       "</table>\n",
       "</div>"
      ],
      "text/plain": [
       "                 title  item_id\n",
       "0  Lost Summoner Kitty   761140\n",
       "1  Lost Summoner Kitty   761140"
      ]
     },
     "execution_count": 106,
     "metadata": {},
     "output_type": "execute_result"
    }
   ],
   "source": [
    "df_output_steam_games.head(2)"
   ]
  },
  {
   "cell_type": "code",
   "execution_count": 107,
   "metadata": {},
   "outputs": [],
   "source": [
    "df = df_output_steam_games.drop_duplicates()"
   ]
  },
  {
   "cell_type": "code",
   "execution_count": 108,
   "metadata": {},
   "outputs": [
    {
     "data": {
      "text/plain": [
       "(22529, 2)"
      ]
     },
     "execution_count": 108,
     "metadata": {},
     "output_type": "execute_result"
    }
   ],
   "source": [
    "df.shape"
   ]
  },
  {
   "cell_type": "code",
   "execution_count": 116,
   "metadata": {},
   "outputs": [],
   "source": [
    "porcentaje = 0.4\n",
    "subset = df.sample(frac=porcentaje, random_state=42)"
   ]
  },
  {
   "cell_type": "code",
   "execution_count": 117,
   "metadata": {},
   "outputs": [
    {
     "data": {
      "text/plain": [
       "(9012, 2)"
      ]
     },
     "execution_count": 117,
     "metadata": {},
     "output_type": "execute_result"
    }
   ],
   "source": [
    "subset.shape"
   ]
  },
  {
   "cell_type": "code",
   "execution_count": 118,
   "metadata": {},
   "outputs": [],
   "source": [
    "subset.to_csv('CSV\\consulta6.csv', index=False)"
   ]
  },
  {
   "cell_type": "code",
   "execution_count": 111,
   "metadata": {},
   "outputs": [],
   "source": [
    "df = pd.read_csv('CSV\\consulta6.csv',sep=',', encoding='UTF-8')"
   ]
  },
  {
   "cell_type": "code",
   "execution_count": 112,
   "metadata": {},
   "outputs": [
    {
     "name": "stdout",
     "output_type": "stream",
     "text": [
      "<class 'pandas.core.frame.DataFrame'>\n",
      "RangeIndex: 22529 entries, 0 to 22528\n",
      "Data columns (total 2 columns):\n",
      " #   Column   Non-Null Count  Dtype \n",
      "---  ------   --------------  ----- \n",
      " 0   title    22529 non-null  object\n",
      " 1   item_id  22529 non-null  int64 \n",
      "dtypes: int64(1), object(1)\n",
      "memory usage: 352.1+ KB\n"
     ]
    }
   ],
   "source": [
    "df.info()"
   ]
  },
  {
   "cell_type": "code",
   "execution_count": 113,
   "metadata": {},
   "outputs": [],
   "source": [
    "item = 761140"
   ]
  },
  {
   "cell_type": "code",
   "execution_count": 114,
   "metadata": {},
   "outputs": [],
   "source": [
    "def obtener_title_por_id(item: int):\n",
    "    \n",
    "    titulo = df.loc[df['item_id'] == item, 'title'].values\n",
    "    if len(titulo) > 0:\n",
    "        titulo = titulo[0]\n",
    "        #Crear un vectorizador TF-IDF\n",
    "        \n",
    "        top_5 = 5\n",
    "        vectorizer = TfidfVectorizer()\n",
    "        tfidf_matrix = vectorizer.fit_transform(df['title'])\n",
    "        top_5 = 5\n",
    "        idx = df[df['title'] == titulo].index[0]\n",
    "        sim_scores = list(enumerate(cosine_similarity[idx]))\n",
    "        sim_scores = sorted(sim_scores, key=lambda x: x[1], reverse = True)\n",
    "        top_5 = int(top_5)\n",
    "        sim_scores = sim_scores[1:top_5+1]\n",
    "        game_indices = [i[0] for i in sim_scores]\n",
    "        resultado = {\"Juegos recomendados por Item-ltem \":titulo}\n",
    "        diccionario = df['title'].iloc[game_indices].tolist()\n",
    "      \n",
    "        return resultado,diccionario\n",
    "\n",
    "      \n",
    "    else:\n",
    "        return None "
   ]
  },
  {
   "cell_type": "code",
   "execution_count": 115,
   "metadata": {},
   "outputs": [
    {
     "ename": "TypeError",
     "evalue": "'function' object is not subscriptable",
     "output_type": "error",
     "traceback": [
      "\u001b[1;31m---------------------------------------------------------------------------\u001b[0m",
      "\u001b[1;31mTypeError\u001b[0m                                 Traceback (most recent call last)",
      "\u001b[1;32mc:\\Users\\ALUMNO\\Desktop\\Proyectos\\PI_Data17\\trabajo.ipynb Cell 143\u001b[0m line \u001b[0;36m1\n\u001b[1;32m----> <a href='vscode-notebook-cell:/c%3A/Users/ALUMNO/Desktop/Proyectos/PI_Data17/trabajo.ipynb#Y261sZmlsZQ%3D%3D?line=0'>1</a>\u001b[0m obtener_title_por_id(item)\n",
      "\u001b[1;32mc:\\Users\\ALUMNO\\Desktop\\Proyectos\\PI_Data17\\trabajo.ipynb Cell 143\u001b[0m line \u001b[0;36m1\n\u001b[0;32m     <a href='vscode-notebook-cell:/c%3A/Users/ALUMNO/Desktop/Proyectos/PI_Data17/trabajo.ipynb#Y261sZmlsZQ%3D%3D?line=10'>11</a>\u001b[0m top_5 \u001b[39m=\u001b[39m \u001b[39m5\u001b[39m\n\u001b[0;32m     <a href='vscode-notebook-cell:/c%3A/Users/ALUMNO/Desktop/Proyectos/PI_Data17/trabajo.ipynb#Y261sZmlsZQ%3D%3D?line=11'>12</a>\u001b[0m idx \u001b[39m=\u001b[39m df[df[\u001b[39m'\u001b[39m\u001b[39mtitle\u001b[39m\u001b[39m'\u001b[39m] \u001b[39m==\u001b[39m titulo]\u001b[39m.\u001b[39mindex[\u001b[39m0\u001b[39m]\n\u001b[1;32m---> <a href='vscode-notebook-cell:/c%3A/Users/ALUMNO/Desktop/Proyectos/PI_Data17/trabajo.ipynb#Y261sZmlsZQ%3D%3D?line=12'>13</a>\u001b[0m sim_scores \u001b[39m=\u001b[39m \u001b[39mlist\u001b[39m(\u001b[39menumerate\u001b[39m(cosine_similarity[idx]))\n\u001b[0;32m     <a href='vscode-notebook-cell:/c%3A/Users/ALUMNO/Desktop/Proyectos/PI_Data17/trabajo.ipynb#Y261sZmlsZQ%3D%3D?line=13'>14</a>\u001b[0m sim_scores \u001b[39m=\u001b[39m \u001b[39msorted\u001b[39m(sim_scores, key\u001b[39m=\u001b[39m\u001b[39mlambda\u001b[39;00m x: x[\u001b[39m1\u001b[39m], reverse \u001b[39m=\u001b[39m \u001b[39mTrue\u001b[39;00m)\n\u001b[0;32m     <a href='vscode-notebook-cell:/c%3A/Users/ALUMNO/Desktop/Proyectos/PI_Data17/trabajo.ipynb#Y261sZmlsZQ%3D%3D?line=14'>15</a>\u001b[0m top_5 \u001b[39m=\u001b[39m \u001b[39mint\u001b[39m(top_5)\n",
      "\u001b[1;31mTypeError\u001b[0m: 'function' object is not subscriptable"
     ]
    }
   ],
   "source": [
    "obtener_title_por_id(item)"
   ]
  },
  {
   "cell_type": "code",
   "execution_count": null,
   "metadata": {},
   "outputs": [],
   "source": [
    "\n",
    "def recomendacion_juego(item: int):\n",
    "    df = pd.read_csv('CSV//consulta6.csv', sep=',', encoding='UTF-8')\n",
    "    \n",
    "    # Verifica si el item_id existe en el DataFrame\n",
    "    if item in df['item_id'].values:\n",
    "        # Obtén el título del juego para el item_id dado\n",
    "        titulo = df.loc[df['item_id'] == item, 'title'].values[0]\n",
    "        \n",
    "        # Calcula la matriz TF-IDF\n",
    "        vectorizer = TfidfVectorizer()\n",
    "        tfidf_matrix = vectorizer.fit_transform(df['title'])\n",
    "        \n",
    "        # Calcula la similitud de coseno entre todos los títulos\n",
    "        sim_scores = cosine_similarity(tfidf_matrix, tfidf_matrix)\n",
    "        \n",
    "        # Encuentra los índices de los juegos más similares (excluyendo el propio juego)\n",
    "        idx = df[df['title'] == titulo].index[0]\n",
    "        game_indices = sim_scores[idx].argsort()[-6:-1][::-1]\n",
    "        \n",
    "        # Obtiene los títulos de los juegos recomendados\n",
    "        juegos_recomendados = df.iloc[game_indices]['title'].tolist()\n",
    "        \n",
    "        return {\n",
    "            \"Juego consultado\": titulo,\n",
    "            \"Juegos recomendados\": juegos_recomendados\n",
    "        }\n",
    "    else:\n",
    "        return {\"error\": \"El item_id no existe en el DataFrame.\"}\n",
    "\n"
   ]
  },
  {
   "cell_type": "code",
   "execution_count": null,
   "metadata": {},
   "outputs": [
    {
     "data": {
      "text/plain": [
       "{'Juego consultado': 'Carmageddon Max Pack',\n",
       " 'Juegos recomendados': ['Carmageddon: Max Damage',\n",
       "  'Carmageddon TDR 2000',\n",
       "  'Carmageddon 2: Carpocalypse Now',\n",
       "  'Mad Max',\n",
       "  \"Max, an Autistic Journey - Max's Birthday DLC\"]}"
      ]
     },
     "execution_count": 144,
     "metadata": {},
     "output_type": "execute_result"
    }
   ],
   "source": [
    "recomendacion_juego(282010)"
   ]
  }
 ],
 "metadata": {
  "kernelspec": {
   "display_name": "PI",
   "language": "python",
   "name": "python3"
  },
  "language_info": {
   "codemirror_mode": {
    "name": "ipython",
    "version": 3
   },
   "file_extension": ".py",
   "mimetype": "text/x-python",
   "name": "python",
   "nbconvert_exporter": "python",
   "pygments_lexer": "ipython3",
   "version": "3.12.0"
  }
 },
 "nbformat": 4,
 "nbformat_minor": 2
}
